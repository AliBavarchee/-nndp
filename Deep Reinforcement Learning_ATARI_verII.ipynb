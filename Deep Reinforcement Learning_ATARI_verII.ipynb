{
  "cells": [
    {
      "cell_type": "code",
      "execution_count": null,
      "metadata": {
        "id": "uCRWP_P6iNpC"
      },
      "outputs": [],
      "source": []
    },
    {
      "cell_type": "markdown",
      "metadata": {
        "id": "IQuSch3doB0r"
      },
      "source": [
        "# NEURAL NETWORKS AND DEEP LEARNING\n",
        "\n",
        "---\n",
        "A.A. 2021/22 (6 CFU) - Dr. Alberto Testolin, Dr. Umberto Michieli\n",
        "---\n"
      ]
    },
    {
      "cell_type": "markdown",
      "metadata": {
        "id": "DQz7_HfkE8cE"
      },
      "source": [
        "# Homework III - Deep Reinforcement Learning\n",
        "\n",
        "Accomplished by Ali Bavarchee(1219425)\n",
        "![download.png](data:image/png;base64,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)\n",
        "\n",
        "\n"
      ]
    },
    {
      "cell_type": "code",
      "execution_count": null,
      "metadata": {
        "colab": {
          "base_uri": "https://localhost:8080/",
          "height": 1000
        },
        "id": "yIXXfeFDje48",
        "outputId": "9f668957-be51-4ba6-c507-138f987b35d8"
      },
      "outputs": [
        {
          "output_type": "stream",
          "name": "stdout",
          "text": [
            "Requirement already satisfied: gym in /usr/local/lib/python3.7/dist-packages (0.17.3)\n",
            "Requirement already satisfied: pyglet<=1.5.0,>=1.4.0 in /usr/local/lib/python3.7/dist-packages (from gym) (1.5.0)\n",
            "Requirement already satisfied: numpy>=1.10.4 in /usr/local/lib/python3.7/dist-packages (from gym) (1.19.5)\n",
            "Requirement already satisfied: scipy in /usr/local/lib/python3.7/dist-packages (from gym) (1.4.1)\n",
            "Requirement already satisfied: cloudpickle<1.7.0,>=1.2.0 in /usr/local/lib/python3.7/dist-packages (from gym) (1.3.0)\n",
            "Requirement already satisfied: future in /usr/local/lib/python3.7/dist-packages (from pyglet<=1.5.0,>=1.4.0->gym) (0.16.0)\n",
            "Collecting rich\n",
            "  Downloading rich-10.16.1-py3-none-any.whl (214 kB)\n",
            "\u001b[K     |████████████████████████████████| 214 kB 7.1 MB/s \n",
            "\u001b[?25hCollecting colorama<0.5.0,>=0.4.0\n",
            "  Downloading colorama-0.4.4-py2.py3-none-any.whl (16 kB)\n",
            "Requirement already satisfied: typing-extensions<5.0,>=3.7.4 in /usr/local/lib/python3.7/dist-packages (from rich) (3.10.0.2)\n",
            "Collecting commonmark<0.10.0,>=0.9.0\n",
            "  Downloading commonmark-0.9.1-py2.py3-none-any.whl (51 kB)\n",
            "\u001b[K     |████████████████████████████████| 51 kB 5.8 MB/s \n",
            "\u001b[?25hRequirement already satisfied: pygments<3.0.0,>=2.6.0 in /usr/local/lib/python3.7/dist-packages (from rich) (2.6.1)\n",
            "Installing collected packages: commonmark, colorama, rich\n",
            "Successfully installed colorama-0.4.4 commonmark-0.9.1 rich-10.16.1\n",
            "Collecting hiplot\n",
            "  Downloading hiplot-0.1.32-py3-none-any.whl (862 kB)\n",
            "\u001b[K     |████████████████████████████████| 862 kB 6.7 MB/s \n",
            "\u001b[?25hCollecting flask-compress\n",
            "  Downloading Flask_Compress-1.10.1-py3-none-any.whl (7.9 kB)\n",
            "Requirement already satisfied: beautifulsoup4 in /usr/local/lib/python3.7/dist-packages (from hiplot) (4.6.3)\n",
            "Collecting ipython>=7.0.1\n",
            "  Downloading ipython-7.30.1-py3-none-any.whl (791 kB)\n",
            "\u001b[K     |████████████████████████████████| 791 kB 46.3 MB/s \n",
            "\u001b[?25hRequirement already satisfied: flask in /usr/local/lib/python3.7/dist-packages (from hiplot) (1.1.4)\n",
            "Requirement already satisfied: decorator in /usr/local/lib/python3.7/dist-packages (from ipython>=7.0.1->hiplot) (4.4.2)\n",
            "Requirement already satisfied: jedi>=0.16 in /usr/local/lib/python3.7/dist-packages (from ipython>=7.0.1->hiplot) (0.18.1)\n",
            "Requirement already satisfied: matplotlib-inline in /usr/local/lib/python3.7/dist-packages (from ipython>=7.0.1->hiplot) (0.1.3)\n",
            "Requirement already satisfied: pexpect>4.3 in /usr/local/lib/python3.7/dist-packages (from ipython>=7.0.1->hiplot) (4.8.0)\n",
            "Requirement already satisfied: setuptools>=18.5 in /usr/local/lib/python3.7/dist-packages (from ipython>=7.0.1->hiplot) (57.4.0)\n",
            "Requirement already satisfied: backcall in /usr/local/lib/python3.7/dist-packages (from ipython>=7.0.1->hiplot) (0.2.0)\n",
            "Requirement already satisfied: traitlets>=4.2 in /usr/local/lib/python3.7/dist-packages (from ipython>=7.0.1->hiplot) (5.1.1)\n",
            "Collecting prompt-toolkit!=3.0.0,!=3.0.1,<3.1.0,>=2.0.0\n",
            "  Downloading prompt_toolkit-3.0.24-py3-none-any.whl (374 kB)\n",
            "\u001b[K     |████████████████████████████████| 374 kB 45.6 MB/s \n",
            "\u001b[?25hRequirement already satisfied: pygments in /usr/local/lib/python3.7/dist-packages (from ipython>=7.0.1->hiplot) (2.6.1)\n",
            "Requirement already satisfied: pickleshare in /usr/local/lib/python3.7/dist-packages (from ipython>=7.0.1->hiplot) (0.7.5)\n",
            "Requirement already satisfied: parso<0.9.0,>=0.8.0 in /usr/local/lib/python3.7/dist-packages (from jedi>=0.16->ipython>=7.0.1->hiplot) (0.8.3)\n",
            "Requirement already satisfied: ptyprocess>=0.5 in /usr/local/lib/python3.7/dist-packages (from pexpect>4.3->ipython>=7.0.1->hiplot) (0.7.0)\n",
            "Requirement already satisfied: wcwidth in /usr/local/lib/python3.7/dist-packages (from prompt-toolkit!=3.0.0,!=3.0.1,<3.1.0,>=2.0.0->ipython>=7.0.1->hiplot) (0.2.5)\n",
            "Requirement already satisfied: click<8.0,>=5.1 in /usr/local/lib/python3.7/dist-packages (from flask->hiplot) (7.1.2)\n",
            "Requirement already satisfied: Werkzeug<2.0,>=0.15 in /usr/local/lib/python3.7/dist-packages (from flask->hiplot) (1.0.1)\n",
            "Requirement already satisfied: Jinja2<3.0,>=2.10.1 in /usr/local/lib/python3.7/dist-packages (from flask->hiplot) (2.11.3)\n",
            "Requirement already satisfied: itsdangerous<2.0,>=0.24 in /usr/local/lib/python3.7/dist-packages (from flask->hiplot) (1.1.0)\n",
            "Requirement already satisfied: MarkupSafe>=0.23 in /usr/local/lib/python3.7/dist-packages (from Jinja2<3.0,>=2.10.1->flask->hiplot) (2.0.1)\n",
            "Collecting brotli\n",
            "  Downloading Brotli-1.0.9-cp37-cp37m-manylinux1_x86_64.whl (357 kB)\n",
            "\u001b[K     |████████████████████████████████| 357 kB 40.2 MB/s \n",
            "\u001b[?25hInstalling collected packages: prompt-toolkit, brotli, ipython, flask-compress, hiplot\n",
            "  Attempting uninstall: prompt-toolkit\n",
            "    Found existing installation: prompt-toolkit 1.0.18\n",
            "    Uninstalling prompt-toolkit-1.0.18:\n",
            "      Successfully uninstalled prompt-toolkit-1.0.18\n",
            "  Attempting uninstall: ipython\n",
            "    Found existing installation: ipython 5.5.0\n",
            "    Uninstalling ipython-5.5.0:\n",
            "      Successfully uninstalled ipython-5.5.0\n",
            "\u001b[31mERROR: pip's dependency resolver does not currently take into account all the packages that are installed. This behaviour is the source of the following dependency conflicts.\n",
            "jupyter-console 5.2.0 requires prompt-toolkit<2.0.0,>=1.0.0, but you have prompt-toolkit 3.0.24 which is incompatible.\n",
            "google-colab 1.0.0 requires ipython~=5.5.0, but you have ipython 7.30.1 which is incompatible.\u001b[0m\n",
            "Successfully installed brotli-1.0.9 flask-compress-1.10.1 hiplot-0.1.32 ipython-7.30.1 prompt-toolkit-3.0.24\n"
          ]
        },
        {
          "output_type": "display_data",
          "data": {
            "application/vnd.colab-display-data+json": {
              "pip_warning": {
                "packages": [
                  "IPython",
                  "prompt_toolkit"
                ]
              }
            }
          },
          "metadata": {}
        },
        {
          "output_type": "stream",
          "name": "stdout",
          "text": [
            "Get:1 https://cloud.r-project.org/bin/linux/ubuntu bionic-cran40/ InRelease [3,626 B]\n",
            "Ign:2 https://developer.download.nvidia.com/compute/cuda/repos/ubuntu1804/x86_64  InRelease\n",
            "Ign:3 https://developer.download.nvidia.com/compute/machine-learning/repos/ubuntu1804/x86_64  InRelease\n",
            "Get:4 https://developer.download.nvidia.com/compute/cuda/repos/ubuntu1804/x86_64  Release [696 B]\n",
            "Hit:5 https://developer.download.nvidia.com/compute/machine-learning/repos/ubuntu1804/x86_64  Release\n",
            "Get:6 https://developer.download.nvidia.com/compute/cuda/repos/ubuntu1804/x86_64  Release.gpg [836 B]\n",
            "Get:7 http://security.ubuntu.com/ubuntu bionic-security InRelease [88.7 kB]\n",
            "Get:8 http://ppa.launchpad.net/c2d4u.team/c2d4u4.0+/ubuntu bionic InRelease [15.9 kB]\n",
            "Hit:9 http://archive.ubuntu.com/ubuntu bionic InRelease\n",
            "Get:10 http://archive.ubuntu.com/ubuntu bionic-updates InRelease [88.7 kB]\n",
            "Hit:11 http://ppa.launchpad.net/cran/libgit2/ubuntu bionic InRelease\n",
            "Get:12 https://cloud.r-project.org/bin/linux/ubuntu bionic-cran40/ Packages [73.9 kB]\n",
            "Get:13 http://archive.ubuntu.com/ubuntu bionic-backports InRelease [74.6 kB]\n",
            "Get:14 http://ppa.launchpad.net/deadsnakes/ppa/ubuntu bionic InRelease [15.9 kB]\n",
            "Hit:16 http://ppa.launchpad.net/graphics-drivers/ppa/ubuntu bionic InRelease\n",
            "Get:17 https://developer.download.nvidia.com/compute/cuda/repos/ubuntu1804/x86_64  Packages [833 kB]\n",
            "Get:18 http://ppa.launchpad.net/c2d4u.team/c2d4u4.0+/ubuntu bionic/main Sources [1,821 kB]\n",
            "Get:19 http://security.ubuntu.com/ubuntu bionic-security/restricted amd64 Packages [691 kB]\n",
            "Get:20 http://archive.ubuntu.com/ubuntu bionic-updates/universe amd64 Packages [2,230 kB]\n",
            "Get:21 http://security.ubuntu.com/ubuntu bionic-security/universe amd64 Packages [1,452 kB]\n",
            "Get:22 http://security.ubuntu.com/ubuntu bionic-security/main amd64 Packages [2,461 kB]\n",
            "Get:23 http://ppa.launchpad.net/c2d4u.team/c2d4u4.0+/ubuntu bionic/main amd64 Packages [934 kB]\n",
            "Get:24 http://archive.ubuntu.com/ubuntu bionic-updates/main amd64 Packages [2,898 kB]\n",
            "Get:25 http://archive.ubuntu.com/ubuntu bionic-backports/universe amd64 Packages [12.6 kB]\n",
            "Get:26 http://archive.ubuntu.com/ubuntu bionic-backports/main amd64 Packages [11.6 kB]\n",
            "Get:27 http://ppa.launchpad.net/deadsnakes/ppa/ubuntu bionic/main amd64 Packages [45.3 kB]\n",
            "Fetched 13.8 MB in 6s (2,367 kB/s)\n",
            "Reading package lists... Done\n",
            "Building dependency tree       \n",
            "Reading state information... Done\n",
            "85 packages can be upgraded. Run 'apt list --upgradable' to see them.\n",
            "Reading package lists... Done\n",
            "Building dependency tree       \n",
            "Reading state information... Done\n",
            "Suggested packages:\n",
            "  libgle3\n",
            "The following NEW packages will be installed:\n",
            "  python-opengl\n",
            "0 upgraded, 1 newly installed, 0 to remove and 85 not upgraded.\n",
            "Need to get 496 kB of archives.\n",
            "After this operation, 5,416 kB of additional disk space will be used.\n",
            "Get:1 http://archive.ubuntu.com/ubuntu bionic/universe amd64 python-opengl all 3.1.0+dfsg-1 [496 kB]\n",
            "Fetched 496 kB in 1s (457 kB/s)\n",
            "Selecting previously unselected package python-opengl.\n",
            "(Reading database ... 155222 files and directories currently installed.)\n",
            "Preparing to unpack .../python-opengl_3.1.0+dfsg-1_all.deb ...\n",
            "Unpacking python-opengl (3.1.0+dfsg-1) ...\n",
            "Setting up python-opengl (3.1.0+dfsg-1) ...\n",
            "Reading package lists... Done\n",
            "Building dependency tree       \n",
            "Reading state information... Done\n",
            "The following additional packages will be installed:\n",
            "  xserver-common\n",
            "Recommended packages:\n",
            "  xfonts-base\n",
            "The following NEW packages will be installed:\n",
            "  xvfb\n",
            "The following packages will be upgraded:\n",
            "  xserver-common\n",
            "1 upgraded, 1 newly installed, 0 to remove and 84 not upgraded.\n",
            "Need to get 811 kB of archives.\n",
            "After this operation, 2,272 kB of additional disk space will be used.\n",
            "Get:1 http://archive.ubuntu.com/ubuntu bionic-updates/main amd64 xserver-common all 2:1.19.6-1ubuntu4.10 [26.9 kB]\n",
            "Get:2 http://archive.ubuntu.com/ubuntu bionic-updates/universe amd64 xvfb amd64 2:1.19.6-1ubuntu4.10 [784 kB]\n",
            "Fetched 811 kB in 1s (688 kB/s)\n",
            "(Reading database ... 157577 files and directories currently installed.)\n",
            "Preparing to unpack .../xserver-common_2%3a1.19.6-1ubuntu4.10_all.deb ...\n",
            "Unpacking xserver-common (2:1.19.6-1ubuntu4.10) over (2:1.19.6-1ubuntu4.9) ...\n",
            "Selecting previously unselected package xvfb.\n",
            "Preparing to unpack .../xvfb_2%3a1.19.6-1ubuntu4.10_amd64.deb ...\n",
            "Unpacking xvfb (2:1.19.6-1ubuntu4.10) ...\n",
            "Setting up xserver-common (2:1.19.6-1ubuntu4.10) ...\n",
            "Setting up xvfb (2:1.19.6-1ubuntu4.10) ...\n",
            "Processing triggers for man-db (2.8.3-2ubuntu0.1) ...\n",
            "Collecting pyvirtualdisplay\n",
            "  Downloading PyVirtualDisplay-2.2-py3-none-any.whl (15 kB)\n",
            "Collecting EasyProcess\n",
            "  Downloading EasyProcess-0.3-py2.py3-none-any.whl (7.9 kB)\n",
            "Installing collected packages: EasyProcess, pyvirtualdisplay\n",
            "Successfully installed EasyProcess-0.3 pyvirtualdisplay-2.2\n",
            "Collecting piglet\n",
            "  Downloading piglet-1.0.0-py2.py3-none-any.whl (2.2 kB)\n",
            "Collecting piglet-templates\n",
            "  Downloading piglet_templates-1.2.0-py3-none-any.whl (67 kB)\n",
            "\u001b[K     |████████████████████████████████| 67 kB 4.6 MB/s \n",
            "\u001b[?25hRequirement already satisfied: attrs in /usr/local/lib/python3.7/dist-packages (from piglet-templates->piglet) (21.2.0)\n",
            "Requirement already satisfied: markupsafe in /usr/local/lib/python3.7/dist-packages (from piglet-templates->piglet) (2.0.1)\n",
            "Requirement already satisfied: pyparsing in /usr/local/lib/python3.7/dist-packages (from piglet-templates->piglet) (3.0.6)\n",
            "Requirement already satisfied: astunparse in /usr/local/lib/python3.7/dist-packages (from piglet-templates->piglet) (1.6.3)\n",
            "Requirement already satisfied: six<2.0,>=1.6.1 in /usr/local/lib/python3.7/dist-packages (from astunparse->piglet-templates->piglet) (1.15.0)\n",
            "Requirement already satisfied: wheel<1.0,>=0.23.0 in /usr/local/lib/python3.7/dist-packages (from astunparse->piglet-templates->piglet) (0.37.0)\n",
            "Installing collected packages: piglet-templates, piglet\n",
            "Successfully installed piglet-1.0.0 piglet-templates-1.2.0\n"
          ]
        }
      ],
      "source": [
        "!pip install gym\n",
        "!pip install rich\n",
        "!pip install hiplot\n",
        "!apt update\n",
        "!apt-get install python-opengl -y\n",
        "!apt install xvfb -y\n",
        "!pip install pyvirtualdisplay\n",
        "!pip install piglet\n",
        "seed = 555"
      ]
    },
    {
      "cell_type": "code",
      "source": [
        "!apt update\n",
        "!apt-get install python-opengl -y\n",
        "!apt install xvfb -y\n",
        "\n",
        "seed = 555"
      ],
      "metadata": {
        "colab": {
          "base_uri": "https://localhost:8080/"
        },
        "id": "NFhl8hk8Th6v",
        "outputId": "17592435-4556-42d7-bbb5-47204fbc81ac"
      },
      "execution_count": null,
      "outputs": [
        {
          "output_type": "stream",
          "name": "stdout",
          "text": [
            "\u001b[33m\r0% [Working]\u001b[0m\r            \rHit:1 https://cloud.r-project.org/bin/linux/ubuntu bionic-cran40/ InRelease\n",
            "\u001b[33m\r0% [Connecting to archive.ubuntu.com] [Connecting to security.ubuntu.com] [Conn\u001b[0m\u001b[33m\r0% [1 InRelease gpgv 3,626 B] [Connecting to archive.ubuntu.com] [Connecting to\u001b[0m\r                                                                               \rIgn:2 https://developer.download.nvidia.com/compute/cuda/repos/ubuntu1804/x86_64  InRelease\n",
            "\u001b[33m\r0% [1 InRelease gpgv 3,626 B] [Connecting to archive.ubuntu.com] [Connecting to\u001b[0m\r                                                                               \rIgn:3 https://developer.download.nvidia.com/compute/machine-learning/repos/ubuntu1804/x86_64  InRelease\n",
            "\u001b[33m\r0% [1 InRelease gpgv 3,626 B] [Connecting to archive.ubuntu.com] [Connecting to\u001b[0m\r                                                                               \rHit:4 https://developer.download.nvidia.com/compute/cuda/repos/ubuntu1804/x86_64  Release\n",
            "\u001b[33m\r0% [1 InRelease gpgv 3,626 B] [Connecting to archive.ubuntu.com (91.189.88.142)\u001b[0m\r                                                                               \rHit:5 https://developer.download.nvidia.com/compute/machine-learning/repos/ubuntu1804/x86_64  Release\n",
            "Hit:6 http://ppa.launchpad.net/c2d4u.team/c2d4u4.0+/ubuntu bionic InRelease\n",
            "Hit:7 http://security.ubuntu.com/ubuntu bionic-security InRelease\n",
            "Hit:8 http://archive.ubuntu.com/ubuntu bionic InRelease\n",
            "Hit:10 http://archive.ubuntu.com/ubuntu bionic-updates InRelease\n",
            "Hit:11 http://ppa.launchpad.net/cran/libgit2/ubuntu bionic InRelease\n",
            "Hit:12 http://archive.ubuntu.com/ubuntu bionic-backports InRelease\n",
            "Hit:14 http://ppa.launchpad.net/deadsnakes/ppa/ubuntu bionic InRelease\n",
            "Hit:15 http://ppa.launchpad.net/graphics-drivers/ppa/ubuntu bionic InRelease\n",
            "Reading package lists... Done\n",
            "Building dependency tree       \n",
            "Reading state information... Done\n",
            "84 packages can be upgraded. Run 'apt list --upgradable' to see them.\n",
            "Reading package lists... Done\n",
            "Building dependency tree       \n",
            "Reading state information... Done\n",
            "python-opengl is already the newest version (3.1.0+dfsg-1).\n",
            "0 upgraded, 0 newly installed, 0 to remove and 84 not upgraded.\n",
            "Reading package lists... Done\n",
            "Building dependency tree       \n",
            "Reading state information... Done\n",
            "xvfb is already the newest version (2:1.19.6-1ubuntu4.10).\n",
            "0 upgraded, 0 newly installed, 0 to remove and 84 not upgraded.\n"
          ]
        }
      ]
    },
    {
      "cell_type": "code",
      "execution_count": null,
      "metadata": {
        "colab": {
          "base_uri": "https://localhost:8080/"
        },
        "id": "MPX40qcNnUu_",
        "outputId": "a1d0cd10-2f24-4f0a-9f2f-54239b71fff0"
      },
      "outputs": [
        {
          "output_type": "stream",
          "name": "stdout",
          "text": [
            "Requirement already satisfied: gym in /usr/local/lib/python3.7/dist-packages (0.17.3)\n",
            "Requirement already satisfied: numpy>=1.10.4 in /usr/local/lib/python3.7/dist-packages (from gym) (1.19.5)\n",
            "Requirement already satisfied: pyglet<=1.5.0,>=1.4.0 in /usr/local/lib/python3.7/dist-packages (from gym) (1.5.0)\n",
            "Requirement already satisfied: cloudpickle<1.7.0,>=1.2.0 in /usr/local/lib/python3.7/dist-packages (from gym) (1.3.0)\n",
            "Requirement already satisfied: scipy in /usr/local/lib/python3.7/dist-packages (from gym) (1.4.1)\n",
            "Requirement already satisfied: future in /usr/local/lib/python3.7/dist-packages (from pyglet<=1.5.0,>=1.4.0->gym) (0.16.0)\n"
          ]
        }
      ],
      "source": [
        "!pip install gym"
      ]
    },
    {
      "cell_type": "code",
      "execution_count": null,
      "metadata": {
        "id": "8EcnPG0mpO5X"
      },
      "outputs": [],
      "source": [
        "import gym\n",
        "import random\n",
        "import torch\n",
        "\n",
        "from itertools import count\n",
        "import numpy as np\n",
        "import pandas as pd\n",
        "\n",
        "import matplotlib.pyplot as plt\n",
        "from tqdm.notebook import tqdm\n",
        "\n",
        "from torch import nn\n",
        "from collections import namedtuple, deque"
      ]
    },
    {
      "cell_type": "code",
      "source": [
        "#import gym\n",
        "from gym import logger as gymlogger\n",
        "from gym.wrappers import Monitor"
      ],
      "metadata": {
        "id": "Oj9xcMdov7N1"
      },
      "execution_count": null,
      "outputs": []
    },
    {
      "cell_type": "code",
      "execution_count": null,
      "metadata": {
        "id": "SS0yo4Peq68e"
      },
      "outputs": [],
      "source": [
        "import json\n",
        "import sys\n",
        "import glob\n",
        "import io\n",
        "import base64\n",
        "import os\n",
        "\n",
        "import matplotlib.pyplot as plt\n",
        "%matplotlib inline\n",
        "import hiplot as hip\n",
        "import plotly.express as px\n",
        "import cv2\n"
      ]
    },
    {
      "cell_type": "code",
      "source": [
        "from IPython.display import HTML\n",
        "from IPython import display as ipythondisplay\n",
        "from pyvirtualdisplay import Display\n",
        "\n",
        "from IPython.display import HTML\n",
        "from IPython import display as ipythondisplay"
      ],
      "metadata": {
        "id": "bDOjPRWXx3Nk"
      },
      "execution_count": null,
      "outputs": []
    },
    {
      "cell_type": "code",
      "execution_count": null,
      "metadata": {
        "id": "eSbIJs7lqrge",
        "colab": {
          "base_uri": "https://localhost:8080/"
        },
        "outputId": "b6c4de5d-eaea-46ca-b1f4-ad76bc3de673"
      },
      "outputs": [
        {
          "output_type": "stream",
          "name": "stdout",
          "text": [
            "Ign:1 https://developer.download.nvidia.com/compute/cuda/repos/ubuntu1804/x86_64  InRelease\n",
            "Ign:2 https://developer.download.nvidia.com/compute/machine-learning/repos/ubuntu1804/x86_64  InRelease\n",
            "Hit:3 http://security.ubuntu.com/ubuntu bionic-security InRelease\n",
            "Hit:4 https://developer.download.nvidia.com/compute/cuda/repos/ubuntu1804/x86_64  Release\n",
            "Hit:5 https://developer.download.nvidia.com/compute/machine-learning/repos/ubuntu1804/x86_64  Release\n",
            "Hit:6 http://archive.ubuntu.com/ubuntu bionic InRelease\n",
            "Hit:7 http://ppa.launchpad.net/c2d4u.team/c2d4u4.0+/ubuntu bionic InRelease\n",
            "Hit:8 https://cloud.r-project.org/bin/linux/ubuntu bionic-cran40/ InRelease\n",
            "Hit:9 http://archive.ubuntu.com/ubuntu bionic-updates InRelease\n",
            "Hit:10 http://archive.ubuntu.com/ubuntu bionic-backports InRelease\n",
            "Hit:11 http://ppa.launchpad.net/cran/libgit2/ubuntu bionic InRelease\n",
            "Hit:13 http://ppa.launchpad.net/deadsnakes/ppa/ubuntu bionic InRelease\n",
            "Hit:15 http://ppa.launchpad.net/graphics-drivers/ppa/ubuntu bionic InRelease\n",
            "Reading package lists... Done\n",
            "Building dependency tree       \n",
            "Reading state information... Done\n",
            "84 packages can be upgraded. Run 'apt list --upgradable' to see them.\n",
            "Reading package lists... Done\n",
            "Building dependency tree       \n",
            "Reading state information... Done\n",
            "python-opengl is already the newest version (3.1.0+dfsg-1).\n",
            "0 upgraded, 0 newly installed, 0 to remove and 84 not upgraded.\n",
            "Reading package lists... Done\n",
            "Building dependency tree       \n",
            "Reading state information... Done\n",
            "xvfb is already the newest version (2:1.19.6-1ubuntu4.10).\n",
            "0 upgraded, 0 newly installed, 0 to remove and 84 not upgraded.\n",
            "Requirement already satisfied: pyvirtualdisplay in /usr/local/lib/python3.7/dist-packages (2.2)\n",
            "Requirement already satisfied: EasyProcess in /usr/local/lib/python3.7/dist-packages (from pyvirtualdisplay) (0.3)\n",
            "Requirement already satisfied: piglet in /usr/local/lib/python3.7/dist-packages (1.0.0)\n",
            "Requirement already satisfied: piglet-templates in /usr/local/lib/python3.7/dist-packages (from piglet) (1.2.0)\n",
            "Requirement already satisfied: attrs in /usr/local/lib/python3.7/dist-packages (from piglet-templates->piglet) (21.2.0)\n",
            "Requirement already satisfied: pyparsing in /usr/local/lib/python3.7/dist-packages (from piglet-templates->piglet) (3.0.6)\n",
            "Requirement already satisfied: markupsafe in /usr/local/lib/python3.7/dist-packages (from piglet-templates->piglet) (2.0.1)\n",
            "Requirement already satisfied: astunparse in /usr/local/lib/python3.7/dist-packages (from piglet-templates->piglet) (1.6.3)\n",
            "Requirement already satisfied: six<2.0,>=1.6.1 in /usr/local/lib/python3.7/dist-packages (from astunparse->piglet-templates->piglet) (1.15.0)\n",
            "Requirement already satisfied: wheel<1.0,>=0.23.0 in /usr/local/lib/python3.7/dist-packages (from astunparse->piglet-templates->piglet) (0.37.0)\n"
          ]
        }
      ],
      "source": [
        "!apt update\n",
        "!apt-get install python-opengl -y\n",
        "!apt install xvfb -y\n",
        "!pip install pyvirtualdisplay\n",
        "!pip install piglet"
      ]
    },
    {
      "cell_type": "code",
      "source": [
        "torch.manual_seed(seed)\n",
        "np.random.seed(seed)\n",
        "random.seed(seed)"
      ],
      "metadata": {
        "id": "Pl-g7Kqz6bww"
      },
      "execution_count": null,
      "outputs": []
    },
    {
      "cell_type": "markdown",
      "source": [
        "## Enable gym environment rendering in Colab"
      ],
      "metadata": {
        "id": "jZQVclg2ye97"
      }
    },
    {
      "cell_type": "code",
      "execution_count": null,
      "metadata": {
        "id": "LeewvWKMipxE",
        "colab": {
          "base_uri": "https://localhost:8080/"
        },
        "outputId": "ca7fe608-b295-46be-fd6f-1b2587443783"
      },
      "outputs": [
        {
          "output_type": "stream",
          "name": "stdout",
          "text": [
            "Requirement already satisfied: gym[classic_control] in /usr/local/lib/python3.7/dist-packages (0.17.3)\n",
            "Requirement already satisfied: cloudpickle<1.7.0,>=1.2.0 in /usr/local/lib/python3.7/dist-packages (from gym[classic_control]) (1.3.0)\n",
            "Requirement already satisfied: numpy>=1.10.4 in /usr/local/lib/python3.7/dist-packages (from gym[classic_control]) (1.19.5)\n",
            "Requirement already satisfied: pyglet<=1.5.0,>=1.4.0 in /usr/local/lib/python3.7/dist-packages (from gym[classic_control]) (1.5.0)\n",
            "Requirement already satisfied: scipy in /usr/local/lib/python3.7/dist-packages (from gym[classic_control]) (1.4.1)\n",
            "Requirement already satisfied: future in /usr/local/lib/python3.7/dist-packages (from pyglet<=1.5.0,>=1.4.0->gym[classic_control]) (0.16.0)\n"
          ]
        }
      ],
      "source": [
        "!pip install gym[classic_control]"
      ]
    },
    {
      "cell_type": "code",
      "source": [
        "display = Display(visible=0, size=(1400, 900))\n",
        "display.start()"
      ],
      "metadata": {
        "id": "tPVehCEixfjx",
        "colab": {
          "base_uri": "https://localhost:8080/"
        },
        "outputId": "bf835662-1358-4261-87ad-bbdf13594d65"
      },
      "execution_count": null,
      "outputs": [
        {
          "output_type": "execute_result",
          "data": {
            "text/plain": [
              "<pyvirtualdisplay.display.Display at 0x7f72aa8d0510>"
            ]
          },
          "metadata": {},
          "execution_count": 11
        }
      ]
    },
    {
      "cell_type": "code",
      "source": [
        "# This code creates a virtual display to draw game images on. \n",
        "# If you are running locally, just ignore it\n",
        "import os\n",
        "if type(os.environ.get(\"DISPLAY\")) is not str or len(os.environ.get(\"DISPLAY\"))==0:\n",
        "    !bash ../xvfb start\n",
        "    %env DISPLAY=:1"
      ],
      "metadata": {
        "id": "7Yx9sG-3btZj"
      },
      "execution_count": null,
      "outputs": []
    },
    {
      "cell_type": "code",
      "source": [
        "from gym import envs\n",
        "print(envs.registry.all())"
      ],
      "metadata": {
        "colab": {
          "base_uri": "https://localhost:8080/"
        },
        "id": "1Cq0hBY2bzw8",
        "outputId": "c6a45d6f-911d-4a9e-e45f-fce0f55c6b65"
      },
      "execution_count": null,
      "outputs": [
        {
          "output_type": "stream",
          "name": "stdout",
          "text": [
            "dict_values([EnvSpec(Copy-v0), EnvSpec(RepeatCopy-v0), EnvSpec(ReversedAddition-v0), EnvSpec(ReversedAddition3-v0), EnvSpec(DuplicatedInput-v0), EnvSpec(Reverse-v0), EnvSpec(CartPole-v0), EnvSpec(CartPole-v1), EnvSpec(MountainCar-v0), EnvSpec(MountainCarContinuous-v0), EnvSpec(Pendulum-v0), EnvSpec(Acrobot-v1), EnvSpec(LunarLander-v2), EnvSpec(LunarLanderContinuous-v2), EnvSpec(BipedalWalker-v3), EnvSpec(BipedalWalkerHardcore-v3), EnvSpec(CarRacing-v0), EnvSpec(Blackjack-v0), EnvSpec(KellyCoinflip-v0), EnvSpec(KellyCoinflipGeneralized-v0), EnvSpec(FrozenLake-v0), EnvSpec(FrozenLake8x8-v0), EnvSpec(CliffWalking-v0), EnvSpec(NChain-v0), EnvSpec(Roulette-v0), EnvSpec(Taxi-v3), EnvSpec(GuessingGame-v0), EnvSpec(HotterColder-v0), EnvSpec(Reacher-v2), EnvSpec(Pusher-v2), EnvSpec(Thrower-v2), EnvSpec(Striker-v2), EnvSpec(InvertedPendulum-v2), EnvSpec(InvertedDoublePendulum-v2), EnvSpec(HalfCheetah-v2), EnvSpec(HalfCheetah-v3), EnvSpec(Hopper-v2), EnvSpec(Hopper-v3), EnvSpec(Swimmer-v2), EnvSpec(Swimmer-v3), EnvSpec(Walker2d-v2), EnvSpec(Walker2d-v3), EnvSpec(Ant-v2), EnvSpec(Ant-v3), EnvSpec(Humanoid-v2), EnvSpec(Humanoid-v3), EnvSpec(HumanoidStandup-v2), EnvSpec(FetchSlide-v1), EnvSpec(FetchPickAndPlace-v1), EnvSpec(FetchReach-v1), EnvSpec(FetchPush-v1), EnvSpec(HandReach-v0), EnvSpec(HandManipulateBlockRotateZ-v0), EnvSpec(HandManipulateBlockRotateZTouchSensors-v0), EnvSpec(HandManipulateBlockRotateZTouchSensors-v1), EnvSpec(HandManipulateBlockRotateParallel-v0), EnvSpec(HandManipulateBlockRotateParallelTouchSensors-v0), EnvSpec(HandManipulateBlockRotateParallelTouchSensors-v1), EnvSpec(HandManipulateBlockRotateXYZ-v0), EnvSpec(HandManipulateBlockRotateXYZTouchSensors-v0), EnvSpec(HandManipulateBlockRotateXYZTouchSensors-v1), EnvSpec(HandManipulateBlockFull-v0), EnvSpec(HandManipulateBlock-v0), EnvSpec(HandManipulateBlockTouchSensors-v0), EnvSpec(HandManipulateBlockTouchSensors-v1), EnvSpec(HandManipulateEggRotate-v0), EnvSpec(HandManipulateEggRotateTouchSensors-v0), EnvSpec(HandManipulateEggRotateTouchSensors-v1), EnvSpec(HandManipulateEggFull-v0), EnvSpec(HandManipulateEgg-v0), EnvSpec(HandManipulateEggTouchSensors-v0), EnvSpec(HandManipulateEggTouchSensors-v1), EnvSpec(HandManipulatePenRotate-v0), EnvSpec(HandManipulatePenRotateTouchSensors-v0), EnvSpec(HandManipulatePenRotateTouchSensors-v1), EnvSpec(HandManipulatePenFull-v0), EnvSpec(HandManipulatePen-v0), EnvSpec(HandManipulatePenTouchSensors-v0), EnvSpec(HandManipulatePenTouchSensors-v1), EnvSpec(FetchSlideDense-v1), EnvSpec(FetchPickAndPlaceDense-v1), EnvSpec(FetchReachDense-v1), EnvSpec(FetchPushDense-v1), EnvSpec(HandReachDense-v0), EnvSpec(HandManipulateBlockRotateZDense-v0), EnvSpec(HandManipulateBlockRotateZTouchSensorsDense-v0), EnvSpec(HandManipulateBlockRotateZTouchSensorsDense-v1), EnvSpec(HandManipulateBlockRotateParallelDense-v0), EnvSpec(HandManipulateBlockRotateParallelTouchSensorsDense-v0), EnvSpec(HandManipulateBlockRotateParallelTouchSensorsDense-v1), EnvSpec(HandManipulateBlockRotateXYZDense-v0), EnvSpec(HandManipulateBlockRotateXYZTouchSensorsDense-v0), EnvSpec(HandManipulateBlockRotateXYZTouchSensorsDense-v1), EnvSpec(HandManipulateBlockFullDense-v0), EnvSpec(HandManipulateBlockDense-v0), EnvSpec(HandManipulateBlockTouchSensorsDense-v0), EnvSpec(HandManipulateBlockTouchSensorsDense-v1), EnvSpec(HandManipulateEggRotateDense-v0), EnvSpec(HandManipulateEggRotateTouchSensorsDense-v0), EnvSpec(HandManipulateEggRotateTouchSensorsDense-v1), EnvSpec(HandManipulateEggFullDense-v0), EnvSpec(HandManipulateEggDense-v0), EnvSpec(HandManipulateEggTouchSensorsDense-v0), EnvSpec(HandManipulateEggTouchSensorsDense-v1), EnvSpec(HandManipulatePenRotateDense-v0), EnvSpec(HandManipulatePenRotateTouchSensorsDense-v0), EnvSpec(HandManipulatePenRotateTouchSensorsDense-v1), EnvSpec(HandManipulatePenFullDense-v0), EnvSpec(HandManipulatePenDense-v0), EnvSpec(HandManipulatePenTouchSensorsDense-v0), EnvSpec(HandManipulatePenTouchSensorsDense-v1), EnvSpec(Adventure-v0), EnvSpec(Adventure-v4), EnvSpec(AdventureDeterministic-v0), EnvSpec(AdventureDeterministic-v4), EnvSpec(AdventureNoFrameskip-v0), EnvSpec(AdventureNoFrameskip-v4), EnvSpec(Adventure-ram-v0), EnvSpec(Adventure-ram-v4), EnvSpec(Adventure-ramDeterministic-v0), EnvSpec(Adventure-ramDeterministic-v4), EnvSpec(Adventure-ramNoFrameskip-v0), EnvSpec(Adventure-ramNoFrameskip-v4), EnvSpec(AirRaid-v0), EnvSpec(AirRaid-v4), EnvSpec(AirRaidDeterministic-v0), EnvSpec(AirRaidDeterministic-v4), EnvSpec(AirRaidNoFrameskip-v0), EnvSpec(AirRaidNoFrameskip-v4), EnvSpec(AirRaid-ram-v0), EnvSpec(AirRaid-ram-v4), EnvSpec(AirRaid-ramDeterministic-v0), EnvSpec(AirRaid-ramDeterministic-v4), EnvSpec(AirRaid-ramNoFrameskip-v0), EnvSpec(AirRaid-ramNoFrameskip-v4), EnvSpec(Alien-v0), EnvSpec(Alien-v4), EnvSpec(AlienDeterministic-v0), EnvSpec(AlienDeterministic-v4), EnvSpec(AlienNoFrameskip-v0), EnvSpec(AlienNoFrameskip-v4), EnvSpec(Alien-ram-v0), EnvSpec(Alien-ram-v4), EnvSpec(Alien-ramDeterministic-v0), EnvSpec(Alien-ramDeterministic-v4), EnvSpec(Alien-ramNoFrameskip-v0), EnvSpec(Alien-ramNoFrameskip-v4), EnvSpec(Amidar-v0), EnvSpec(Amidar-v4), EnvSpec(AmidarDeterministic-v0), EnvSpec(AmidarDeterministic-v4), EnvSpec(AmidarNoFrameskip-v0), EnvSpec(AmidarNoFrameskip-v4), EnvSpec(Amidar-ram-v0), EnvSpec(Amidar-ram-v4), EnvSpec(Amidar-ramDeterministic-v0), EnvSpec(Amidar-ramDeterministic-v4), EnvSpec(Amidar-ramNoFrameskip-v0), EnvSpec(Amidar-ramNoFrameskip-v4), EnvSpec(Assault-v0), EnvSpec(Assault-v4), EnvSpec(AssaultDeterministic-v0), EnvSpec(AssaultDeterministic-v4), EnvSpec(AssaultNoFrameskip-v0), EnvSpec(AssaultNoFrameskip-v4), EnvSpec(Assault-ram-v0), EnvSpec(Assault-ram-v4), EnvSpec(Assault-ramDeterministic-v0), EnvSpec(Assault-ramDeterministic-v4), EnvSpec(Assault-ramNoFrameskip-v0), EnvSpec(Assault-ramNoFrameskip-v4), EnvSpec(Asterix-v0), EnvSpec(Asterix-v4), EnvSpec(AsterixDeterministic-v0), EnvSpec(AsterixDeterministic-v4), EnvSpec(AsterixNoFrameskip-v0), EnvSpec(AsterixNoFrameskip-v4), EnvSpec(Asterix-ram-v0), EnvSpec(Asterix-ram-v4), EnvSpec(Asterix-ramDeterministic-v0), EnvSpec(Asterix-ramDeterministic-v4), EnvSpec(Asterix-ramNoFrameskip-v0), EnvSpec(Asterix-ramNoFrameskip-v4), EnvSpec(Asteroids-v0), EnvSpec(Asteroids-v4), EnvSpec(AsteroidsDeterministic-v0), EnvSpec(AsteroidsDeterministic-v4), EnvSpec(AsteroidsNoFrameskip-v0), EnvSpec(AsteroidsNoFrameskip-v4), EnvSpec(Asteroids-ram-v0), EnvSpec(Asteroids-ram-v4), EnvSpec(Asteroids-ramDeterministic-v0), EnvSpec(Asteroids-ramDeterministic-v4), EnvSpec(Asteroids-ramNoFrameskip-v0), EnvSpec(Asteroids-ramNoFrameskip-v4), EnvSpec(Atlantis-v0), EnvSpec(Atlantis-v4), EnvSpec(AtlantisDeterministic-v0), EnvSpec(AtlantisDeterministic-v4), EnvSpec(AtlantisNoFrameskip-v0), EnvSpec(AtlantisNoFrameskip-v4), EnvSpec(Atlantis-ram-v0), EnvSpec(Atlantis-ram-v4), EnvSpec(Atlantis-ramDeterministic-v0), EnvSpec(Atlantis-ramDeterministic-v4), EnvSpec(Atlantis-ramNoFrameskip-v0), EnvSpec(Atlantis-ramNoFrameskip-v4), EnvSpec(BankHeist-v0), EnvSpec(BankHeist-v4), EnvSpec(BankHeistDeterministic-v0), EnvSpec(BankHeistDeterministic-v4), EnvSpec(BankHeistNoFrameskip-v0), EnvSpec(BankHeistNoFrameskip-v4), EnvSpec(BankHeist-ram-v0), EnvSpec(BankHeist-ram-v4), EnvSpec(BankHeist-ramDeterministic-v0), EnvSpec(BankHeist-ramDeterministic-v4), EnvSpec(BankHeist-ramNoFrameskip-v0), EnvSpec(BankHeist-ramNoFrameskip-v4), EnvSpec(BattleZone-v0), EnvSpec(BattleZone-v4), EnvSpec(BattleZoneDeterministic-v0), EnvSpec(BattleZoneDeterministic-v4), EnvSpec(BattleZoneNoFrameskip-v0), EnvSpec(BattleZoneNoFrameskip-v4), EnvSpec(BattleZone-ram-v0), EnvSpec(BattleZone-ram-v4), EnvSpec(BattleZone-ramDeterministic-v0), EnvSpec(BattleZone-ramDeterministic-v4), EnvSpec(BattleZone-ramNoFrameskip-v0), EnvSpec(BattleZone-ramNoFrameskip-v4), EnvSpec(BeamRider-v0), EnvSpec(BeamRider-v4), EnvSpec(BeamRiderDeterministic-v0), EnvSpec(BeamRiderDeterministic-v4), EnvSpec(BeamRiderNoFrameskip-v0), EnvSpec(BeamRiderNoFrameskip-v4), EnvSpec(BeamRider-ram-v0), EnvSpec(BeamRider-ram-v4), EnvSpec(BeamRider-ramDeterministic-v0), EnvSpec(BeamRider-ramDeterministic-v4), EnvSpec(BeamRider-ramNoFrameskip-v0), EnvSpec(BeamRider-ramNoFrameskip-v4), EnvSpec(Berzerk-v0), EnvSpec(Berzerk-v4), EnvSpec(BerzerkDeterministic-v0), EnvSpec(BerzerkDeterministic-v4), EnvSpec(BerzerkNoFrameskip-v0), EnvSpec(BerzerkNoFrameskip-v4), EnvSpec(Berzerk-ram-v0), EnvSpec(Berzerk-ram-v4), EnvSpec(Berzerk-ramDeterministic-v0), EnvSpec(Berzerk-ramDeterministic-v4), EnvSpec(Berzerk-ramNoFrameskip-v0), EnvSpec(Berzerk-ramNoFrameskip-v4), EnvSpec(Bowling-v0), EnvSpec(Bowling-v4), EnvSpec(BowlingDeterministic-v0), EnvSpec(BowlingDeterministic-v4), EnvSpec(BowlingNoFrameskip-v0), EnvSpec(BowlingNoFrameskip-v4), EnvSpec(Bowling-ram-v0), EnvSpec(Bowling-ram-v4), EnvSpec(Bowling-ramDeterministic-v0), EnvSpec(Bowling-ramDeterministic-v4), EnvSpec(Bowling-ramNoFrameskip-v0), EnvSpec(Bowling-ramNoFrameskip-v4), EnvSpec(Boxing-v0), EnvSpec(Boxing-v4), EnvSpec(BoxingDeterministic-v0), EnvSpec(BoxingDeterministic-v4), EnvSpec(BoxingNoFrameskip-v0), EnvSpec(BoxingNoFrameskip-v4), EnvSpec(Boxing-ram-v0), EnvSpec(Boxing-ram-v4), EnvSpec(Boxing-ramDeterministic-v0), EnvSpec(Boxing-ramDeterministic-v4), EnvSpec(Boxing-ramNoFrameskip-v0), EnvSpec(Boxing-ramNoFrameskip-v4), EnvSpec(Breakout-v0), EnvSpec(Breakout-v4), EnvSpec(BreakoutDeterministic-v0), EnvSpec(BreakoutDeterministic-v4), EnvSpec(BreakoutNoFrameskip-v0), EnvSpec(BreakoutNoFrameskip-v4), EnvSpec(Breakout-ram-v0), EnvSpec(Breakout-ram-v4), EnvSpec(Breakout-ramDeterministic-v0), EnvSpec(Breakout-ramDeterministic-v4), EnvSpec(Breakout-ramNoFrameskip-v0), EnvSpec(Breakout-ramNoFrameskip-v4), EnvSpec(Carnival-v0), EnvSpec(Carnival-v4), EnvSpec(CarnivalDeterministic-v0), EnvSpec(CarnivalDeterministic-v4), EnvSpec(CarnivalNoFrameskip-v0), EnvSpec(CarnivalNoFrameskip-v4), EnvSpec(Carnival-ram-v0), EnvSpec(Carnival-ram-v4), EnvSpec(Carnival-ramDeterministic-v0), EnvSpec(Carnival-ramDeterministic-v4), EnvSpec(Carnival-ramNoFrameskip-v0), EnvSpec(Carnival-ramNoFrameskip-v4), EnvSpec(Centipede-v0), EnvSpec(Centipede-v4), EnvSpec(CentipedeDeterministic-v0), EnvSpec(CentipedeDeterministic-v4), EnvSpec(CentipedeNoFrameskip-v0), EnvSpec(CentipedeNoFrameskip-v4), EnvSpec(Centipede-ram-v0), EnvSpec(Centipede-ram-v4), EnvSpec(Centipede-ramDeterministic-v0), EnvSpec(Centipede-ramDeterministic-v4), EnvSpec(Centipede-ramNoFrameskip-v0), EnvSpec(Centipede-ramNoFrameskip-v4), EnvSpec(ChopperCommand-v0), EnvSpec(ChopperCommand-v4), EnvSpec(ChopperCommandDeterministic-v0), EnvSpec(ChopperCommandDeterministic-v4), EnvSpec(ChopperCommandNoFrameskip-v0), EnvSpec(ChopperCommandNoFrameskip-v4), EnvSpec(ChopperCommand-ram-v0), EnvSpec(ChopperCommand-ram-v4), EnvSpec(ChopperCommand-ramDeterministic-v0), EnvSpec(ChopperCommand-ramDeterministic-v4), EnvSpec(ChopperCommand-ramNoFrameskip-v0), EnvSpec(ChopperCommand-ramNoFrameskip-v4), EnvSpec(CrazyClimber-v0), EnvSpec(CrazyClimber-v4), EnvSpec(CrazyClimberDeterministic-v0), EnvSpec(CrazyClimberDeterministic-v4), EnvSpec(CrazyClimberNoFrameskip-v0), EnvSpec(CrazyClimberNoFrameskip-v4), EnvSpec(CrazyClimber-ram-v0), EnvSpec(CrazyClimber-ram-v4), EnvSpec(CrazyClimber-ramDeterministic-v0), EnvSpec(CrazyClimber-ramDeterministic-v4), EnvSpec(CrazyClimber-ramNoFrameskip-v0), EnvSpec(CrazyClimber-ramNoFrameskip-v4), EnvSpec(Defender-v0), EnvSpec(Defender-v4), EnvSpec(DefenderDeterministic-v0), EnvSpec(DefenderDeterministic-v4), EnvSpec(DefenderNoFrameskip-v0), EnvSpec(DefenderNoFrameskip-v4), EnvSpec(Defender-ram-v0), EnvSpec(Defender-ram-v4), EnvSpec(Defender-ramDeterministic-v0), EnvSpec(Defender-ramDeterministic-v4), EnvSpec(Defender-ramNoFrameskip-v0), EnvSpec(Defender-ramNoFrameskip-v4), EnvSpec(DemonAttack-v0), EnvSpec(DemonAttack-v4), EnvSpec(DemonAttackDeterministic-v0), EnvSpec(DemonAttackDeterministic-v4), EnvSpec(DemonAttackNoFrameskip-v0), EnvSpec(DemonAttackNoFrameskip-v4), EnvSpec(DemonAttack-ram-v0), EnvSpec(DemonAttack-ram-v4), EnvSpec(DemonAttack-ramDeterministic-v0), EnvSpec(DemonAttack-ramDeterministic-v4), EnvSpec(DemonAttack-ramNoFrameskip-v0), EnvSpec(DemonAttack-ramNoFrameskip-v4), EnvSpec(DoubleDunk-v0), EnvSpec(DoubleDunk-v4), EnvSpec(DoubleDunkDeterministic-v0), EnvSpec(DoubleDunkDeterministic-v4), EnvSpec(DoubleDunkNoFrameskip-v0), EnvSpec(DoubleDunkNoFrameskip-v4), EnvSpec(DoubleDunk-ram-v0), EnvSpec(DoubleDunk-ram-v4), EnvSpec(DoubleDunk-ramDeterministic-v0), EnvSpec(DoubleDunk-ramDeterministic-v4), EnvSpec(DoubleDunk-ramNoFrameskip-v0), EnvSpec(DoubleDunk-ramNoFrameskip-v4), EnvSpec(ElevatorAction-v0), EnvSpec(ElevatorAction-v4), EnvSpec(ElevatorActionDeterministic-v0), EnvSpec(ElevatorActionDeterministic-v4), EnvSpec(ElevatorActionNoFrameskip-v0), EnvSpec(ElevatorActionNoFrameskip-v4), EnvSpec(ElevatorAction-ram-v0), EnvSpec(ElevatorAction-ram-v4), EnvSpec(ElevatorAction-ramDeterministic-v0), EnvSpec(ElevatorAction-ramDeterministic-v4), EnvSpec(ElevatorAction-ramNoFrameskip-v0), EnvSpec(ElevatorAction-ramNoFrameskip-v4), EnvSpec(Enduro-v0), EnvSpec(Enduro-v4), EnvSpec(EnduroDeterministic-v0), EnvSpec(EnduroDeterministic-v4), EnvSpec(EnduroNoFrameskip-v0), EnvSpec(EnduroNoFrameskip-v4), EnvSpec(Enduro-ram-v0), EnvSpec(Enduro-ram-v4), EnvSpec(Enduro-ramDeterministic-v0), EnvSpec(Enduro-ramDeterministic-v4), EnvSpec(Enduro-ramNoFrameskip-v0), EnvSpec(Enduro-ramNoFrameskip-v4), EnvSpec(FishingDerby-v0), EnvSpec(FishingDerby-v4), EnvSpec(FishingDerbyDeterministic-v0), EnvSpec(FishingDerbyDeterministic-v4), EnvSpec(FishingDerbyNoFrameskip-v0), EnvSpec(FishingDerbyNoFrameskip-v4), EnvSpec(FishingDerby-ram-v0), EnvSpec(FishingDerby-ram-v4), EnvSpec(FishingDerby-ramDeterministic-v0), EnvSpec(FishingDerby-ramDeterministic-v4), EnvSpec(FishingDerby-ramNoFrameskip-v0), EnvSpec(FishingDerby-ramNoFrameskip-v4), EnvSpec(Freeway-v0), EnvSpec(Freeway-v4), EnvSpec(FreewayDeterministic-v0), EnvSpec(FreewayDeterministic-v4), EnvSpec(FreewayNoFrameskip-v0), EnvSpec(FreewayNoFrameskip-v4), EnvSpec(Freeway-ram-v0), EnvSpec(Freeway-ram-v4), EnvSpec(Freeway-ramDeterministic-v0), EnvSpec(Freeway-ramDeterministic-v4), EnvSpec(Freeway-ramNoFrameskip-v0), EnvSpec(Freeway-ramNoFrameskip-v4), EnvSpec(Frostbite-v0), EnvSpec(Frostbite-v4), EnvSpec(FrostbiteDeterministic-v0), EnvSpec(FrostbiteDeterministic-v4), EnvSpec(FrostbiteNoFrameskip-v0), EnvSpec(FrostbiteNoFrameskip-v4), EnvSpec(Frostbite-ram-v0), EnvSpec(Frostbite-ram-v4), EnvSpec(Frostbite-ramDeterministic-v0), EnvSpec(Frostbite-ramDeterministic-v4), EnvSpec(Frostbite-ramNoFrameskip-v0), EnvSpec(Frostbite-ramNoFrameskip-v4), EnvSpec(Gopher-v0), EnvSpec(Gopher-v4), EnvSpec(GopherDeterministic-v0), EnvSpec(GopherDeterministic-v4), EnvSpec(GopherNoFrameskip-v0), EnvSpec(GopherNoFrameskip-v4), EnvSpec(Gopher-ram-v0), EnvSpec(Gopher-ram-v4), EnvSpec(Gopher-ramDeterministic-v0), EnvSpec(Gopher-ramDeterministic-v4), EnvSpec(Gopher-ramNoFrameskip-v0), EnvSpec(Gopher-ramNoFrameskip-v4), EnvSpec(Gravitar-v0), EnvSpec(Gravitar-v4), EnvSpec(GravitarDeterministic-v0), EnvSpec(GravitarDeterministic-v4), EnvSpec(GravitarNoFrameskip-v0), EnvSpec(GravitarNoFrameskip-v4), EnvSpec(Gravitar-ram-v0), EnvSpec(Gravitar-ram-v4), EnvSpec(Gravitar-ramDeterministic-v0), EnvSpec(Gravitar-ramDeterministic-v4), EnvSpec(Gravitar-ramNoFrameskip-v0), EnvSpec(Gravitar-ramNoFrameskip-v4), EnvSpec(Hero-v0), EnvSpec(Hero-v4), EnvSpec(HeroDeterministic-v0), EnvSpec(HeroDeterministic-v4), EnvSpec(HeroNoFrameskip-v0), EnvSpec(HeroNoFrameskip-v4), EnvSpec(Hero-ram-v0), EnvSpec(Hero-ram-v4), EnvSpec(Hero-ramDeterministic-v0), EnvSpec(Hero-ramDeterministic-v4), EnvSpec(Hero-ramNoFrameskip-v0), EnvSpec(Hero-ramNoFrameskip-v4), EnvSpec(IceHockey-v0), EnvSpec(IceHockey-v4), EnvSpec(IceHockeyDeterministic-v0), EnvSpec(IceHockeyDeterministic-v4), EnvSpec(IceHockeyNoFrameskip-v0), EnvSpec(IceHockeyNoFrameskip-v4), EnvSpec(IceHockey-ram-v0), EnvSpec(IceHockey-ram-v4), EnvSpec(IceHockey-ramDeterministic-v0), EnvSpec(IceHockey-ramDeterministic-v4), EnvSpec(IceHockey-ramNoFrameskip-v0), EnvSpec(IceHockey-ramNoFrameskip-v4), EnvSpec(Jamesbond-v0), EnvSpec(Jamesbond-v4), EnvSpec(JamesbondDeterministic-v0), EnvSpec(JamesbondDeterministic-v4), EnvSpec(JamesbondNoFrameskip-v0), EnvSpec(JamesbondNoFrameskip-v4), EnvSpec(Jamesbond-ram-v0), EnvSpec(Jamesbond-ram-v4), EnvSpec(Jamesbond-ramDeterministic-v0), EnvSpec(Jamesbond-ramDeterministic-v4), EnvSpec(Jamesbond-ramNoFrameskip-v0), EnvSpec(Jamesbond-ramNoFrameskip-v4), EnvSpec(JourneyEscape-v0), EnvSpec(JourneyEscape-v4), EnvSpec(JourneyEscapeDeterministic-v0), EnvSpec(JourneyEscapeDeterministic-v4), EnvSpec(JourneyEscapeNoFrameskip-v0), EnvSpec(JourneyEscapeNoFrameskip-v4), EnvSpec(JourneyEscape-ram-v0), EnvSpec(JourneyEscape-ram-v4), EnvSpec(JourneyEscape-ramDeterministic-v0), EnvSpec(JourneyEscape-ramDeterministic-v4), EnvSpec(JourneyEscape-ramNoFrameskip-v0), EnvSpec(JourneyEscape-ramNoFrameskip-v4), EnvSpec(Kangaroo-v0), EnvSpec(Kangaroo-v4), EnvSpec(KangarooDeterministic-v0), EnvSpec(KangarooDeterministic-v4), EnvSpec(KangarooNoFrameskip-v0), EnvSpec(KangarooNoFrameskip-v4), EnvSpec(Kangaroo-ram-v0), EnvSpec(Kangaroo-ram-v4), EnvSpec(Kangaroo-ramDeterministic-v0), EnvSpec(Kangaroo-ramDeterministic-v4), EnvSpec(Kangaroo-ramNoFrameskip-v0), EnvSpec(Kangaroo-ramNoFrameskip-v4), EnvSpec(Krull-v0), EnvSpec(Krull-v4), EnvSpec(KrullDeterministic-v0), EnvSpec(KrullDeterministic-v4), EnvSpec(KrullNoFrameskip-v0), EnvSpec(KrullNoFrameskip-v4), EnvSpec(Krull-ram-v0), EnvSpec(Krull-ram-v4), EnvSpec(Krull-ramDeterministic-v0), EnvSpec(Krull-ramDeterministic-v4), EnvSpec(Krull-ramNoFrameskip-v0), EnvSpec(Krull-ramNoFrameskip-v4), EnvSpec(KungFuMaster-v0), EnvSpec(KungFuMaster-v4), EnvSpec(KungFuMasterDeterministic-v0), EnvSpec(KungFuMasterDeterministic-v4), EnvSpec(KungFuMasterNoFrameskip-v0), EnvSpec(KungFuMasterNoFrameskip-v4), EnvSpec(KungFuMaster-ram-v0), EnvSpec(KungFuMaster-ram-v4), EnvSpec(KungFuMaster-ramDeterministic-v0), EnvSpec(KungFuMaster-ramDeterministic-v4), EnvSpec(KungFuMaster-ramNoFrameskip-v0), EnvSpec(KungFuMaster-ramNoFrameskip-v4), EnvSpec(MontezumaRevenge-v0), EnvSpec(MontezumaRevenge-v4), EnvSpec(MontezumaRevengeDeterministic-v0), EnvSpec(MontezumaRevengeDeterministic-v4), EnvSpec(MontezumaRevengeNoFrameskip-v0), EnvSpec(MontezumaRevengeNoFrameskip-v4), EnvSpec(MontezumaRevenge-ram-v0), EnvSpec(MontezumaRevenge-ram-v4), EnvSpec(MontezumaRevenge-ramDeterministic-v0), EnvSpec(MontezumaRevenge-ramDeterministic-v4), EnvSpec(MontezumaRevenge-ramNoFrameskip-v0), EnvSpec(MontezumaRevenge-ramNoFrameskip-v4), EnvSpec(MsPacman-v0), EnvSpec(MsPacman-v4), EnvSpec(MsPacmanDeterministic-v0), EnvSpec(MsPacmanDeterministic-v4), EnvSpec(MsPacmanNoFrameskip-v0), EnvSpec(MsPacmanNoFrameskip-v4), EnvSpec(MsPacman-ram-v0), EnvSpec(MsPacman-ram-v4), EnvSpec(MsPacman-ramDeterministic-v0), EnvSpec(MsPacman-ramDeterministic-v4), EnvSpec(MsPacman-ramNoFrameskip-v0), EnvSpec(MsPacman-ramNoFrameskip-v4), EnvSpec(NameThisGame-v0), EnvSpec(NameThisGame-v4), EnvSpec(NameThisGameDeterministic-v0), EnvSpec(NameThisGameDeterministic-v4), EnvSpec(NameThisGameNoFrameskip-v0), EnvSpec(NameThisGameNoFrameskip-v4), EnvSpec(NameThisGame-ram-v0), EnvSpec(NameThisGame-ram-v4), EnvSpec(NameThisGame-ramDeterministic-v0), EnvSpec(NameThisGame-ramDeterministic-v4), EnvSpec(NameThisGame-ramNoFrameskip-v0), EnvSpec(NameThisGame-ramNoFrameskip-v4), EnvSpec(Phoenix-v0), EnvSpec(Phoenix-v4), EnvSpec(PhoenixDeterministic-v0), EnvSpec(PhoenixDeterministic-v4), EnvSpec(PhoenixNoFrameskip-v0), EnvSpec(PhoenixNoFrameskip-v4), EnvSpec(Phoenix-ram-v0), EnvSpec(Phoenix-ram-v4), EnvSpec(Phoenix-ramDeterministic-v0), EnvSpec(Phoenix-ramDeterministic-v4), EnvSpec(Phoenix-ramNoFrameskip-v0), EnvSpec(Phoenix-ramNoFrameskip-v4), EnvSpec(Pitfall-v0), EnvSpec(Pitfall-v4), EnvSpec(PitfallDeterministic-v0), EnvSpec(PitfallDeterministic-v4), EnvSpec(PitfallNoFrameskip-v0), EnvSpec(PitfallNoFrameskip-v4), EnvSpec(Pitfall-ram-v0), EnvSpec(Pitfall-ram-v4), EnvSpec(Pitfall-ramDeterministic-v0), EnvSpec(Pitfall-ramDeterministic-v4), EnvSpec(Pitfall-ramNoFrameskip-v0), EnvSpec(Pitfall-ramNoFrameskip-v4), EnvSpec(Pong-v0), EnvSpec(Pong-v4), EnvSpec(PongDeterministic-v0), EnvSpec(PongDeterministic-v4), EnvSpec(PongNoFrameskip-v0), EnvSpec(PongNoFrameskip-v4), EnvSpec(Pong-ram-v0), EnvSpec(Pong-ram-v4), EnvSpec(Pong-ramDeterministic-v0), EnvSpec(Pong-ramDeterministic-v4), EnvSpec(Pong-ramNoFrameskip-v0), EnvSpec(Pong-ramNoFrameskip-v4), EnvSpec(Pooyan-v0), EnvSpec(Pooyan-v4), EnvSpec(PooyanDeterministic-v0), EnvSpec(PooyanDeterministic-v4), EnvSpec(PooyanNoFrameskip-v0), EnvSpec(PooyanNoFrameskip-v4), EnvSpec(Pooyan-ram-v0), EnvSpec(Pooyan-ram-v4), EnvSpec(Pooyan-ramDeterministic-v0), EnvSpec(Pooyan-ramDeterministic-v4), EnvSpec(Pooyan-ramNoFrameskip-v0), EnvSpec(Pooyan-ramNoFrameskip-v4), EnvSpec(PrivateEye-v0), EnvSpec(PrivateEye-v4), EnvSpec(PrivateEyeDeterministic-v0), EnvSpec(PrivateEyeDeterministic-v4), EnvSpec(PrivateEyeNoFrameskip-v0), EnvSpec(PrivateEyeNoFrameskip-v4), EnvSpec(PrivateEye-ram-v0), EnvSpec(PrivateEye-ram-v4), EnvSpec(PrivateEye-ramDeterministic-v0), EnvSpec(PrivateEye-ramDeterministic-v4), EnvSpec(PrivateEye-ramNoFrameskip-v0), EnvSpec(PrivateEye-ramNoFrameskip-v4), EnvSpec(Qbert-v0), EnvSpec(Qbert-v4), EnvSpec(QbertDeterministic-v0), EnvSpec(QbertDeterministic-v4), EnvSpec(QbertNoFrameskip-v0), EnvSpec(QbertNoFrameskip-v4), EnvSpec(Qbert-ram-v0), EnvSpec(Qbert-ram-v4), EnvSpec(Qbert-ramDeterministic-v0), EnvSpec(Qbert-ramDeterministic-v4), EnvSpec(Qbert-ramNoFrameskip-v0), EnvSpec(Qbert-ramNoFrameskip-v4), EnvSpec(Riverraid-v0), EnvSpec(Riverraid-v4), EnvSpec(RiverraidDeterministic-v0), EnvSpec(RiverraidDeterministic-v4), EnvSpec(RiverraidNoFrameskip-v0), EnvSpec(RiverraidNoFrameskip-v4), EnvSpec(Riverraid-ram-v0), EnvSpec(Riverraid-ram-v4), EnvSpec(Riverraid-ramDeterministic-v0), EnvSpec(Riverraid-ramDeterministic-v4), EnvSpec(Riverraid-ramNoFrameskip-v0), EnvSpec(Riverraid-ramNoFrameskip-v4), EnvSpec(RoadRunner-v0), EnvSpec(RoadRunner-v4), EnvSpec(RoadRunnerDeterministic-v0), EnvSpec(RoadRunnerDeterministic-v4), EnvSpec(RoadRunnerNoFrameskip-v0), EnvSpec(RoadRunnerNoFrameskip-v4), EnvSpec(RoadRunner-ram-v0), EnvSpec(RoadRunner-ram-v4), EnvSpec(RoadRunner-ramDeterministic-v0), EnvSpec(RoadRunner-ramDeterministic-v4), EnvSpec(RoadRunner-ramNoFrameskip-v0), EnvSpec(RoadRunner-ramNoFrameskip-v4), EnvSpec(Robotank-v0), EnvSpec(Robotank-v4), EnvSpec(RobotankDeterministic-v0), EnvSpec(RobotankDeterministic-v4), EnvSpec(RobotankNoFrameskip-v0), EnvSpec(RobotankNoFrameskip-v4), EnvSpec(Robotank-ram-v0), EnvSpec(Robotank-ram-v4), EnvSpec(Robotank-ramDeterministic-v0), EnvSpec(Robotank-ramDeterministic-v4), EnvSpec(Robotank-ramNoFrameskip-v0), EnvSpec(Robotank-ramNoFrameskip-v4), EnvSpec(Seaquest-v0), EnvSpec(Seaquest-v4), EnvSpec(SeaquestDeterministic-v0), EnvSpec(SeaquestDeterministic-v4), EnvSpec(SeaquestNoFrameskip-v0), EnvSpec(SeaquestNoFrameskip-v4), EnvSpec(Seaquest-ram-v0), EnvSpec(Seaquest-ram-v4), EnvSpec(Seaquest-ramDeterministic-v0), EnvSpec(Seaquest-ramDeterministic-v4), EnvSpec(Seaquest-ramNoFrameskip-v0), EnvSpec(Seaquest-ramNoFrameskip-v4), EnvSpec(Skiing-v0), EnvSpec(Skiing-v4), EnvSpec(SkiingDeterministic-v0), EnvSpec(SkiingDeterministic-v4), EnvSpec(SkiingNoFrameskip-v0), EnvSpec(SkiingNoFrameskip-v4), EnvSpec(Skiing-ram-v0), EnvSpec(Skiing-ram-v4), EnvSpec(Skiing-ramDeterministic-v0), EnvSpec(Skiing-ramDeterministic-v4), EnvSpec(Skiing-ramNoFrameskip-v0), EnvSpec(Skiing-ramNoFrameskip-v4), EnvSpec(Solaris-v0), EnvSpec(Solaris-v4), EnvSpec(SolarisDeterministic-v0), EnvSpec(SolarisDeterministic-v4), EnvSpec(SolarisNoFrameskip-v0), EnvSpec(SolarisNoFrameskip-v4), EnvSpec(Solaris-ram-v0), EnvSpec(Solaris-ram-v4), EnvSpec(Solaris-ramDeterministic-v0), EnvSpec(Solaris-ramDeterministic-v4), EnvSpec(Solaris-ramNoFrameskip-v0), EnvSpec(Solaris-ramNoFrameskip-v4), EnvSpec(SpaceInvaders-v0), EnvSpec(SpaceInvaders-v4), EnvSpec(SpaceInvadersDeterministic-v0), EnvSpec(SpaceInvadersDeterministic-v4), EnvSpec(SpaceInvadersNoFrameskip-v0), EnvSpec(SpaceInvadersNoFrameskip-v4), EnvSpec(SpaceInvaders-ram-v0), EnvSpec(SpaceInvaders-ram-v4), EnvSpec(SpaceInvaders-ramDeterministic-v0), EnvSpec(SpaceInvaders-ramDeterministic-v4), EnvSpec(SpaceInvaders-ramNoFrameskip-v0), EnvSpec(SpaceInvaders-ramNoFrameskip-v4), EnvSpec(StarGunner-v0), EnvSpec(StarGunner-v4), EnvSpec(StarGunnerDeterministic-v0), EnvSpec(StarGunnerDeterministic-v4), EnvSpec(StarGunnerNoFrameskip-v0), EnvSpec(StarGunnerNoFrameskip-v4), EnvSpec(StarGunner-ram-v0), EnvSpec(StarGunner-ram-v4), EnvSpec(StarGunner-ramDeterministic-v0), EnvSpec(StarGunner-ramDeterministic-v4), EnvSpec(StarGunner-ramNoFrameskip-v0), EnvSpec(StarGunner-ramNoFrameskip-v4), EnvSpec(Tennis-v0), EnvSpec(Tennis-v4), EnvSpec(TennisDeterministic-v0), EnvSpec(TennisDeterministic-v4), EnvSpec(TennisNoFrameskip-v0), EnvSpec(TennisNoFrameskip-v4), EnvSpec(Tennis-ram-v0), EnvSpec(Tennis-ram-v4), EnvSpec(Tennis-ramDeterministic-v0), EnvSpec(Tennis-ramDeterministic-v4), EnvSpec(Tennis-ramNoFrameskip-v0), EnvSpec(Tennis-ramNoFrameskip-v4), EnvSpec(TimePilot-v0), EnvSpec(TimePilot-v4), EnvSpec(TimePilotDeterministic-v0), EnvSpec(TimePilotDeterministic-v4), EnvSpec(TimePilotNoFrameskip-v0), EnvSpec(TimePilotNoFrameskip-v4), EnvSpec(TimePilot-ram-v0), EnvSpec(TimePilot-ram-v4), EnvSpec(TimePilot-ramDeterministic-v0), EnvSpec(TimePilot-ramDeterministic-v4), EnvSpec(TimePilot-ramNoFrameskip-v0), EnvSpec(TimePilot-ramNoFrameskip-v4), EnvSpec(Tutankham-v0), EnvSpec(Tutankham-v4), EnvSpec(TutankhamDeterministic-v0), EnvSpec(TutankhamDeterministic-v4), EnvSpec(TutankhamNoFrameskip-v0), EnvSpec(TutankhamNoFrameskip-v4), EnvSpec(Tutankham-ram-v0), EnvSpec(Tutankham-ram-v4), EnvSpec(Tutankham-ramDeterministic-v0), EnvSpec(Tutankham-ramDeterministic-v4), EnvSpec(Tutankham-ramNoFrameskip-v0), EnvSpec(Tutankham-ramNoFrameskip-v4), EnvSpec(UpNDown-v0), EnvSpec(UpNDown-v4), EnvSpec(UpNDownDeterministic-v0), EnvSpec(UpNDownDeterministic-v4), EnvSpec(UpNDownNoFrameskip-v0), EnvSpec(UpNDownNoFrameskip-v4), EnvSpec(UpNDown-ram-v0), EnvSpec(UpNDown-ram-v4), EnvSpec(UpNDown-ramDeterministic-v0), EnvSpec(UpNDown-ramDeterministic-v4), EnvSpec(UpNDown-ramNoFrameskip-v0), EnvSpec(UpNDown-ramNoFrameskip-v4), EnvSpec(Venture-v0), EnvSpec(Venture-v4), EnvSpec(VentureDeterministic-v0), EnvSpec(VentureDeterministic-v4), EnvSpec(VentureNoFrameskip-v0), EnvSpec(VentureNoFrameskip-v4), EnvSpec(Venture-ram-v0), EnvSpec(Venture-ram-v4), EnvSpec(Venture-ramDeterministic-v0), EnvSpec(Venture-ramDeterministic-v4), EnvSpec(Venture-ramNoFrameskip-v0), EnvSpec(Venture-ramNoFrameskip-v4), EnvSpec(VideoPinball-v0), EnvSpec(VideoPinball-v4), EnvSpec(VideoPinballDeterministic-v0), EnvSpec(VideoPinballDeterministic-v4), EnvSpec(VideoPinballNoFrameskip-v0), EnvSpec(VideoPinballNoFrameskip-v4), EnvSpec(VideoPinball-ram-v0), EnvSpec(VideoPinball-ram-v4), EnvSpec(VideoPinball-ramDeterministic-v0), EnvSpec(VideoPinball-ramDeterministic-v4), EnvSpec(VideoPinball-ramNoFrameskip-v0), EnvSpec(VideoPinball-ramNoFrameskip-v4), EnvSpec(WizardOfWor-v0), EnvSpec(WizardOfWor-v4), EnvSpec(WizardOfWorDeterministic-v0), EnvSpec(WizardOfWorDeterministic-v4), EnvSpec(WizardOfWorNoFrameskip-v0), EnvSpec(WizardOfWorNoFrameskip-v4), EnvSpec(WizardOfWor-ram-v0), EnvSpec(WizardOfWor-ram-v4), EnvSpec(WizardOfWor-ramDeterministic-v0), EnvSpec(WizardOfWor-ramDeterministic-v4), EnvSpec(WizardOfWor-ramNoFrameskip-v0), EnvSpec(WizardOfWor-ramNoFrameskip-v4), EnvSpec(YarsRevenge-v0), EnvSpec(YarsRevenge-v4), EnvSpec(YarsRevengeDeterministic-v0), EnvSpec(YarsRevengeDeterministic-v4), EnvSpec(YarsRevengeNoFrameskip-v0), EnvSpec(YarsRevengeNoFrameskip-v4), EnvSpec(YarsRevenge-ram-v0), EnvSpec(YarsRevenge-ram-v4), EnvSpec(YarsRevenge-ramDeterministic-v0), EnvSpec(YarsRevenge-ramDeterministic-v4), EnvSpec(YarsRevenge-ramNoFrameskip-v0), EnvSpec(YarsRevenge-ramNoFrameskip-v4), EnvSpec(Zaxxon-v0), EnvSpec(Zaxxon-v4), EnvSpec(ZaxxonDeterministic-v0), EnvSpec(ZaxxonDeterministic-v4), EnvSpec(ZaxxonNoFrameskip-v0), EnvSpec(ZaxxonNoFrameskip-v4), EnvSpec(Zaxxon-ram-v0), EnvSpec(Zaxxon-ram-v4), EnvSpec(Zaxxon-ramDeterministic-v0), EnvSpec(Zaxxon-ramDeterministic-v4), EnvSpec(Zaxxon-ramNoFrameskip-v0), EnvSpec(Zaxxon-ramNoFrameskip-v4), EnvSpec(CubeCrash-v0), EnvSpec(CubeCrashSparse-v0), EnvSpec(CubeCrashScreenBecomesBlack-v0), EnvSpec(MemorizeDigits-v0)])\n"
          ]
        }
      ]
    },
    {
      "cell_type": "code",
      "source": [
        "env = gym.make('CartPole-v0')\n",
        "env.reset()\n",
        "plt.imshow(env.render('rgb_array'))\n",
        "env.render()"
      ],
      "metadata": {
        "colab": {
          "base_uri": "https://localhost:8080/",
          "height": 286
        },
        "id": "kYK0yzLIxBHz",
        "outputId": "bde464cf-909e-4b88-e18c-4d1b5ec24c38"
      },
      "execution_count": null,
      "outputs": [
        {
          "output_type": "execute_result",
          "data": {
            "text/plain": [
              "True"
            ]
          },
          "metadata": {},
          "execution_count": 10
        },
        {
          "output_type": "display_data",
          "data": {
            "image/png": "[encoded data removed]",
            "text/plain": [
              "<Figure size 432x288 with 1 Axes>"
            ]
          },
          "metadata": {
            "needs_background": "light"
          }
        }
      ]
    },
    {
      "cell_type": "markdown",
      "source": [
        "### Utility functions for video rendering"
      ],
      "metadata": {
        "id": "p41cuyiCyvJZ"
      }
    },
    {
      "cell_type": "code",
      "source": [],
      "metadata": {
        "id": "exVyTrxKzDni"
      },
      "execution_count": null,
      "outputs": []
    },
    {
      "cell_type": "code",
      "source": [
        "\"\"\"\n",
        "Utility functions to enable video recording of gym environment and displaying it\n",
        "To enable video, just do \"env = wrap_env(env)\"\"\n",
        "\"\"\"\n",
        "\n",
        "def show_videos():\n",
        "    mp4list = glob.glob('video/*.mp4')\n",
        "    mp4list.sort()\n",
        "    for mp4 in mp4list:\n",
        "        print(f\"\\nSHOWING VIDEO {mp4}\")\n",
        "        video = io.open(mp4, 'r+b').read()\n",
        "        encoded = base64.b64encode(video)\n",
        "        ipythondisplay.display(HTML(data='''<video alt=\"test\" autoplay \n",
        "                    loop controls style=\"height: 400px;\">\n",
        "                    <source src=\"data:video/mp4;base64,{0}\" type=\"video/mp4\" />\n",
        "                 </video>'''.format(encoded.decode('ascii'))))"
      ],
      "metadata": {
        "id": "q3M2kb-oyw4z"
      },
      "execution_count": null,
      "outputs": []
    },
    {
      "cell_type": "code",
      "source": [
        "def wrap_env(env, video_callable=None):\n",
        "  env = Monitor(env, './video', force=True, video_callable=video_callable)\n",
        "  return env"
      ],
      "metadata": {
        "id": "7DBnAfQSzNmi"
      },
      "execution_count": null,
      "outputs": []
    },
    {
      "cell_type": "code",
      "source": [
        "# This code creates a virtual display to draw game images on. \n",
        "# If you are running locally, just ignore it\n",
        "if type(os.environ.get(\"DISPLAY\")) is not str or len(os.environ.get(\"DISPLAY\"))==0:\n",
        "   !bash ../xvfb start\n",
        "   %env DISPLAY=:1"
      ],
      "metadata": {
        "id": "MHgEcbbsy2G3"
      },
      "execution_count": null,
      "outputs": []
    },
    {
      "cell_type": "code",
      "source": [
        "def rnd_seed(seed):\n",
        "    torch.manual_seed(seed)    \n",
        "    np.random.seed(seed)\n",
        "    random.seed(seed)\n",
        "\n",
        "def avg_window(values, window):\n",
        "    weights = np.repeat(1.0, window)/window\n",
        "    running_avg = np.convolve(values, weights, 'valid')\n",
        "    return running_avg"
      ],
      "metadata": {
        "id": "h5VKN0X00iiw"
      },
      "execution_count": null,
      "outputs": []
    },
    {
      "cell_type": "markdown",
      "source": [
        "## Creating the environment CARTP0LE"
      ],
      "metadata": {
        "id": "UBoUBxjszW1t"
      }
    },
    {
      "cell_type": "code",
      "source": [
        "### Create environment CARTP0LE\n",
        "env = gym.make('CartPole-v1') # Initialize the Gym environment\n",
        "env.seed(0) # Set a random seed for the environment (reproducible results)\n",
        "\n",
        "# Get the shapes of the state space (observation_space) and action space (action_space)\n",
        "state_space_dim = env.observation_space.shape[0]\n",
        "action_space_dim = env.action_space.n\n",
        "\n",
        "print(f\"STATE SPACE SIZE: {state_space_dim}\")\n",
        "print(f\"ACTION SPACE SIZE: {action_space_dim}\")"
      ],
      "metadata": {
        "colab": {
          "base_uri": "https://localhost:8080/"
        },
        "id": "Ativ_32uzYOZ",
        "outputId": "5b4ec153-0aae-4312-a4db-d0114a068a01"
      },
      "execution_count": null,
      "outputs": [
        {
          "output_type": "stream",
          "name": "stdout",
          "text": [
            "STATE SPACE SIZE: 4\n",
            "ACTION SPACE SIZE: 2\n"
          ]
        }
      ]
    },
    {
      "cell_type": "code",
      "source": [
        "observation = env.reset()\n",
        "print('Initial observation')\n",
        "print(f'... cart position: {observation[0]}')\n",
        "print(f'... cart speed: {observation[1]}')\n",
        "print(f'... pole angle: {observation[2]}')\n",
        "print(f'... pole angular speed: {observation[3]}')\n",
        "action = env.action_space.sample() # Takes a random action\n",
        "print(f'Action sampled: {action}')\n",
        "observation, reward, done, info = env.step(action)\n",
        "print('Second observation')\n",
        "print(f'... cart position: {observation[0]}')\n",
        "print(f'... cart speed: {observation[1]}')\n",
        "print(f'... pole angle: {observation[2]}')\n",
        "print(f'... pole angular speed: {observation[3]}')\n",
        "print(f'-> Reward: {reward}')\n",
        "print(f'-> Done: {done}')\n",
        "print(f'-> Info: {info}')"
      ],
      "metadata": {
        "colab": {
          "base_uri": "https://localhost:8080/"
        },
        "id": "kfcK7ZiP0-Ha",
        "outputId": "2f8f328b-aaeb-4f83-e0de-9a4942dc249b"
      },
      "execution_count": null,
      "outputs": [
        {
          "output_type": "stream",
          "name": "stdout",
          "text": [
            "Initial observation\n",
            "... cart position: -0.04456399437492168\n",
            "... cart speed: 0.04653909372423204\n",
            "... pole angle: 0.013269094558410327\n",
            "... pole angular speed: -0.020998265615229175\n",
            "Action sampled: 1\n",
            "Second observation\n",
            "... cart position: -0.04363321250043704\n",
            "... cart speed: 0.24146826361142143\n",
            "... pole angle: 0.012849129246105744\n",
            "... pole angular speed: -0.30946528078089636\n",
            "-> Reward: 1.0\n",
            "-> Done: False\n",
            "-> Info: {}\n"
          ]
        }
      ]
    },
    {
      "cell_type": "markdown",
      "source": [
        "Creating the environment Atari"
      ],
      "metadata": {
        "id": "eLF72f5yz1oA"
      }
    },
    {
      "cell_type": "code",
      "source": [
        "!pip install gym[atari]"
      ],
      "metadata": {
        "colab": {
          "base_uri": "https://localhost:8080/"
        },
        "id": "zkl-DTp1za1p",
        "outputId": "1ddb6813-566f-44a5-ebf1-cac63627d3e2"
      },
      "execution_count": null,
      "outputs": [
        {
          "output_type": "stream",
          "name": "stdout",
          "text": [
            "Requirement already satisfied: gym[atari] in /usr/local/lib/python3.7/dist-packages (0.17.3)\n",
            "Requirement already satisfied: cloudpickle<1.7.0,>=1.2.0 in /usr/local/lib/python3.7/dist-packages (from gym[atari]) (1.3.0)\n",
            "Requirement already satisfied: pyglet<=1.5.0,>=1.4.0 in /usr/local/lib/python3.7/dist-packages (from gym[atari]) (1.5.0)\n",
            "Requirement already satisfied: scipy in /usr/local/lib/python3.7/dist-packages (from gym[atari]) (1.4.1)\n",
            "Requirement already satisfied: numpy>=1.10.4 in /usr/local/lib/python3.7/dist-packages (from gym[atari]) (1.19.5)\n",
            "Requirement already satisfied: Pillow in /usr/local/lib/python3.7/dist-packages (from gym[atari]) (7.1.2)\n",
            "Requirement already satisfied: atari-py~=0.2.0 in /usr/local/lib/python3.7/dist-packages (from gym[atari]) (0.2.9)\n",
            "Requirement already satisfied: opencv-python in /usr/local/lib/python3.7/dist-packages (from gym[atari]) (4.1.2.30)\n",
            "Requirement already satisfied: six in /usr/local/lib/python3.7/dist-packages (from atari-py~=0.2.0->gym[atari]) (1.15.0)\n",
            "Requirement already satisfied: future in /usr/local/lib/python3.7/dist-packages (from pyglet<=1.5.0,>=1.4.0->gym[atari]) (0.16.0)\n"
          ]
        }
      ]
    },
    {
      "cell_type": "code",
      "source": [
        "'''\n",
        "# Atari Environment\n",
        "env = gym.make('SpaceInvaders-v0')\n",
        "env.reset()\n",
        "plt.imshow(env.render('rgb_array'))\n",
        "'''"
      ],
      "metadata": {
        "colab": {
          "base_uri": "https://localhost:8080/",
          "height": 35
        },
        "id": "HxYaL_DtzdSj",
        "outputId": "9d3c20fe-06de-482e-b59d-304e56da99cc"
      },
      "execution_count": null,
      "outputs": [
        {
          "output_type": "execute_result",
          "data": {
            "application/vnd.google.colaboratory.intrinsic+json": {
              "type": "string"
            },
            "text/plain": [
              "\"\\n# Atari Environment\\nenv = gym.make('SpaceInvaders-v0')\\nenv.reset()\\nplt.imshow(env.render('rgb_array'))\\n\""
            ]
          },
          "metadata": {},
          "execution_count": 22
        }
      ]
    },
    {
      "cell_type": "code",
      "source": [
        "'''\n",
        "### Create environment CARTP0LE\n",
        "env = gym.make('SpaceInvaders-v0') # Initialize the Gym environment\n",
        "env.seed(0) # Set a random seed for the environment (reproducible results)\n",
        "\n",
        "# Get the shapes of the state space (observation_space) and action space (action_space)\n",
        "state_space_dim = env.observation_space.shape[0]\n",
        "action_space_dim = env.action_space.n\n",
        "\n",
        "print(f\"STATE SPACE SIZE: {state_space_dim}\")\n",
        "print(f\"ACTION SPACE SIZE: {action_space_dim}\") \n",
        "'''"
      ],
      "metadata": {
        "colab": {
          "base_uri": "https://localhost:8080/",
          "height": 70
        },
        "id": "LINmimspzz85",
        "outputId": "c342685b-a767-4b20-bc56-74845004baff"
      },
      "execution_count": null,
      "outputs": [
        {
          "output_type": "execute_result",
          "data": {
            "application/vnd.google.colaboratory.intrinsic+json": {
              "type": "string"
            },
            "text/plain": [
              "'\\n### Create environment CARTP0LE\\nenv = gym.make(\\'SpaceInvaders-v0\\') # Initialize the Gym environment\\nenv.seed(0) # Set a random seed for the environment (reproducible results)\\n\\n# Get the shapes of the state space (observation_space) and action space (action_space)\\nstate_space_dim = env.observation_space.shape[0]\\naction_space_dim = env.action_space.n\\n\\nprint(f\"STATE SPACE SIZE: {state_space_dim}\")\\nprint(f\"ACTION SPACE SIZE: {action_space_dim}\") \\n'"
            ]
          },
          "metadata": {},
          "execution_count": 23
        }
      ]
    },
    {
      "cell_type": "code",
      "source": [],
      "metadata": {
        "id": "XEYklKpdz-Wc"
      },
      "execution_count": null,
      "outputs": []
    },
    {
      "cell_type": "code",
      "source": [],
      "metadata": {
        "id": "kBJte9Oj0VOs"
      },
      "execution_count": null,
      "outputs": []
    },
    {
      "cell_type": "markdown",
      "source": [
        "## Experience replay (Replay Memory)"
      ],
      "metadata": {
        "id": "YERLaSg_0o7E"
      }
    },
    {
      "cell_type": "code",
      "source": [
        "class ReplayMemory(object):\n",
        "\n",
        "    def __init__(self, capacity):\n",
        "        # Define a queue with maxlen \"capacity\"\n",
        "        self.memory = deque(maxlen=capacity)\n",
        "\n",
        "    def push(self, state, action, next_state, reward):\n",
        "        # Add the tuple (state, action, next_state, reward) to the queue\n",
        "        self.memory.append( (state, action, next_state, reward) )\n",
        "\n",
        "    def sample(self, batch_size):\n",
        "        batch_size = min(batch_size, len(self)) # Get all the samples \n",
        "        # if the requested batch_size is higher than the number of sample currently in the memory\n",
        "        # Randomly select \"batch_size\" samples and return the selection\n",
        "        return random.sample(self.memory, batch_size)\n",
        "\n",
        "    def __len__(self):\n",
        "        return len(self.memory) # Return the number of samples currently stored in the memory"
      ],
      "metadata": {
        "id": "XE0o0TS80Vfp"
      },
      "execution_count": null,
      "outputs": []
    },
    {
      "cell_type": "markdown",
      "source": [
        "checkin' Reply memory"
      ],
      "metadata": {
        "id": "ZNAzXrZM1ILn"
      }
    },
    {
      "cell_type": "code",
      "source": [
        "# Define the replay memory\n",
        "replay_mem = ReplayMemory(capacity=3)\n",
        "\n",
        "# Push some samples\n",
        "print(f\"CURRENT MEMORY SIZE: {len(replay_mem)}\")\n",
        "replay_mem.push(1,1,1,1)\n",
        "print(f\"CURRENT MEMORY SIZE: {len(replay_mem)}\")\n",
        "replay_mem.push(2,2,2,2)\n",
        "print(f\"CURRENT MEMORY SIZE: {len(replay_mem)}\")\n",
        "replay_mem.push(3,3,3,3)\n",
        "print(f\"CURRENT MEMORY SIZE: {len(replay_mem)}\")\n",
        "replay_mem.push(4,4,4,4)\n",
        "print(f\"CURRENT MEMORY SIZE: {len(replay_mem)}\")\n",
        "replay_mem.push(5,5,5,5)\n",
        "print(f\"CURRENT MEMORY SIZE: {len(replay_mem)}\")\n",
        "\n",
        "# Check the content of the memory\n",
        "print('\\nCONTENT OF THE MEMORY')\n",
        "print(replay_mem.memory)\n",
        "\n",
        "# Random sample\n",
        "print('\\nRANDOM SAMPLING')\n",
        "for i in range(5):\n",
        "  print(replay_mem.sample(2)) # Select 2 samples randomly from the memory"
      ],
      "metadata": {
        "colab": {
          "base_uri": "https://localhost:8080/"
        },
        "id": "K55fLBas1Clp",
        "outputId": "f3135a1f-4155-479e-e91d-32166632db42"
      },
      "execution_count": null,
      "outputs": [
        {
          "output_type": "stream",
          "name": "stdout",
          "text": [
            "CURRENT MEMORY SIZE: 0\n",
            "CURRENT MEMORY SIZE: 1\n",
            "CURRENT MEMORY SIZE: 2\n",
            "CURRENT MEMORY SIZE: 3\n",
            "CURRENT MEMORY SIZE: 3\n",
            "CURRENT MEMORY SIZE: 3\n",
            "\n",
            "CONTENT OF THE MEMORY\n",
            "deque([(3, 3, 3, 3), (4, 4, 4, 4), (5, 5, 5, 5)], maxlen=3)\n",
            "\n",
            "RANDOM SAMPLING\n",
            "[(3, 3, 3, 3), (4, 4, 4, 4)]\n",
            "[(3, 3, 3, 3), (5, 5, 5, 5)]\n",
            "[(5, 5, 5, 5), (3, 3, 3, 3)]\n",
            "[(3, 3, 3, 3), (4, 4, 4, 4)]\n",
            "[(4, 4, 4, 4), (3, 3, 3, 3)]\n"
          ]
        }
      ]
    },
    {
      "cell_type": "markdown",
      "source": [
        "## Policy network"
      ],
      "metadata": {
        "id": "ZSu-cN5X1fcs"
      }
    },
    {
      "cell_type": "markdown",
      "source": [
        "### Networks def."
      ],
      "metadata": {
        "id": "I_4RpRk71f9c"
      }
    },
    {
      "cell_type": "code",
      "source": [
        "class DQN(nn.Module):\n",
        "\n",
        "    def __init__(self, state_space_dim, action_space_dim):\n",
        "        super().__init__()\n",
        "\n",
        "        self.linear = nn.Sequential(\n",
        "            nn.Linear(state_space_dim, 128),\n",
        "            nn.Tanh(),\n",
        "            nn.Linear(128,128),\n",
        "            nn.Tanh(),\n",
        "            nn.Linear(128, action_space_dim)\n",
        "                )\n",
        "\n",
        "    def forward(self, x):\n",
        "        return self.linear(x)"
      ],
      "metadata": {
        "id": "9-5Vu-FB1eJx"
      },
      "execution_count": null,
      "outputs": []
    },
    {
      "cell_type": "code",
      "source": [
        "# Define an example network\n",
        "net = DQN(state_space_dim=4, action_space_dim=2)"
      ],
      "metadata": {
        "id": "ryRASAtC3NwG"
      },
      "execution_count": null,
      "outputs": []
    },
    {
      "cell_type": "code",
      "source": [
        "class DQN2(nn.Module):\n",
        "\n",
        "    def __init__(self, state_space_dim, action_space_dim):\n",
        "        super().__init__()\n",
        "\n",
        "        self.linear = nn.Sequential(\n",
        "                nn.Linear(state_space_dim, 68),\n",
        "                nn.Tanh(),\n",
        "                nn.Linear(68, 256),\n",
        "                nn.Tanh(),\n",
        "                nn.Linear(256, 512),\n",
        "                nn.Tanh(),\n",
        "                nn.Linear(512, 128),\n",
        "                nn.Tanh(),\n",
        "                nn.Linear(128, action_space_dim)\n",
        "                )\n",
        "\n",
        "    def forward(self, x):\n",
        "        return self.linear(x)"
      ],
      "metadata": {
        "id": "WxhNFhhg15Mc"
      },
      "execution_count": null,
      "outputs": []
    },
    {
      "cell_type": "code",
      "source": [
        "net2 = DQN2(state_space_dim=4, action_space_dim=2)"
      ],
      "metadata": {
        "id": "pY28Ib1k36oN"
      },
      "execution_count": null,
      "outputs": []
    },
    {
      "cell_type": "code",
      "source": [
        "print(net2)"
      ],
      "metadata": {
        "colab": {
          "base_uri": "https://localhost:8080/"
        },
        "id": "nBza1FIq4Bbg",
        "outputId": "265db7d5-4b5e-4c3a-fbfb-ec70f90e186d"
      },
      "execution_count": null,
      "outputs": [
        {
          "output_type": "stream",
          "name": "stdout",
          "text": [
            "DQN2(\n",
            "  (linear): Sequential(\n",
            "    (0): Linear(in_features=4, out_features=68, bias=True)\n",
            "    (1): Tanh()\n",
            "    (2): Linear(in_features=68, out_features=256, bias=True)\n",
            "    (3): Tanh()\n",
            "    (4): Linear(in_features=256, out_features=512, bias=True)\n",
            "    (5): Tanh()\n",
            "    (6): Linear(in_features=512, out_features=128, bias=True)\n",
            "    (7): Tanh()\n",
            "    (8): Linear(in_features=128, out_features=2, bias=True)\n",
            "  )\n",
            ")\n"
          ]
        }
      ]
    },
    {
      "cell_type": "code",
      "source": [
        "!pip install torchviz"
      ],
      "metadata": {
        "id": "SMiJtbXh4cFP"
      },
      "execution_count": null,
      "outputs": []
    },
    {
      "cell_type": "code",
      "source": [],
      "metadata": {
        "id": "m1qDKEGIRSy7"
      },
      "execution_count": null,
      "outputs": []
    },
    {
      "cell_type": "code",
      "source": [],
      "metadata": {
        "id": "c2lDql3FRS5U"
      },
      "execution_count": null,
      "outputs": []
    },
    {
      "cell_type": "markdown",
      "source": [
        "## Exploration Policy"
      ],
      "metadata": {
        "id": "CRIraE9hRUS6"
      }
    },
    {
      "cell_type": "markdown",
      "source": [
        "### Epsilon-greedy policy"
      ],
      "metadata": {
        "id": "o25BYQz1RY62"
      }
    },
    {
      "cell_type": "code",
      "source": [
        "def choose_action_epsilon_greedy(net, state, epsilon):\n",
        "    \n",
        "    if epsilon > 1 or epsilon < 0:\n",
        "        raise Exception('The epsilon value must be between 0 and 1')\n",
        "                \n",
        "    # Evaluate the network output from the current state\n",
        "    with torch.no_grad():\n",
        "        net.eval()\n",
        "        state = torch.tensor(state, dtype=torch.float32) # Convert the state to tensor\n",
        "        net_out = net(state)\n",
        "\n",
        "    # Get the best action (argmax of the network output)\n",
        "    best_action = int(net_out.argmax())\n",
        "    # Get the number of possible actions\n",
        "    action_space_dim = net_out.shape[-1]\n",
        "\n",
        "    # Select a non optimal action with probability epsilon, otherwise choose the best action\n",
        "    if random.random() < epsilon:\n",
        "        # List of non-optimal actions\n",
        "        non_optimal_actions = [a for a in range(action_space_dim) if a != best_action]\n",
        "        # Select randomly\n",
        "        action = random.choice(non_optimal_actions)\n",
        "    else:\n",
        "        # Select best action\n",
        "        action = best_action\n",
        "        \n",
        "    return action, net_out.numpy()"
      ],
      "metadata": {
        "id": "Y0fQwY0_Ra4p"
      },
      "execution_count": null,
      "outputs": []
    },
    {
      "cell_type": "code",
      "source": [
        "# Test if it works as expected\n",
        "state = (0, 0, 0, 0)\n",
        "epsilon = 0\n",
        "chosen_action, q_values = choose_action_epsilon_greedy(net, state, epsilon)\n",
        "\n",
        "print(f\"ACTION: {chosen_action}\")\n",
        "print(f\"Q-VALUES: {q_values}\")"
      ],
      "metadata": {
        "colab": {
          "base_uri": "https://localhost:8080/"
        },
        "id": "Ptostu95Rafp",
        "outputId": "e3248cda-53a5-490c-fe11-37c398396ed0"
      },
      "execution_count": null,
      "outputs": [
        {
          "output_type": "stream",
          "name": "stdout",
          "text": [
            "ACTION: 0\n",
            "Q-VALUES: [ 0.03778876 -0.3404178 ]\n"
          ]
        }
      ]
    },
    {
      "cell_type": "code",
      "source": [
        "# Test if it works as expected\n",
        "state = (0, 0, 0, 0)\n",
        "epsilon = 0.5\n",
        "chosen_action, q_values = choose_action_epsilon_greedy(net, state, epsilon)\n",
        "\n",
        "print(f\"ACTION: {chosen_action}\")\n",
        "print(f\"Q-VALUES: {q_values}\")"
      ],
      "metadata": {
        "colab": {
          "base_uri": "https://localhost:8080/"
        },
        "id": "J2j_xpjaRarT",
        "outputId": "140e6a77-80c5-41a9-ddee-e80f36322ecc"
      },
      "execution_count": null,
      "outputs": [
        {
          "output_type": "stream",
          "name": "stdout",
          "text": [
            "ACTION: 0\n",
            "Q-VALUES: [ 0.02337937 -0.09721851]\n"
          ]
        }
      ]
    },
    {
      "cell_type": "code",
      "source": [
        "# Test if it works as expected\n",
        "state = (0, 0, 0, 0)\n",
        "epsilon = 1\n",
        "chosen_action, q_values = choose_action_epsilon_greedy(net, state, epsilon)\n",
        "\n",
        "print(f\"ACTION: {chosen_action}\")\n",
        "print(f\"Q-VALUES: {q_values}\")"
      ],
      "metadata": {
        "colab": {
          "base_uri": "https://localhost:8080/"
        },
        "id": "vt9KnMZ7Rfjm",
        "outputId": "8a89efdb-650b-4bda-bd3f-086b56f90b1c"
      },
      "execution_count": null,
      "outputs": [
        {
          "output_type": "stream",
          "name": "stdout",
          "text": [
            "ACTION: 1\n",
            "Q-VALUES: [ 0.03778876 -0.3404178 ]\n"
          ]
        }
      ]
    },
    {
      "cell_type": "markdown",
      "source": [
        "### Softmax policy"
      ],
      "metadata": {
        "id": "BGuB_LFOSVzD"
      }
    },
    {
      "cell_type": "code",
      "source": [
        "def choose_action_softmax(net, state, temperature):\n",
        "    \n",
        "    if temperature < 0:\n",
        "        raise Exception('The temperature value must be greater than or equal to 0 ')\n",
        "        \n",
        "    # If the temperature is 0, just select the best action using the eps-greedy policy with epsilon = 0\n",
        "    if temperature == 0:\n",
        "        return choose_action_epsilon_greedy(net, state, 0)\n",
        "    \n",
        "    # Evaluate the network output from the current state\n",
        "    with torch.no_grad():\n",
        "        net.eval()\n",
        "        state = torch.tensor(state, dtype=torch.float32)\n",
        "        net_out = net(state)\n",
        "\n",
        "    # Apply softmax with temp\n",
        "    temperature = max(temperature, 1e-8) # set a minimum to the temperature for numerical stability\n",
        "    softmax_out = nn.functional.softmax(net_out / temperature, dim=0).numpy()\n",
        "                \n",
        "    # Sample the action using softmax output as mass pdf\n",
        "    all_possible_actions = np.arange(0, softmax_out.shape[-1])\n",
        "    action = np.random.choice(all_possible_actions, p=softmax_out) # this samples a random element from \"all_possible_actions\" with the probability distribution p (softmax_out in this case)\n",
        "    \n",
        "    return action, net_out.numpy()"
      ],
      "metadata": {
        "id": "pOHLXPbSSVJs"
      },
      "execution_count": null,
      "outputs": []
    },
    {
      "cell_type": "code",
      "source": [
        "''' negative temrature\n",
        "state = (0, 0, 0, 0)\n",
        "temperature = -1\n",
        "chosen_action, q_values = choose_action_softmax(net, state, temperature)\n",
        "\n",
        "print(f\"ACTION: {chosen_action}\")\n",
        "print(f\"Q-VALUES: {q_values}\")\n",
        "'''"
      ],
      "metadata": {
        "id": "wFwmMKNhShPW",
        "colab": {
          "base_uri": "https://localhost:8080/",
          "height": 53
        },
        "outputId": "58077850-b041-475e-8c51-1804d0ad072f"
      },
      "execution_count": null,
      "outputs": [
        {
          "output_type": "execute_result",
          "data": {
            "application/vnd.google.colaboratory.intrinsic+json": {
              "type": "string"
            },
            "text/plain": [
              "' negative temrature\\nstate = (0, 0, 0, 0)\\ntemperature = -1\\nchosen_action, q_values = choose_action_softmax(net, state, temperature)\\n\\nprint(f\"ACTION: {chosen_action}\")\\nprint(f\"Q-VALUES: {q_values}\")\\n'"
            ]
          },
          "metadata": {},
          "execution_count": 35
        }
      ]
    },
    {
      "cell_type": "code",
      "source": [
        "state = (0, 0, 0, 0)\n",
        "temperature = 0.001\n",
        "chosen_action, q_values = choose_action_softmax(net, state, temperature)\n",
        "\n",
        "print(f\"ACTION: {chosen_action}\")\n",
        "print(f\"Q-VALUES: {q_values}\")"
      ],
      "metadata": {
        "colab": {
          "base_uri": "https://localhost:8080/"
        },
        "id": "D_5bEwzAShfl",
        "outputId": "5608bc7c-3431-4119-81a5-4c38ebd399e4"
      },
      "execution_count": null,
      "outputs": [
        {
          "output_type": "stream",
          "name": "stdout",
          "text": [
            "ACTION: 0\n",
            "Q-VALUES: [ 0.02337937 -0.09721851]\n"
          ]
        }
      ]
    },
    {
      "cell_type": "code",
      "source": [
        "state = (0, 0, 0, 0)\n",
        "temperature = 1\n",
        "chosen_action, q_values = choose_action_softmax(net, state, temperature)\n",
        "\n",
        "print(f\"ACTION: {chosen_action}\")\n",
        "print(f\"Q-VALUES: {q_values}\")"
      ],
      "metadata": {
        "colab": {
          "base_uri": "https://localhost:8080/"
        },
        "id": "_HGx3p37Shr0",
        "outputId": "e2fd0608-9ae5-4e8e-b642-71804155b92d"
      },
      "execution_count": null,
      "outputs": [
        {
          "output_type": "stream",
          "name": "stdout",
          "text": [
            "ACTION: 0\n",
            "Q-VALUES: [ 0.03778876 -0.3404178 ]\n"
          ]
        }
      ]
    },
    {
      "cell_type": "code",
      "source": [
        "### Define exploration profile\n",
        "initial_value = 5\n",
        "num_iterations = 1000\n",
        "exp_decay = np.exp(-np.log(initial_value) / num_iterations * 6) # We compute the exponential decay in such a way the shape of the exploration profile does not depend on the number of iterations\n",
        "exploration_profile = [initial_value * (exp_decay ** i) for i in range(num_iterations)]\n",
        "\n",
        "### Plot exploration profile\n",
        "plt.figure(figsize=(12,8))\n",
        "plt.plot(exploration_profile)\n",
        "plt.grid()\n",
        "plt.xlabel('Iteration')\n",
        "plt.ylabel('Exploration profile (Softmax temperature)')"
      ],
      "metadata": {
        "colab": {
          "base_uri": "https://localhost:8080/",
          "height": 514
        },
        "id": "AVsw97_CSpvW",
        "outputId": "ccf9c42c-6cd9-40f2-8680-55d4e709e484"
      },
      "execution_count": null,
      "outputs": [
        {
          "output_type": "execute_result",
          "data": {
            "text/plain": [
              "Text(0, 0.5, 'Exploration profile (Softmax temperature)')"
            ]
          },
          "metadata": {},
          "execution_count": 40
        },
        {
          "output_type": "display_data",
          "data": {
            "image/png": "[encoded data removed]",
            "text/plain": [
              "<Figure size 864x576 with 1 Axes>"
            ]
          },
          "metadata": {
            "needs_background": "light"
          }
        }
      ]
    },
    {
      "cell_type": "code",
      "source": [],
      "metadata": {
        "id": "NcVN9aCkTQvD"
      },
      "execution_count": null,
      "outputs": []
    },
    {
      "cell_type": "code",
      "source": [
        "# Initialize the Gym environment\n",
        "env = gym.make('CartPole-v1') \n",
        "env.seed(seed) # Set a random seed for the environment (reproducible results)\n",
        "\n",
        "# This is for creating the output video in Colab, not required outside Colab\n",
        "env = wrap_env(env, video_callable=lambda episode_id: True) # Save a video every episode\n",
        "\n",
        "# Let's try for a total of 10 episodes\n",
        "for num_episode in range(10): \n",
        "    # Reset the environment and get the initial state\n",
        "    state = env.reset()\n",
        "    # Reset the score. The final score will be the total amount of steps before the pole falls\n",
        "    score = 0\n",
        "    done = False\n",
        "    # Go on until the pole falls off or the score reach 490\n",
        "    while not done:\n",
        "      # Choose the best action (temperature 0)\n",
        "      action, q_values = choose_action_softmax(net, state, temperature=0)\n",
        "      # Apply the action and get the next state, the reward and a flag \"done\" that is True if the game is ended\n",
        "      next_state, reward, done, info = env.step(action)\n",
        "      # Visually render the environment\n",
        "      #env.render()\n",
        "      # Update the final score (+1 for each step)\n",
        "      score += reward \n",
        "      # Set the current state for the next iteration\n",
        "      state = next_state\n",
        "      # Check if the episode ended (the pole fell down)\n",
        "    # Print the final score\n",
        "    print(f\"EPISODE {num_episode + 1} - FINAL SCORE: {score}\") \n",
        "env.close()"
      ],
      "metadata": {
        "colab": {
          "base_uri": "https://localhost:8080/"
        },
        "id": "aP7sVi6ATRkg",
        "outputId": "ebf76292-3ddf-4062-bec0-2df374fe014c"
      },
      "execution_count": null,
      "outputs": [
        {
          "output_type": "stream",
          "name": "stdout",
          "text": [
            "EPISODE 1 - FINAL SCORE: 9.0\n",
            "EPISODE 2 - FINAL SCORE: 10.0\n",
            "EPISODE 3 - FINAL SCORE: 9.0\n",
            "EPISODE 4 - FINAL SCORE: 10.0\n",
            "EPISODE 5 - FINAL SCORE: 9.0\n",
            "EPISODE 6 - FINAL SCORE: 10.0\n",
            "EPISODE 7 - FINAL SCORE: 10.0\n",
            "EPISODE 8 - FINAL SCORE: 10.0\n",
            "EPISODE 9 - FINAL SCORE: 8.0\n",
            "EPISODE 10 - FINAL SCORE: 9.0\n"
          ]
        }
      ]
    },
    {
      "cell_type": "markdown",
      "source": [
        "### Updating Net"
      ],
      "metadata": {
        "id": "eD5wC0Hc6Bio"
      }
    },
    {
      "cell_type": "code",
      "source": [
        "def update_step(policy_net, target_net, replay_mem, gamma, optimizer, loss_fn, batch_size):\n",
        "        \n",
        "    # Sample the data from the replay memory\n",
        "    batch = replay_mem.sample(batch_size)\n",
        "    batch_size = len(batch)\n",
        "\n",
        "    # Create tensors for each element of the batch\n",
        "    states      = torch.tensor([s[0] for s in batch], dtype=torch.float32)\n",
        "    actions     = torch.tensor([s[1] for s in batch], dtype=torch.int64)\n",
        "    rewards     = torch.tensor([s[3] for s in batch], dtype=torch.float32)\n",
        "\n",
        "    # Compute a mask of non-final states (all the elements where the next state is not None)\n",
        "    non_final_next_states = torch.tensor([s[2] for s in batch if s[2] is not None], dtype=torch.float32) # the next state can be None if the game has ended\n",
        "    non_final_mask = torch.tensor([s[2] is not None for s in batch], dtype=torch.bool)\n",
        "\n",
        "    # Compute all the Q values (forward pass)\n",
        "    policy_net.train()\n",
        "    q_values = policy_net(states)\n",
        "    # Select the proper Q value for the corresponding action taken Q(s_t, a)\n",
        "    state_action_values = q_values.gather(1, actions.unsqueeze(1))\n",
        "\n",
        "    # Compute the value function of the next states using the target network V(s_{t+1}) = max_a( Q_target(s_{t+1}, a)) )\n",
        "    with torch.no_grad():\n",
        "      target_net.eval()\n",
        "      q_values_target = target_net(non_final_next_states)\n",
        "    next_state_max_q_values = torch.zeros(batch_size)\n",
        "    next_state_max_q_values[non_final_mask] = q_values_target.max(dim=1)[0]\n",
        "\n",
        "    # Compute the expected Q values\n",
        "    expected_state_action_values = rewards + (next_state_max_q_values * gamma)\n",
        "    expected_state_action_values = expected_state_action_values.unsqueeze(1) # Set the required tensor shape\n",
        "\n",
        "    # Compute the Huber loss\n",
        "    loss = loss_fn(state_action_values, expected_state_action_values)\n",
        "\n",
        "    # Optimize the model\n",
        "    optimizer.zero_grad()\n",
        "    loss.backward()\n",
        "    # Apply gradient clipping (clip all the gradients greater than 2 for training stability)\n",
        "    nn.utils.clip_grad_norm_(policy_net.parameters(), 2)\n",
        "    optimizer.step()"
      ],
      "metadata": {
        "id": "zd67pZyl5YY_"
      },
      "execution_count": null,
      "outputs": []
    },
    {
      "cell_type": "markdown",
      "source": [
        "exploration profile"
      ],
      "metadata": {
        "id": "y5Imp6FB6QmI"
      }
    },
    {
      "cell_type": "code",
      "source": [
        "### Define exploration profile\n",
        "initial_value = 5\n",
        "num_iterations = 1000\n",
        "beta = 30\n",
        "exp_decay = np.exp(- (np.log(initial_value) * beta) / num_iterations) # We compute the exponential decay in such a way the shape of the exploration profile does not depend on the number of iterations\n",
        "exploration_profile = [initial_value * (exp_decay ** i) for i in range(num_iterations)]\n",
        "\n",
        "### Plot exploration profile\n",
        "plt.figure(figsize=(12,8))\n",
        "plt.plot(exploration_profile)\n",
        "plt.grid()\n",
        "plt.xlabel('Iteration')\n",
        "plt.ylabel('Exploration profile (Softmax temperature)')\n",
        "plt.show()"
      ],
      "metadata": {
        "colab": {
          "base_uri": "https://localhost:8080/",
          "height": 497
        },
        "id": "ZFChcSp56P1D",
        "outputId": "8c123056-0842-4f5a-f32b-fe90d286d08c"
      },
      "execution_count": null,
      "outputs": [
        {
          "output_type": "display_data",
          "data": {
            "image/png": "[encoded data removed]",
            "text/plain": [
              "<Figure size 864x576 with 1 Axes>"
            ]
          },
          "metadata": {
            "needs_background": "light"
          }
        }
      ]
    },
    {
      "cell_type": "code",
      "source": [],
      "metadata": {
        "id": "0mIPAL2561rt"
      },
      "execution_count": null,
      "outputs": []
    },
    {
      "cell_type": "markdown",
      "source": [
        "### PARAMS:"
      ],
      "metadata": {
        "id": "6abXbIO462G3"
      }
    },
    {
      "cell_type": "code",
      "source": [
        "gamma = 0.99   # gamma parameter for the long term reward\n",
        "replay_memory_capacity = 10000   # Replay memory capacity\n",
        "lr = 1e-2   # Optimizer learning rate\n",
        "target_net_update_steps = 10   # Number of episodes to wait before updating the target network\n",
        "batch_size = 128   # Number of samples to take from the replay memory for each update\n",
        "bad_state_penalty = -1   # Penalty to the reward when we are in a bad state (in this case when the pole falls down) \n",
        "min_samples_for_training = 1000   # Minimum samples in the replay memory to enable the training\n",
        "delta = 1 # pos_weight"
      ],
      "metadata": {
        "id": "zxiu5l5x6t7k"
      },
      "execution_count": null,
      "outputs": []
    },
    {
      "cell_type": "markdown",
      "source": [
        "### Initializing"
      ],
      "metadata": {
        "id": "ljmMIjL3697k"
      }
    },
    {
      "cell_type": "code",
      "source": [
        "# Initialize the replay memory\n",
        "replay_mem = ReplayMemory(replay_memory_capacity)    \n",
        "\n",
        "# Initialize the policy network\n",
        "policy_net = DQN(state_space_dim, action_space_dim)\n",
        "\n",
        "# Initialize the target network with the same weights of the policy network\n",
        "target_net = DQN(state_space_dim, action_space_dim)\n",
        "target_net.load_state_dict(policy_net.state_dict()) # This will copy the weights of the policy network to the target network\n",
        "\n",
        "# Initialize the optimizer\n",
        "optimizer = torch.optim.SGD(policy_net.parameters(), lr=lr) # The optimizer will update ONLY the parameters of the policy network\n",
        "\n",
        "# Initialize the loss function (Huber loss)\n",
        "loss_fn = nn.SmoothL1Loss()\n",
        "lf = 'SmoothL1Loss'"
      ],
      "metadata": {
        "id": "Qtnt2hjv68AK"
      },
      "execution_count": null,
      "outputs": []
    },
    {
      "cell_type": "markdown",
      "source": [
        "DQN II"
      ],
      "metadata": {
        "id": "FgME3H7W02-u"
      }
    },
    {
      "cell_type": "code",
      "source": [
        "# Initialize the replay memory\n",
        "replay_mem = ReplayMemory(replay_memory_capacity)    \n",
        "\n",
        "# Initialize the policy network\n",
        "policy_net = DQN2(state_space_dim, action_space_dim)\n",
        "\n",
        "# Initialize the target network with the same weights of the policy network\n",
        "target_net = DQN2(state_space_dim, action_space_dim)\n",
        "target_net.load_state_dict(policy_net.state_dict()) # This will copy the weights of the policy network to the target network\n",
        "\n",
        "# Initialize the optimizer\n",
        "optimizer = torch.optim.SGD(policy_net.parameters(), lr=lr) # The optimizer will update ONLY the parameters of the policy network\n",
        "\n",
        "# Initialize the loss function (Huber loss)\n",
        "loss_fn = nn.SmoothL1Loss()\n",
        "lf = 'SmoothL1Loss'"
      ],
      "metadata": {
        "id": "QHnF_yHl00Xs"
      },
      "execution_count": null,
      "outputs": []
    },
    {
      "cell_type": "markdown",
      "source": [
        "## Training"
      ],
      "metadata": {
        "id": "ysNMhinj7Mi0"
      }
    },
    {
      "cell_type": "code",
      "source": [
        "# Initialize the Gym environment\n",
        "env = gym.make('CartPole-v1') \n",
        "max_score = 500\n",
        "env.seed(seed)\n",
        "\n",
        "# This is for creating the output video in Colab, not required outside Colab\n",
        "env = wrap_env(env, video_callable=lambda episode_id: episode_id % 100 == 0) # Save a video every 100 episodes\n",
        "\n",
        "scores = []\n",
        "gradients = []\n",
        "\n",
        "print('=-=-=-=-=-=-=-=-=-=-=-=-=-=-=-=-=-=-=-=-=-=-=-=-=')\n",
        "print('__________________START TRAINING_________________')\n",
        "print('=-=-=-=-=-=-=-=-=-=-=-=-=-=-=-=-=-=-=-=-=-=-=-=-=\\n')\n",
        "print(f'gamma: {gamma}') \n",
        "print(f'replay_memory_cap: {replay_memory_capacity}')  \n",
        "print(f'l_rate: {lr}') \n",
        "print(f'target_net_update: {target_net_update_steps}') \n",
        "print(f'batch_size: {batch_size}') \n",
        "print(f'bad_state_penalty: {bad_state_penalty}') \n",
        "print(f'min_samples_for_train: {min_samples_for_training}') \n",
        "print(f'loss_function: {lf}') \n",
        "print(f'initial temperature: {exploration_profile[0]}') \n",
        "print(f'beta: {beta}')\n",
        "print(f'delta: {delta}')\n",
        "\n",
        "for episode_num, tau in enumerate(tqdm(exploration_profile)):\n",
        "\n",
        "    # Reset the environment and get the initial state\n",
        "    state = env.reset()\n",
        "    # Reset the score. The final score will be the total amount of steps before the pole falls\n",
        "    score = 0\n",
        "    done = False\n",
        "    # Early stopping\n",
        "    flag = False\n",
        "\n",
        "    # Go on until the pole falls off\n",
        "    while not done:\n",
        "\n",
        "      # Choose the action following the policy\n",
        "      action, q_values = choose_action_softmax(policy_net, state, temperature=tau)\n",
        "      \n",
        "      # Apply the action and get the next state, the reward and a flag \"done\" that is True if the game is ended\n",
        "      next_state, reward, done, info = env.step(action)\n",
        "\n",
        "      # We apply a (linear) penalty when the cart is far from center\n",
        "      reward = reward - delta * np.abs(state[0]) \n",
        "\n",
        "      # Update the final score (+1 for each step)\n",
        "      score += 1\n",
        "\n",
        "      # Apply penalty for bad state\n",
        "      if done: # if the pole has fallen down \n",
        "          reward += bad_state_penalty\n",
        "          next_state = None\n",
        "\n",
        "      # Update the replay memory\n",
        "      replay_mem.push(state, action, next_state, reward)\n",
        "\n",
        "      # Update the network\n",
        "      if len(replay_mem) > min_samples_for_training: # we enable the training only if we have enough samples in the replay memory, otherwise the training will use the same samples too often\n",
        "          update_step(policy_net, target_net, replay_mem, gamma, optimizer, loss_fn, batch_size)\n",
        "\n",
        "      # Visually render the environment (disable to speed up the training)\n",
        "      #env.render()\n",
        "\n",
        "      # Set the current state for the next iteration\n",
        "      state = next_state\n",
        "\n",
        "    # Update the target network every target_net_update_steps episodes\n",
        "    if episode_num % target_net_update_steps == 0:\n",
        "        #print('Updating target network...')\n",
        "        target_net.load_state_dict(policy_net.state_dict()) # This will copy the weights of the policy network to the target network\n",
        "\n",
        "    # Print the final score\n",
        "    if episode_num % 50 == 0:\n",
        "      print(f\"EPISODE: {episode_num + 1} - FINAL SCORE: {score} - Temperature: {tau}\") # Print the final score\n",
        "\n",
        "    scores.append(score)\n",
        "\n",
        "    # Early stopping if the past 20 episodes gave a sufficient score\n",
        "    if score >= max_score-10:\n",
        "        flag = True\n",
        "        for i in range(20):\n",
        "          if scores[-1-i] < max_score-10:\n",
        "            flag = False\n",
        "            break\n",
        "        if flag:\n",
        "            print('Early stopping...')\n",
        "            break\n",
        "    \n",
        "    if flag:\n",
        "      # Update the target net and then exit\n",
        "      target_net.load_state_dict(policy_net.state_dict())\n",
        "      break\n",
        "    \n",
        "    # Gradient\n",
        "    if len(scores) > 1:\n",
        "        gradients.append(scores[-1] - scores[-2])\n",
        "    else:\n",
        "        gradients.append(0)\n",
        "\n",
        "env.close()\n",
        "\n",
        "print('\\n=-=-=-=-=-=-=-=-=-=-=-=-=-=-=-=-=-=')\n",
        "print('____________FINISH TRAINING_________')\n",
        "print('=-=-=-=-=-=-=-=-=-=-=-=-=-=-=-=-=-=')\n",
        "\n",
        "df = pd.DataFrame(\n",
        "    columns = [\n",
        "               'gamma', \n",
        "               'replay_memory_cap', \n",
        "               'l_rate', \n",
        "               'target_net_update', \n",
        "               'batch_size', \n",
        "               'bad_state_penalty',\n",
        "               'min_samples_for_train',\n",
        "               'loss_function',\n",
        "               'explor_profile',\n",
        "               'beta',\n",
        "               'delta',\n",
        "               'episodes',\n",
        "               'scores',\n",
        "               'gradients'\n",
        "              ]\n",
        ")\n",
        "\n",
        "# Save the results\n",
        "df = df.append({\n",
        "    'gamma': gamma, \n",
        "    'replay_memory_cap': replay_memory_capacity, \n",
        "    'l_rate': lr, \n",
        "    'target_net_update': target_net_update_steps, \n",
        "    'batch_size': batch_size, \n",
        "    'bad_state_penalty': bad_state_penalty,\n",
        "    'min_samples_for_train': min_samples_for_training,\n",
        "    'loss_function': lf,\n",
        "    'explor_profile': exploration_profile,\n",
        "    'beta': beta,\n",
        "    'delta': delta,\n",
        "    'episodes': episode_num+1,\n",
        "    'scores': scores,\n",
        "    'gradients': gradients\n",
        "}, ignore_index=True)\n",
        "\n",
        "# Save the configurations' statistics in a .csv file\n",
        "df.to_csv('cinfig.csv', mode='a', index=False, header=False)\n",
        "\n",
        "print('\\ACCOMPLISHED')"
      ],
      "metadata": {
        "colab": {
          "base_uri": "https://localhost:8080/",
          "height": 729,
          "referenced_widgets": [
            "45455de2a73b4a9cb55a4ee8e0644f8b",
            "7e1f3377609f4cb8bcab9475bd427b94",
            "f213e0850ef048f0a59ea15a427e7590",
            "26669a9209b64bc3ad8ea1f2bd2a823a",
            "828e5cfc9cf849aa9be452bc2a569c4d",
            "ed9164d3dfdf4c2cb2974118b3b42b53",
            "ade9f2ab4c1c464aae58b901c35d4fd9",
            "b1310763096245efa0d70a1d1c4583de",
            "03299d84dae84e3aa9ef340187ba8a1e",
            "589b5f7a9597438db27e1788e7304e2e",
            "fb6ee7ff18954de5ad3572f3372e401a"
          ]
        },
        "id": "POt_KBI57OmA",
        "outputId": "106566e4-2d59-453d-db5b-4c94bc6e6e20"
      },
      "execution_count": null,
      "outputs": [
        {
          "output_type": "stream",
          "name": "stdout",
          "text": [
            "=-=-=-=-=-=-=-=-=-=-=-=-=-=-=-=-=-=-=-=-=-=-=-=-=\n",
            "__________________START TRAINING_________________\n",
            "=-=-=-=-=-=-=-=-=-=-=-=-=-=-=-=-=-=-=-=-=-=-=-=-=\n",
            "\n",
            "gamma: 0.99\n",
            "replay_memory_cap: 10000\n",
            "l_rate: 0.01\n",
            "target_net_update: 10\n",
            "batch_size: 128\n",
            "bad_state_penalty: -1\n",
            "min_samples_for_train: 1000\n",
            "loss_function: SmoothL1Loss\n",
            "initial temperature: 5.0\n",
            "beta: 30\n",
            "delta: 1\n"
          ]
        },
        {
          "output_type": "display_data",
          "data": {
            "application/vnd.jupyter.widget-view+json": {
              "model_id": "45455de2a73b4a9cb55a4ee8e0644f8b",
              "version_minor": 0,
              "version_major": 2
            },
            "text/plain": [
              "  0%|          | 0/1000 [00:00<?, ?it/s]"
            ]
          },
          "metadata": {}
        },
        {
          "output_type": "stream",
          "name": "stdout",
          "text": [
            "EPISODE: 1 - FINAL SCORE: 46 - Temperature: 5.0\n"
          ]
        },
        {
          "output_type": "stream",
          "name": "stderr",
          "text": [
            "/usr/local/lib/python3.7/dist-packages/ipykernel_launcher.py:8: UserWarning:\n",
            "\n",
            "Creating a tensor from a list of numpy.ndarrays is extremely slow. Please consider converting the list to a single numpy.ndarray with numpy.array() before converting to a tensor. (Triggered internally at  ../torch/csrc/utils/tensor_new.cpp:201.)\n",
            "\n"
          ]
        },
        {
          "output_type": "stream",
          "name": "stdout",
          "text": [
            "EPISODE: 51 - FINAL SCORE: 17 - Temperature: 0.447213595499958\n",
            "EPISODE: 101 - FINAL SCORE: 43 - Temperature: 0.04000000000000001\n",
            "EPISODE: 151 - FINAL SCORE: 85 - Temperature: 0.0035777087639996654\n",
            "EPISODE: 201 - FINAL SCORE: 186 - Temperature: 0.0003200000000000002\n",
            "EPISODE: 251 - FINAL SCORE: 135 - Temperature: 2.862167011199733e-05\n",
            "EPISODE: 301 - FINAL SCORE: 112 - Temperature: 2.5600000000000026e-06\n",
            "EPISODE: 351 - FINAL SCORE: 167 - Temperature: 2.2897336089597872e-07\n",
            "EPISODE: 401 - FINAL SCORE: 39 - Temperature: 2.048000000000003e-08\n",
            "EPISODE: 451 - FINAL SCORE: 141 - Temperature: 1.8317868871678305e-09\n",
            "EPISODE: 501 - FINAL SCORE: 36 - Temperature: 1.6384000000000028e-10\n",
            "EPISODE: 551 - FINAL SCORE: 460 - Temperature: 1.465429509734265e-11\n",
            "EPISODE: 601 - FINAL SCORE: 168 - Temperature: 1.3107200000000027e-12\n",
            "Early stopping...\n",
            "\n",
            "=-=-=-=-=-=-=-=-=-=-=-=-=-=-=-=-=-=\n",
            "____________FINISH TRAINING_________\n",
            "=-=-=-=-=-=-=-=-=-=-=-=-=-=-=-=-=-=\n",
            "\\ACCOMPLISHED\n"
          ]
        }
      ]
    },
    {
      "cell_type": "markdown",
      "source": [
        "### Show vids"
      ],
      "metadata": {
        "id": "_woK-3Xd9BxJ"
      }
    },
    {
      "cell_type": "code",
      "source": [
        "show_videos()"
      ],
      "metadata": {
        "id": "zF05RJPk85wf",
        "colab": {
          "base_uri": "https://localhost:8080/",
          "height": 1000
        },
        "outputId": "ba637f59-0efc-47f7-c858-b7f929a8ed43"
      },
      "execution_count": null,
      "outputs": [
        {
          "output_type": "stream",
          "name": "stdout",
          "text": [
            "\n",
            "SHOWING VIDEO video/openaigym.video.2.63.video000000.mp4\n"
          ]
        },
        {
          "output_type": "display_data",
          "data": {
            "text/html": [
              "<video alt=\"test\" autoplay \n",
              "                    loop controls style=\"height: 400px;\">\n",
              "                    <source src=\"data:video/mp4;base64,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\" type=\"video/mp4\" />\n",
              "                 </video>"
            ],
            "text/plain": [
              "<IPython.core.display.HTML object>"
            ]
          },
          "metadata": {}
        },
        {
          "output_type": "stream",
          "name": "stdout",
          "text": [
            "\n",
            "SHOWING VIDEO video/openaigym.video.2.63.video000100.mp4\n"
          ]
        },
        {
          "output_type": "display_data",
          "data": {
            "text/html": [
              "<video alt=\"test\" autoplay \n",
              "                    loop controls style=\"height: 400px;\">\n",
              "                    <source src=\"data:video/mp4;base64,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\" type=\"video/mp4\" />\n",
              "                 </video>"
            ],
            "text/plain": [
              "<IPython.core.display.HTML object>"
            ]
          },
          "metadata": {}
        },
        {
          "output_type": "stream",
          "name": "stdout",
          "text": [
            "\n",
            "SHOWING VIDEO video/openaigym.video.2.63.video000200.mp4\n"
          ]
        },
        {
          "output_type": "display_data",
          "data": {
            "text/html": [
              "<video alt=\"test\" autoplay \n",
              "                    loop controls style=\"height: 400px;\">\n",
              "                    <source src=\"data:video/mp4;base64,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\" type=\"video/mp4\" />\n",
              "                 </video>"
            ],
            "text/plain": [
              "<IPython.core.display.HTML object>"
            ]
          },
          "metadata": {}
        },
        {
          "output_type": "stream",
          "name": "stdout",
          "text": [
            "\n",
            "SHOWING VIDEO video/openaigym.video.2.63.video000300.mp4\n"
          ]
        },
        {
          "output_type": "display_data",
          "data": {
            "text/html": [
              "<video alt=\"test\" autoplay \n",
              "                    loop controls style=\"height: 400px;\">\n",
              "                    <source src=\"data:video/mp4;base64,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\" type=\"video/mp4\" />\n",
              "                 </video>"
            ],
            "text/plain": [
              "<IPython.core.display.HTML object>"
            ]
          },
          "metadata": {}
        },
        {
          "output_type": "stream",
          "name": "stdout",
          "text": [
            "\n",
            "SHOWING VIDEO video/openaigym.video.2.63.video000400.mp4\n"
          ]
        },
        {
          "output_type": "display_data",
          "data": {
            "text/html": [
              "<video alt=\"test\" autoplay \n",
              "                    loop controls style=\"height: 400px;\">\n",
              "                    <source src=\"data:video/mp4;base64,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\" type=\"video/mp4\" />\n",
              "                 </video>"
            ],
            "text/plain": [
              "<IPython.core.display.HTML object>"
            ]
          },
          "metadata": {}
        },
        {
          "output_type": "stream",
          "name": "stdout",
          "text": [
            "\n",
            "SHOWING VIDEO video/openaigym.video.2.63.video000500.mp4\n"
          ]
        },
        {
          "output_type": "display_data",
          "data": {
            "text/html": [
              "<video alt=\"test\" autoplay \n",
              "                    loop controls style=\"height: 400px;\">\n",
              "                    <source src=\"data:video/mp4;base64,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\" type=\"video/mp4\" />\n",
              "                 </video>"
            ],
            "text/plain": [
              "<IPython.core.display.HTML object>"
            ]
          },
          "metadata": {}
        },
        {
          "output_type": "stream",
          "name": "stdout",
          "text": [
            "\n",
            "SHOWING VIDEO video/openaigym.video.2.63.video000600.mp4\n"
          ]
        },
        {
          "output_type": "display_data",
          "data": {
            "text/html": [
              "<video alt=\"test\" autoplay \n",
              "                    loop controls style=\"height: 400px;\">\n",
              "                    <source src=\"data:video/mp4;base64,AAAAIGZ0eXBpc29tAAACAGlzb21pc28yYXZjMW1wNDEAAAAIZnJlZQAAQQBtZGF0AAACrgYF//+q3EXpvebZSLeWLNgg2SPu73gyNjQgLSBjb3JlIDE1MiByMjg1NCBlOWE1OTAzIC0gSC4yNjQvTVBFRy00IEFWQyBjb2RlYyAtIENvcHlsZWZ0IDIwMDMtMjAxNyAtIGh0dHA6Ly93d3cudmlkZW9sYW4ub3JnL3gyNjQuaHRtbCAtIG9wdGlvbnM6IGNhYmFjPTEgcmVmPTMgZGVibG9jaz0xOjA6MCBhbmFseXNlPTB4MzoweDExMyBtZT1oZXggc3VibWU9NyBwc3k9MSBwc3lfcmQ9MS4wMDowLjAwIG1peGVkX3JlZj0xIG1lX3JhbmdlPTE2IGNocm9tYV9tZT0xIHRyZWxsaXM9MSA4eDhkY3Q9MSBjcW09MCBkZWFkem9uZT0yMSwxMSBmYXN0X3Bza2lwPTEgY2hyb21hX3FwX29mZnNldD0tMiB0aHJlYWRzPTMgbG9va2FoZWFkX3RocmVhZHM9MSBzbGljZWRfdGhyZWFkcz0wIG5yPTAgZGVjaW1hdGU9MSBpbnRlcmxhY2VkPTAgYmx1cmF5X2NvbXBhdD0wIGNvbnN0cmFpbmVkX2ludHJhPTAgYmZyYW1lcz0zIGJfcHlyYW1pZD0yIGJfYWRhcHQ9MSBiX2JpYXM9MCBkaXJlY3Q9MSB3ZWlnaHRiPTEgb3Blbl9nb3A9MCB3ZWlnaHRwPTIga2V5aW50PTI1MCBrZXlpbnRfbWluPTI1IHNjZW5lY3V0PTQwIGludHJhX3JlZnJlc2g9MCByY19sb29rYWhlYWQ9NDAgcmM9Y3JmIG1idHJlZT0xIGNyZj0yMy4wIHFjb21wPTAuNjAgcXBtaW49MCBxcG1heD02OSBxcHN0ZXA9NCBpcF9yYXRpbz0xLjQwIGFxPTE6MS4wMACAAAAB1mWIhAAv//72rvzLK0cLlS4dWXuzUfLoSXL9iDB9aAAAAwAAAwAAJuKiZ0WFMeJsgAAALmAIWElDyDzETFWKgSxBB2NXyzTsSoDUi6MXE0S3SHHAAAHrYhnaoB6OmtGk1vf9tathi7DvoaBYhc5N7qmA87+dpMDzb0Hp931UmjeGJ2sIgaCrIq5/P2kbJK3FWW0/eDtnkBZErUyaqyqbVVtUpobYIzZSw/DcL7db7FesWW76kD+BvvMifVRFfHbIApaShANwaLXLbZx5oGE8TiQsWM7yv/93ybvs50VHM8jzeoETTyDPuIQLPagyvuRAwoQhrLb/5OH6bCoHYr4LdL8RTdyztBhCn66h+s/M3L2tv8lJ7xF9em3v663qsbkYl0nn1NMxqv1c10bVAufDIHzn7kov7ztGOJQQDn0xsLpQAF+f1Pveho2fgrphfK/7GcrWE9CgQcZxg1kX+IylNHa/N62shNxtiKUqBx/aqqUCvArieXold+GDuWu5MQZtMGw7zocAuiwY4uYanFbinYrdc/fkjq1J/GWiD6raAPd3XH2TwBhVOD/giHghrGXKybzg7G9/NucaD3D42agEPQyX+39jjoiYD+A11xYAAAMAAAMAAJ6BAAAAqkGaJGxC//6MsAAARgph/D+NABj3usfMoy7gln5j6LIMC5oRyfMGONmAaCq55KZj61GfhpSD8jM59Zrr/PfULGLnZK0OViwf/Tiy3YuOiadw70B2isDlBrkv3lgAIJJdVtEj0mACqRdWR6yEBzt+PEMjc8+k8diN3719tqh5X1zj//zXtnTLFgLhaMBBtYWAF4Ergq7UnsBpQAAAAwAkt8H7Au2qqVDbqVj0AAAAQkGeQniEfwAAFmwSKpAC1tKL7ybYyYiIHc1QfLKvreZxoN/mMOOKnc0C1VtUBZKpSX4oQh/gAAADABWyNvl5FwgI+QAAADUBnmF0R/8AACPDRoL5sJrokAM4SP14ZoPegS5PyfYSfDQJiyPkVLeAAAADAAAF+jMGcVAKmAAAAD8BnmNqR/8AACPXFQAcK3Szz2sVy3q50Huf4Yy1X8XNhCUM4KOrp6y9bYRvJykU2ho4AAADAAFO25mlIfCA3oEAAABVQZplSahBaJlMCF///oywAAAail/tsdCE8r+gPc3wnNl/p6TADwzC9yTlPTuFSJ0fQaCh7Ey36pFvqw/+/+Xd7FacxxcaREqFKP5dOdmHjQXR41mvAwAAAGhBmohJ4QpSZTAhn/6eEAAAR0RZ9jEdgA6R76kd7mev2QRX4DqN+ssr3CcKxPJOBldqPx4H8z6J0k/M1i2FhwzlanmXPjOROr+yCXBxn9YSNgVZMj9rViwiODR3L7v++LDbCx9lSFXWbQAAADRBnqZFNEwj/wAAFweSmktMN9hQfZMgIjR16hEDTmKENwrAlw7o39rmK4e9YaKNSpPoNblVAAAANwGex2pH/wAAJL8EJwrozIoszTBRqeWIMDNNIpoxnmOAAJq6FPgPbNHcVM6qB+efR7Rkhge4ekAAAABqQZrMSahBaJlMCGf//p4QAABHUQlLz7OJmoINtuigRQBUzdgNgOzVsHOpfla604G67/ZglL3AwAtnksuYl2pd2etGYnRSu6nBmpx/mJefH81/lfvP6wkbvDdTb8b7qRcAs9PNs0xQGkWOzwAAAF9BnupFESwj/wAAF0w9LmK5UuyQrhFlj2c7s6WyhMnL3qjXBg6/NtB7oNjS6mmHa+sMyAcPm8HGKSIojdOGdpXKTu1t52NrN8VMBI4eBcUaX2T/iqqHiLaaQ+9uoxRdwQAAADEBnwl0R/8AACPDRws6Ci0gjFpfjqGoxBaT0uYt5odQAJv8b318AnRXuzZI8VAk35VQAAAAOwGfC2pH/wAAJLH9obqWqgLfKToqXU1UYH3wsV0sYMm9u4ZJsFk1MTnh+G4c9ABOxTmAwZOdS3am60Z8AAAAYUGbEEmoQWyZTAhn//6eEAAAR0RZ9ibtAcs0XbNhCBdb0NgVvlWmvcAsUeYAqAfrtMkNF9+SoHn3vmaQdndvlyeH8MVk0WS/oCrCHF1s9mjLt0CWi9aBRglfzjzWSCcOcIkAAABGQZ8uRRUsI/8AABdDSBcq5EekNBYqo0oBXO9jLXlPvscXvtmTXsHgQ9YwJpEw5QjUrH2VyHUYqf/FRbM/VtFG6k9BkRxLtwAAACYBn010R/8AACSr+Fi7YdaXRAi9Xqzi6RWrqHoZqxDI872kwx98wQAAADwBn09qR/8AACS+9T4Unv2Cg+jjfiF4FY34F3/Ar3sAaPmOYPLz/IBCd+z5JaNRsaHQoI6nHS+02OCtnZgAAACJQZtUSahBbJlMCGf//p4QAABHRFoiXTl4lwYRhRzM/bv8Z1+ThwmKkongRrCcFwAa4QNZ47I34fx+CQSvjeWuMrRii0bIIYMXEfPDTrUhJigiiqy2uAv+VGSY8L3YPdakrOj0csdbovwbFCf/1XZDbrq1UCnkM11ql3AhtenBHbtwG+FkWXtAmoAAAABSQZ9yRRUsI/8AABdDR7cNug6aiXnQSD/4PuBXkWLAqS8kw500yMSK4ug2sMJIefXo+rYSht5WB+Z7lLEoGol3gJ0MeBG5aZgjT2XIkJLfvD7yYQAAADgBn5F0R/8AACTDF2e8sP5pKhP54VhEoWVWFAWfUdfaFvsezUrLqcCpWCJFhk7kiZlFGe3HGFs7MAAAAEoBn5NqR/8AACS/EakgBEwCDbLAQeXg37ac/g2DXwcycAGTCtVa+e9hGa12vUjxN47DWxsEpL7fW5N8q5c7+OyHvVTMtgoOzVS4EAAAAGZBm5hJqEFsmUwIX//+jLAAAEgC1iMAUG15QS6RAZ9ejtP0GJVLEddN7OHoMcZVWDDg3Tc0QqrB/ML1ymVb0BWOimZwCoLq5F8WXrxT1Q7ReLteGhP6wlHJEBS65133UYzNwK5rHpEAAAA0QZ+2RRUsI/8AABdMPS5dS0FjcuwAUxjBbj40r+cZTjJEX3Pp//55ltUFZkKn6tccGThqQAAAADgBn9V0R/8AAA3OYJgBbZ5v03hFeODLJQNXcZAgiWx8qGJ3/sO6mgziDif+ppxnAqMg+qn8DoIXLQAAACgBn9dqR/8AACS9g0JzJbVebCc1oNeGaspPzlIroLmKzGmRHK5BQ3ZRAAAAlkGb3EmoQWyZTAhf//6MsAAASDPa03bE2AWk0oTKOFsGmINgMonpyUebktWaSOqZ/ZbeCR/1VMuZ3TVd05lNjKwKGuykJkJhatj6k103W98ef1v1N+IdupW7RgYbeaewIzlsQ5EbxIRMUBaOhNQNlqXW8VxF+r6GHxdhpdg+4Bfvt5GOsNIXTqoSyD2DR4s2qD0nTiKnqwAAAENBn/pFFSwj/wAAF0NMx4AiY2Md5FI1XnA/UG3SHkreO2ZKEUbKkSbxUDV/6n0cwtrp3YlIeqDkbsW8bhj5I1qc5xGBAAAAMAGeGXRH/wAAJMCZTgsWNA1LHiADiuafrko9F9U5HdthjRDDacALTDy9bosV2OxqQAAAACUBnhtqR/8AACS9g0JzJdzTWTD/LenB1EmgHwgTce3co9gb9a5VAAAAmUGaAEmoQWyZTAhf//6MsAAASAH1EYAoBhQlqMzKBL3hM8coZsL5c1t6/KZSaPSu2qTDV0kJhEG0UmaWbjADMKeDmbZM8dskCiF1DMXTO9RoOmx7Ok+LMRMZkPsqr3uhT398nJZ7VX9SWkchk4LdHGBZq5r/36Y2B52xpdwSZ4Qk5qDDqDkFbcIr/REvGEtLoZeGIjlqDEzlwQAAAGRBnj5FFSwj/wAAF0NHzq/+tQhCOyJl3lcggfwmigLy3bdV6xHSYX6auafqbLdLBf7atd/94dfGu/YO8SZrRGuoRcbLTGi2FqQ+TYvLcJPft/B6Vj7ifk7cQ2+3E2cSeoE+RWVAAAAAOQGeXXRH/wAAJMCZMmsms5jqDVJgBbwCFvteJY57WhaFMhwX2fzFFuhvsasJmvLfSZGu2/7qduSlsAAAADQBnl9qR/8AACS/GrJI4jlog+JJZxFYfh9CHgMPeJS2oZMyAJw5ScNrAVABJ976dYwAvS2fAAAAqkGaREmoQWyZTAhX//44QAABFThwfAAbVURNhKZ8DmUtkn3wvQjbKjubAW9Ua8JKJLv5I9lki2T+oimPRJfEtaP/X0VfmP/TXM5KlA9cY5gkhxAEQdf6xh2ZYD6YqjkB6X5Ww0pvXe7g+AcO6/MIoRvsDLgmfUSUY4BI5ZpQraLQ8QpERZdfkP30PnM26HbwKg0rfbdHVAfyipnRJuFOEsbccJAhPFss+47AAAAAP0GeYkUVLCP/AAAX6XkikzuA3JfWOeq8LhwCNJGjNZHtHwwb8IJ2RsDKis9j80FCeX7D2q4RBOvdYcMOs0HIgQAAADcBnoF0R/8AACQ9b5oquJd9aB1UlIxzDim4YkTdS0FZhTn/1SKJIGVakI2kszTXzVOUxROuSHefAAAAOwGeg2pH/wAAJb8EKyqv5PIA5KQ4nB19RpGhHCPz5sT4Iho7Uv9GhOMADaeU/otaI7ediIk1I+JlUu6xAAAAcUGahUmoQWyZTAhf//6MsAAASALaWcAUAwoTJ5fEYRkOuWh0hnAMTsklzqz6mUBDs+xuin9YEYxQrNFlL4+GTyIF+rrsIRrNHTMdIZdtuYak7JfjRe9LDHuv3kbPa7dgR9oYrXlKwo+cihikSZjBIHyhAAAAaUGapknhClJlMCF//oywAABICNZwBtVqMXZlZZu08MSMOIX/qk4msS08LydFeb/s3IGEqhYYVKlF6lbEdTs7nv6+/d+7Z4Sp418YAQS1zkaIL9ogLWp4OoNTMuGTdGlipdFyokwfzCHHCwAAAHFBmspJ4Q6JlMCF//6MsAAASALQ+M+o0JbIioelc4MoR4h5qvBJEsZGQ0Y3+riM2PdUxUcsUX+/oEzzcy5xjtR/kJ/IgCNDdRpUfJkcs850qL6YTvAgy3EmSgd3AZg7flmA19saSP4g8hXyrVxrxtspQQAAAFBBnuhFETwj/wAAF0VYHmMyn8M0wR3Np3pdpduwl/yc6i6uxAirhh9PjOiO99YnhRxXM6PgXuHmysAFqk2sGqoYI3/uDGdf2rF0jnoyzH3dYAAAADEBnwd0R/8AAA3R0/EHHF8o8h9IX1iguqlaJja6XqE/+f/uSPLs86Y5NEduJ2tO3mbcAAAAKwGfCWpH/wAADcdoRVwx9dEG7YyqdzcCD5FcCQ6Jqy3YkQhtbs9NuOuA+60AAACfQZsOSahBaJlMCF///oywAABILAGt5ACYMujaAAIi3uHbLEsncFRjsFSx0V3fV1FnS5uM5AK+qMyYsDKq4goueLiP/Q2nS/Q685aKCqu4uxiweO9R8xhDaPiBvLYdyTKY7PDqNSb5wsprmm9lrXRZnt+ToEso5sbhdGdCeoeR3iTeOfwjnALIpz9p9gmSHm37VlPBd/7hfhWwLGBXwQVWAAAAWkGfLEURLCP/AAAXWgMAHFSw2x/Yll5QroAm2QExba6pyL8UZSn9qk8UONzp/6wAKS0hmxhZ2QBY0Zt1SZrIM6R1tt7759d5STBLa1NdoHQ/Kb2AXPC7YoW+SAAAAD0Bn0t0R/8AAA3Bn5F6jbiAmf8igriJutSUsgOhEksES1Huol30RI+iXPCY9/CVXyy//eTjTQ8HPjnsLRnxAAAAMAGfTWpH/wAABWeuGEQp5WTI0A1XdYsZ3L4D4qrguyEjKbj3z30z0+Lxc/lAYm0nPwAAAHJBm09JqEFsmUwIZ//+nhAAAEdJbWADpH3CqFmBzB3yK66Phelw649x5nRkp4AmP22V9QPP6morJHHAxAyb7DQtRM9N/CX9YSeLAZw4jIogl18O7yrHp04cyQvrH+jC2vvzRreFiSRzwVB2lJtNczzFacEAAABkQZtzSeEKUmUwIZ/+nhAAABr5IExePHNBJ5L/INJaDRsiydd0vnflUfWiixwAtw3gtCV8yN2vwVZ1bkGRPTCeasB7MUBd+Sud2jzGKED2QAa0gtWtwM4Fh0fkHmbIirvlULj6wAAAAFxBn5FFNEwj/wAAF1rQgAjHumT4AsCTQ9lyJo3Hk/YFf7L8PZhR50v7Se8goyA1fFQ3az1wxrzM97rmS1BrE9Lggl42nexG17+4KRFgfUQryHcBOb3psaJ9Ri5oDAAAACUBn7B0R/8AACSsOip5WS3gNHPZNqoXmOU+wJ+9m081VgpDHAXdAAAARwGfsmpH/wAAJLItfVsM8G6/fGGBjbUbeTfKkBlWevqcOTfACWEONBJzQkRfqL5Mg09MfC9FAETz5gqc12uqxQdhda+abUBgAAAAj0Gbt0moQWiZTAhf//6MsAAASAL9IwAsE/knv4vh3/cZ8yZGLy/cgyZFCZ8/dHZkQTO7MPvo/ZdKsQSMulYOaB9DgsircIK2mqPZhGKeJq+X+DabBeiCUf7nF/G7m0VPP0evN2GbuCgp9T1ZUW90FiPxdZzXAuV+9NiNzYUCJwhwUyKNNwLA/4SNyFt0pXwNAAAAQkGf1UURLCP/AAAXQyyFXhnJPRoyDdSew28RriWJ9HT+3MpfC0Py5c2UjyCm+1mApCl6WenABODZWEuTBx1TxROxbQAAADcBn/R0R/8AAA3PXIOITnbjwmrNcdPhDaxh68m6mx3vC4pcS623eN+vr4AUYEBg2OZI4Hiz/D5IAAAARAGf9mpH/wAAJKWEHagP/oRjAiyuGwDQmr2ceDEWDm3ORjk/SdvgBMbVwbCEDL+dxeK3z1PvfbyaVBy0TaL6N+xFHAkhAAAAjkGb+0moQWyZTAhf//6MsAAASCVCMW7ACwoe8AGkE5/mlssv45jLvDkXL6ysdyxdW5fuY4N89ws2giNw4bw2SzFtj8oUGDaLL6gr/cEY079Vn2gEpgPzJXi+dArNO1XIHKBT7LMe+6LpSyH72DLSmNRXRsbAcs6JdLTk1S28qTT4amL+FBBqrWN1GX/l+O0AAABCQZ4ZRRUsI/8AABdLlFg6DrShY/VfAA6XsNjAyHFaSxjKVPDpohvlSANhzYLSODJHYvW4GP97gWoASKW/NLFQWapMAAAAPgGeOHRH/wAAJMM79z8c/pC0uI1BQFNXIJMBjZHc8SKTqkJP5mviuNyDpiCsJ+HXA1qYcONMDz7DezQVtwgRAAAARwGeOmpH/wAAJJKit2WkKd9dPS5tT3CEVuEYXOVzfbvdCUAJZS/JNLARB98XRCcS9L8jUaFVYOaNz7Szmh/OAH3kU3X9VGz4AAAAe0GaPUmoQWyZTBRMM//+nhAAAEdJXOACMQ/cDaZYoppSBwQX7q6n0ACLCBuFOKZqv8uUjUS/tPL8SRJ9p7sYpragKOpQo46SuK/4Rdkm7VEnHqb+sHVbxmfFl+78ONvgBnIGROqq5jrUhOUBho4KDlCwR9A1ZtXrJawuOwAAAFUBnlxqR/8AACPHyJI5PcUli1XaWjc21WM9VW/PO8Evc+gzKwUAJZRNcxpMTnMSMRLAT/6ZGkbrh1FSIbhtU/wiuM7mhiLrKHrwV+Yl77+vwoeGt7rBAAAAtUGaQUnhClJlMCGf/p4QAABHgsTePxoiACtUYY63ir/TBuZfYLx2enkCKSND1BmThOkKtgfj15D3KclZrjBp0mr7WNO+MZvMdSmQXZlA90L20MpTZ6ImoTT+NEYqM0RiUTL9TjuRb6Jn6Qq6nZT9VwR1zpeE2MwDXlTBfpCIlI7PRCHW5e2fZ+SSIzUN6cRiY2t9YiZJ5OxrypH2g8GEbbrMbgu6LaLZ9I2skNnnZzbGgo5J7DQAAABGQZ5/RTRMI/8AABcdfUqCYP240Qe2SE5ACzeCS/UMW4Y6P2pcrXDXu1QlOv4S2/VR8q8RL/f7PVjXIqbWP6pOjMZHI3zpwAAAAEwBnp50R/8AACSY6HFEjWkKnucsBuv8tHkqQwYXa7cKa8JqkpTIUOmv+CUh96iABB2fl3rYvROjLEZOiN0J1BS2v+rDUtDDRgDYH3WBAAAASAGegGpH/wAAJMcLQKo/Q2C3BXZJ+gBJdK2x8c7sYKJ//mqmXCuSJaGOxOuy6V42MEcrLSRBmUwGNm1nATtZ/Yzdqi0EDa+z4AAAAJRBmoVJqEFomUwIZ//+nhAAAEc2xyNnbPHAHJpmqlH3GkN1pVisiug+6LZHoJm8UItaYKgQZ7mKchIXIJe9XOsrAhrl0Reg98dP03LeYmS2gZds4h1waHpm9Pbycv8n8JhNA//lKrV+zuI+u8eTM34HqGsfeMXoz0y6UFpwroAwA4s7jYZnuB0bjygPRoY7tZrqMkrBAAAAQkGeo0URLCP/AAAW/kXqkAR1J5c+vq/kixJlJz9zJaB/FkxEh85XKQR+xf0vWIXa7Eq17mMFRrhqHXNc2nTDHVoFMAAAAEQBnsJ0R/8AACO3ywdKyxGJABaz6JpQFRvcXl2LrxJvI74RpGDIO8wt6bfH/DbjMaDVsA8ywgkP79YljeoeIoOGu7edSQAAAEIBnsRqR/8AACR4e2AsTADdKnKJU5IJ8Ti/IZFrNq7tP3MaVOGoLI3anQ5Q+/VnIY2oHc7HWI0EUqFSeL5L/adVakEAAADAQZrJSahBbJlMCGf//p4QAABHRGoim6wAdA3gtDU2uqAZngWwszC+e/hFsCFJRvFHk2q5975QGYlbDTEcylBW3mYf0YfRd17yl9al9lKn4eyjCPhjTCno4UOb/92wvWiIM+gP3znIlITBkOq5BZ1BTaH7AjTodCAf+S74qgv00Pa9JikPm8TEiNshruDomKIjUVUFfIz7ysr9uw4NM/wV5EWPn8qlLT/MeKW7wK/+E1LGG33V+osgJOOMleKsVyJhAAAASEGe50UVLCP/AAAXS5Pmn6aaLuAAkgIi/VgMIvv6MVDmV1iLmGzvoSIpur5T6a70WMXpL3RB9NmEadZkeveW5/Xqo+/D3fw1IQAAAC4BnwZ0R/8AACS3x2dHM5VfgCD+lpXeeFfiz3TxsmCUNa5EKS4KD0Zw4Ub5gpepAAAAMwGfCGpH/wAAJL7tQqPx7avcfQ/dzBljOXYwmKWu135XDwqu7Rn5uz7LgIOJpJAUdVh+9wAAAMBBmw1JqEFsmUwIZ//+nhAAAEdEoLLyATXVQwQST75y4ZwPiudI1KQXexG42YLkRxMi51KT/MLVyBrMMiml0XR5C1RZUD/3WoWLfIHsRlsEk6lm+HMkwZC8vrzl0ZlLJsSgNoRh5cs4htVpTYIkSgM2BBXxZPLFy7g3Ouhq9zIlDIP83Uyh9mVWEOtWja4Eb3skzk6Fk5al/4Y4Kwhn8oSyFVTXGvd37r19+hyvb40+nqjDmGkzIb3gB5eUzg+60f8AAABPQZ8rRRUsI/8AABdLk+ar+KGdOA15mwSfH4j/liV8JLdfxWJWtZ3MBJaFoTqhK1rqpF/T+aABOHTRjvuzPdrvm/FbpDjRrQU30KewbfrgQAAAAE8Bn0p0R/8AACW4uBXbUcNuWE/uF5wlW0MxA1biKkN38CwJABl+Y5g1hbs78v31KrAUraDzWpmgJV1fJ10XPRiHTUlsdL+AQ1fpHFHzJpdsAAAAWwGfTGpH/wAAJbHsBShtNwu1bKQjsF3CM+1LWe2sjOV4OL2Z9m5Dy+pt1Fniu4IXLlLVLDZsSZrPEThfIaaCAD+dpKcK0EVmmSz1ZPOvucPTSa5Qyao6W4xRKlUAAACfQZtRSahBbJlMCGf//p4QAABHVJG2QkujJoBNGzCqWU58vVQv5leBF5X0YXafBTPxbe5krctkidQK+F+HYiQmkEfrN3QBycJJN3re1aEuBUk6U8dC7Xi4dcCbJUpoY9X2N/4peAun/SEtdVFH7pdyvAcZzX0TN/8XrnnERPRAOml4uuV2Az8k826aQcDhAM9i5MAcy5UWJo3DPYIBItkJAAAAR0Gfb0UVLCP/AAAXQyp4APQuXPZRImgGWERGvTlrVatsKLTbdpIG/h/VgSlZerE7hnFvNh42POlzKZvCMkzqe4VgYvhQjSErAAAATgGfjnRH/wAAJKw4u2qSD9haxBum7EAUt5XC2ukyc2C3P6TKveU2zSOklj6oopSxKsAoWlAA2ovP0UfwOlz/Pxnv99uNlt+S0TK6oQ1swAAAAEUBn5BqR/8AACSxzBF0mj+edT7lExC3VyBnNHh3rSx8VbAmiFHOJhjDtZ0x70njMoFACFO0fudGVKYR+DdYn6FJ9CRLyowAAACnQZuVSahBbJlMCGf//p4QAABHum5IGRM4AHSPIdkmn0ScXp2a0SJPbFxgqz+8+UZQpHL7svTw5y61cRM2MLlxoW8v+e7DOQzB6q2RRJJAEsM50Ym0NWcv8RvAWSMhmJuz36PbVxWUsFDVhB00cKUF1t4Su4BBVPHWh3u0Rxee0zkdVk7uSxzPVzSS4XuKno7CZ+VxYi2IE3JFkWcocfx8tbo0pBeW//EAAABGQZ+zRRUsI/8AABdFE4gQ3EbxLTYbZZbKjzdL19HuU2NXKtD0y/SVkPDjW2zboZYHLPAfv/EXjcrX5yucoACY1DsUInCJUAAAADUBn9J0R/8AACSsFQ47fhe2gV0uE2p5vAXTO9nzK3X8PKGmfBOl7TpQnLILhdixVwZCyc+VGAAAAEcBn9RqR/8AACPHC1AO7qiJ1T9wIZFjar5JXaPn6Afe4CtlGmm+8XUV4EwAwa0ACdUmNA2Mh+t7SgItPAt9xwLC1Gi8BhKqVQAAAINBm9lJqEFsmUwIZ//+nhAAAEVUkOb4l1GcweqVCKeprahj4qEXgTYFPxqKzzcc0QBPhOzAj8W7i6npQWUyAdJPKFKkqVswOEb+E0u2YtoM86waximMdZ80vCYD6jRycz5AI5R2qNbL0gzQ1hYZGRQ7QOmfhhEW+H5SJrOti8BTxpmuwAAAAEJBn/dFFSwj/wAAFrVXYNTdkzR9nMA8HVZk/+pmJwLp4JOs2SEfJQeAARnYcCV2+nHhXHfvgYJzigA2MkQ3kYED97MAAAAxAZ4WdEf/AAAjwz6axgzISLtKzuvE6HxPv1oje8T0cHCxYxD10wLutSWbPh5kvoF7MQAAACkBnhhqR/8AAA16YKH7DGYH4iRKCcxp7/ShXfdXKqcW18O3Zk4G8LHbgAAAAGhBmh1JqEFsmUwIX//+jLAAAEYI1nACw3fRbWZjGUYz28Oo8WzkUBlJaR0NbhCGTPyzjjqs0ywXSyh2brgkbCYl5gEdsqWhcZGcf509slttGcW8YFUVfaQnSUmiB7Ku51hQpE7+G9CThQAAAFRBnjtFFSwj/wAACGXKCz0vcfqEIvkZJZvAbl4m+6YPmNxPt9T+Dr6HwsUrhT9UALZRqxg7Watcca45RCQXKmvKowEP2FlqDe0iPDdGB9sTS2txtmAAAAAvAZ5adEf/AAANfhLwzv2uI9c9oFYmKB8i5CblhbjOVae6TY//hMSgA99ScCjKpbEAAAAxAZ5cakf/AAAjmYeji3Hn3YTLbHZ9xUKyHpGoBhZq1Ub+qAB7WfUhKyqqG/GJniE7cQAAAHhBmkFJqEFsmUwIX//+jLAAAEZLiOuwBWddZF0bue2P+WY7DQMA4c6kS/Qpow7jS+NfsLbeW4chVCH4reo/HdflAORrf6crBig+B0w8yXjEZ8kQbrbILrzMVYQ+RGeS8SsPv7Py6tdGGCBtWPv7zqgJeG8LZf0G0hkAAABOQZ5/RRUsI/8AABbA0AQAWHGJGv64qnHYn85i9M2VEI56OdhM8zXFaD27d4k0uep4C0MQfZECpdmh17hups9zGZqvA2I7/7WIMpuBH1tmAAAAKwGennRH/wAAI6w5W+tn4zxKYrwtL7ymFWdDDdFHMxHl14kt8PLzjyQEUEEAAAA7AZ6Aakf/AAAjwBNgAWzZ+cckxPvD9J4pPIxzM346/0iPwbXhjQdDjxqDQp0Yf4YUnEeJ1JTZV1CJtuAAAABXQZqESahBbJlMCF///oywAABGAh3BACNjIRABi3LwRT4sKphfDKbHP6RnOu6ehSraadWuyg3gfLyIJ1njj76IbGPYfBG+8bLNiPDz4E6N27GQXf6VdvLBAAAAQkGeokUVLCP/AAAWcXV3QOPXtKr6z6tj7YBbq42OivSCBH2khQgOnvtAAk4RfpY3nc2vepvDZXLmEiV2/blCx30NswAAADgBnsNqR/8AACM4MrhFX52hwt7SvYYTva41JnbuliYkKxYZsZbO6+/9muYcBfgUEW/QEUgj7WNtwQAAAIlBmshJqEFsmUwIX//+jLAAAEgQfUaYgCFGGdvAzbRE4rSUIafW0Hk7gA2tRhZZDqAD8LTLkiTuxZE9YpHP7HcGEP6XkNIJAFl8mkY7LhkdCdIKA8S4I28tzPUKdRavgwMn1TSqd3Cnwi3kiakGznA6RWKIHeJrtZAyzqm8y0IMl8abqQmaKzPOGQAAAFtBnuZFFSwj/wAAF0NHVO+xn3hWHRbAAN1PyYp0SMF3SBa0BjFO/yM4XLVuLj2Inn8R3nkaDDfXAZd8A6ffTV2Wmg2XvapVCL8jXpxYc171XWTsRB+IJ+VYRj8HAAAANgGfBXRH/wAAJMLs4YO3Jd1NexJCTYUb6sVceJnmng1iiDwGclNcGJIWdJnlOoAPvYrz79PtmQAAAD4BnwdqR/8AACS/BCZuz/vCyUpHEkp0J2YBJ7Xz7S62T+LqdYhyTSVL5/GQ7c0rzACENTtnAufa05+Mfhn+DAAAAIRBmwpJqEFsmUwUTC///oywAABIAs9Ve3oAdI7PvovS231+qjZ65WPiO8ml4VQLwrhLpALg8LUYGoehFNcWCYrcE47vyKJGwbC3RVuY6BWRIkj7n3XQBnn8O/q7o+ibwlJrt24DXUUpnZbIlTPr5IjnsLm/NB2Qdn8VPVfeGl5+JM5MCEAAAAA4AZ8pakf/AAAkseg0hvcxKNiISL6PEPCogsxOq5DigPHWGMkrIcagl0NppMa7bNL0gtGXiraqSYEAAABUQZsrSeEKUmUwIX/+jLAAAEgC094BeKvJJYSH633n1+BeA8TrBreBDvScZfGirENR0DMA3TOk4R7w0aBmEz5Y1p5B8yq2XSSnM3J1txFBy3CXy4WAAAAAZEGbTknhDomUwIZ//p4QAABHll42EOkJtABxAgNYXudmOwk3Zod6vqhPdB53Ktg8pWRj8/Sj1dPv5p33OpmFF0O+Cbwnj28yLs+zWNl9B6XAZ2Gj/aRJ8AufcBjNeGxDRB3ZdlgAAABjQZ9sRRE8I/8AABdDR/txOECGWdR2RFkyGjX4EidoAS2pGBafGmynqVQ2E1rGKBfK5J/m3klg3cqaQUoJsYRnte9H6vtGgG7cfiFMJY8fN/VwXFlINu0Hvb1oAWndeE81dYqBAAAANQGfjWpH/wAAI9hcwBEnPUeiQ516sBieB4t1JOCgh2zVA/VRt32DGUc4rOdnnUCalwIcx3AJAAAAfkGbkkmoQWiZTAhn//6eEAAAR0OQb4AIyAfbZ7wvp+F+dYcjWaotEuUvFQe4J8kZqkPAWqCSIk2GLGmtwR/MVXKkKuiy2bINpsavJ+1swekPU9zBQf87mTb7+4PiH1sy8ac/D4mLXB566TbTk0Hn0MUJU4f0mP+7niBGqbCQYQAAAEJBn7BFESwj/wAAFzriUg+ElJ3Jnvtdm0Jgx4AlV0AHakEuFgvMLVBCt1Kcfjv2xv6jOWa90CLGpZ0P25dX4vEgbUgAAABCAZ/PdEf/AAAkqenHFAPrE4DNMrWCN00u+iJ9KKR7Uxyy9E339I8wTFjQAIaz8s1lMQGhzCKsUmW/M9iT12513bUgAAAAPQGf0WpH/wAAJIRP3DlIwohegBJdHoNmTCvFslOuuUlUplk6W4uej211XskWDvgpLDOFHNzV6eiroUen7vcAAACnQZvWSahBbJlMCGf//p4QAABHejuE+LpAARewPNjHv2UQoe2vF8kINdH8ubcuzWGLRSMj3veEMLlTfrgvPaYSta0AosySfC5I+0XzyT1rwjjlOVcbGVfpsBtSwu9bOu07fsDqV7kwMYGhbbN7xxU5H8Jii2dWrkFhcWPwuJbO26BqLkluTyKkmPoPA2enUgZAy6F2dEh74Nm3VzkbrTl0cy7uphX+Y4AAAABBQZ/0RRUsI/8AABdCqyYoi7DMJIbjAQABuoP2zwd5Yd6NL43snEKM4COm8MDkp14qVCVLsPrXowOy2O/7yNi/uYsAAAAoAZ4TdEf/AAAkn1cIX7N+7YZjz412LgSm6fadFP8RvHcpLYATohOrsQAAAEYBnhVqR/8AACS9g40CloK9b/OtLmb70bakkAFkIzNhm+wh1Yr2sLdJMvDKin+uJRyX7zaAwGJwMkva5u2RHCbWS8owqX3AAAAAmUGaGkmoQWyZTAhn//6eEAAAR4EalgAslAC1vOvlT15kmPL48B9wnhrITUGuflZJ4fVA8gV/VX8ZtOiMpLBGh7p1AzayNJMD3lnLb6TxSxTIwAwekg/D2jfz8+k4Gk9xS3nl18KV6ZRFIJtEnaWh0cVjizy7iwU6/uFk76hFF0QQjOoPovJg3ebCvPiy0MeLy4cnV0SFAU0QVQAAAFlBnjhFFSwj/wAAF1Aw7QQAWHGJC7BIF9Vu/GqDqOREfxSo/Kw7OsfQUKQ8zGXNrFUBYzHOx5vAUueIdhLyulnE8XwY+T/NJfRSeE3c6RlO5LO8+WpuXgbPgQAAADEBnld0R/8AACSp6dtGxlsEopoOvsQyTp5d0OsY5P9WrDkh5qBpaVDLOoApGWIf2ws+AAAANgGeWWpH/wAAJL2DjP2T8jTl+gl9U2lptAXG1d4Cc4hEzSTk+VlIEoOHggUDLn3illAU7B1tnwAAAJ5Bml5JqEFsmUwIZ//+nhAAAElDYb+AKRDbAE4gt1JpDNOeOMIkfpxB6+PgO6Cxx3iiDdmrhK347yVxr+H2oBPyvsd1p6gt3W+WfqbfRKcsF7TWFAnBHVWt3z51nE7HYmCFfdREPzWJN9/2s49BGQwXX+HHh7TqKe7E9jj6OHued6I2gMh3kxBtNcpnEdeZ1nnhkWja2whFhiUCcKdpoAAAAFFBnnxFFSwj/wAAF+l9LWbpF2JiIuIe4wTSuDdQ3om/KHYtF5PTbIz4fbm55tJBa3C+zdBACU5Lqb/dHnMjPvFdB0w8PTKJug8WeG533+xh3WEAAAA7AZ6bdEf/AAAkqenbdb4q9jlQ62ymf1DLrmiXHcwMq84lqppmv9WieQUGbvcTDy2vSUZMv+PMNQrVXIMAAAA2AZ6dakf/AAAlvYNCb0+OABfsgrrTwNDg7JTa4k984SRXmMzAZ5Nid5FaI5BUAHxq1eC4KWdOAAAAv0GagkmoQWyZTAhn//6eEAAASVDeFiARU0XfWRt0/VPinDECvV/8zbptLRGA38GKcZgqzh+UYU11HCuPozUjziMAMXyyhBiMfJg87Y1vLA+YKPuXSA9xoFKiN3qH4uMbalKnX8KG7PUh6CYEPD3mcWgErbewXDgWBo3xrXrUX7H4mMUVCbtiEnx0DdrLvv7tf+m+BYFD+nwQuQDCJHUFwBOCWnyFZoNL42970CEzQt21FriUHABPU/i7n9MJQ2xgAAAAR0GeoEUVLCP/AAAX4If2o253jaXb/Q3IaCRZZUXhcddZaS8DmxL2FIkCPvCjNEwUlfY2J88m1vLLBwDhzrkBcxgYIvKFUqExAAAAPwGe33RH/wAAJanqU7tdqXgDzNSUh0XLMCud6YS6GVQTgOLTMEYcH13MmRRIqru6ezoAJWFqojcRXM5q6m42PgAAAEIBnsFqR/8AACW+9PoXHiUR7r3qVHixacpkPusHaTshB8+x6/uQuG9BIHiLyCtzAROk4v+kAAmUS+0DikjMLMD97+EAAACgQZrGSahBbJlMCGf//p4QAABJUQodAAdI8rtHKPmSoUC0lrnBMyobrFWbPRD96sj3C8z7Jw8gva7LBd/oL3qt38pqQai8pXxF0x5DokiLwrdzwrPdjtucw450uGBcyUEfSkRgRr9flrtzQFMn8qJV9+oqZ/BLglWpA/zj7udjYPWI+QdyfJZPf3thvHKZv1PYoqq6WZ5LFpEnSVJVWBhxoAAAAFtBnuRFFSwj/wAAF+l49QbaoAq7tWeUjj5gtNKo+fL3EikEkYKrtOBxeBP0R5aZG0PrH+DcfNFEpQo0iUr++A8DZ1JirgtIJvKn2QzE80XZMz6Q1i/Ex0XeiDv5AAAAPgGfA3RH/wAADiXSgk2j2GtU3E4eO2ZBUw0ClLhrTROEbEo2v891R/L8EWWuJAf9YE8HmkHZRgr2KBES93hBAAAAMAGfBWpH/wAAJb2p9vnPXo+ZjJvhnyueARfb9NiAqgIh0y99E7rgSDW3wrTG387PgQAAAJFBmwpJqEFsmUwIZ//+nhAAAElUusheQBWIHTb74j10nYv4BpvlUfj7G186oSqMYBCoLaCRHgrvk//olqizHh0wM+yTnMf1e/y1+yu4KypomelsR05gQDa4+QA4HmCeBra215NBLkWSQshg5wv0e6q1w4rGWraISAIWKTHGw8LRCvsZoBuV36vYrKgWT3sPGfBnAAAAXUGfKEUVLCP/AAAX52XRAEb4l0O5LZ2ARpsQ++sY2wYjqFrnqXIxKCkDh7jhX2uws8dLrIfjKlNHhDVi0DcaaAtg01iLGbrBifewMO727cPMcqnl9F7Mjb/AoyjnwAAAADgBn0d0R/8AACTDRwDQ8D0xiTkQTL+86ijVUJAE5stlIqtSXfAf3CRr2KFfWHOeR0OoAD+2D0T7hAAAADwBn0lqR/8AAA4mawkUjqHBiN8ZdR9jSXUCXeM8M84cXM30ybo9q8R5RDLKMu8AAtwU+gOXRX6erEevZ8EAAAC2QZtOSahBbJlMCGf//p4QAABJVMYwWRzHsAfBgRUcYtWIaCg5Sl0aGEgG+y/7ucyE9IpSxdfr0SZkbiUfP72JVuo5MG+g8dskWTPc3AtGGlvHSe3hnbv32/0TeYFfvMRgHvJ0rBH6lQQppDqxU7SzKsa/BuWsOGpyxKeYJEV6K2unAVou9PyasAIgwqrUkBHJInyphUrEEFdBC+mQdF/Y3V3/H8QBq7mij6DoWYWdgwL4ekIWoOwAAABPQZ9sRRUsI/8AABf294BNJH2o6xyAZj+wlRjfKfynCZNwETseyBr7DW7hPiiT0fHcwjthLMD3+yTf66Q4EPAc87Ma+ALb1F4/hEPbhaJs+AAAAEABn4t0R/8AACWsO4ltzxPFDm6FJ2luP4ohbdOxkYm6wCDg1mbPI4SXuduP2HSv3oAE3kza8b6dTik3AIULI7hBAAAALQGfjWpH/wAAJb8acEb1FLjp+MpNeNpnatPFnP/Ak2/uvtdkeD/pQyme6JOr3QAAAJpBm5JJqEFsmUwIX//+jLAAAEoCBf6moh+PIAbXYR2QmhCUxNHeEac6bPRcXu1zrwyXkGSjiTIV+MSmJWdIHEXuhD0Mj0qz86wS+N7D6wmCN45EjceWzg85CX6jicuNVsQ1v/CQ2JRP2rxZN96Pufebu3J1LLuI8KYooGcMEMtalVaOWKgca2LuX+kKnCL6Wc1rCSVKs4nQuFvxAAAAN0GfsEUVLCP/AAAX6CjRAF+6J4kbS3eIEkl/ZZZEpmy7wNxSdPbDXB7qqMoDDdpfHVkeJUZM/4AAAAAfAZ/PdEf/AAAlwzv6RfJ9dqHDVz6em2/xbXekoUyFTAAAAC8Bn9FqR/8AACXHMrzeQbTO0ywD+/ZqFrFVtnXZsRSwVh7CY7PS8tfMLX1yhcAv+QAAAF5Bm9ZJqEFsmUwIX//+jLAAAEp6b0TwVGA8H4AOc9n+bEDJzoFuTmLcrTqgFy6iWzGsCKOozcBpNPNrKLEx6N01A/k5dcv0/brzLKOindBc7f+HWlSrQUv3QdDs7kmAAAAAM0Gf9EUVLCP/AAAX6NRTE9/nczj1VMqt8w8gv6vcKPF6v6VLwSMiW/tUor8FRcEEJZaOUAAAAEUBnhN0R/8AACXVIQA6FF/PdyCGQxHsYZQu6kl59vARsTMforNvhJ9fFmFc+pI5GXWqmXQi8mo2u1akO+fPec6E2DWT5Z8AAAAzAZ4Vakf/AAAlsehhhvvOVk1fvnJh/x3N4++U/nkCbktC1n/E700SQA4HLO7cWuwYQOfAAAAAtUGaGkmoQWyZTAhX//44QAABFnMItrRYARkdCcOt4+/ajxzmceetovBHUXwhCwCvIdwLUt8ZzZTnNmCizQKbhGARbU95d8ITj8hQU+6Y4boFF0/005dilfWf0svfm1Y3dFMDOWEz/4adAXvA8gICPOfDIA8X33Vy2ICq0I+oLBJQX5YyQNBXu1hp8Kx5VkT2GlimdVX/1pTx9JkVyIRse9hoO1T0QTDHS986aHtKEfMol5IDWEEAAABNQZ44RRUsI/8AABc7GEYGVe1CnQhkoPU1i/0qRwV1IJ8j1yhvnok5RtVC0d2pV2YcXndg8ZY+Og9K8LPw4iMkPbOAaKjr9ZSuck4s2VEAAABUAZ5XdEf/AAAkt49O3FACMi2o6Kxgf2gL50H3EY63vrEEAoMiFouXDo8lrYmnqTk8Fn5dw1pJfAz0OfF1xr40NZ+AZKrE671qDG45Yfe/fy58kT7hAAAATAGeWWpH/wAAJL122IARe0dmS+PMwPt9wpv+Yd9KOEv1vS2tYYZg73m59XW2e7QToQeZycRUlz0ybgTdDW7hPYb0ruGCu36oTs3Jtn0AAACyQZpdSahBbJlMCFf//jhAAAEVkuPjMiwAcQM3Rmgb1NQr+hlLiNGErJFAYW7Dy59za6bPAMZnJdaavDcfDMmLW3UVQEswYOgZFCvSYFGQDv4b6EPUZooSznx7VDUofF3GCFow7ZT+GVBnBnis3w2+ZuXjpZlF+I4QpYhGQDAapMyHhnMxb65MrsV1C2pr//VDKmj/CH+Kqw691A4U43a5lzQzfppIme5Hy7m5RVDOTNfcUAAAAHNBnntFFSwj/wAAFv4y+P29BwInEcpJYr0E0KCuhYqP5gA43Up0gC2iQjWQ87uqxi3GmSo5ZTGNUruU8oaYkvgvC1C6vtggOX2rAQbKpD/9IGe/cfdns/t3dcczgnwcp2i0vVW5IzJctdn6BGj05UgIyDbdAAAAagGenGpH/wAAJK46fAAtmF02nwYWpHXZsCyN7+bvgV/UrrmSVH9rxH3A3IijHJrJAbR8zezFGmWWQXFfWtrj7GTYGdhxg3Vhylw4v8+ueikWNN65Wycb81jY2SqIwVRdV5UNNbutLAp5c6cAAABoQZqeSahBbJlMCFf//jhAAAEWKnOkZlZpXWVPinEZzyOtSh5DAZHqfFUTeUd9EQqaCkDruSEwuBouWMyMqck8AidkVv4PIAFqix5ksnyXxUIrGr3lzOj7QEKsfCW5RD2SIgH4QRk+OIAAAABrQZq/SeEKUmUwIV/+OEAAARXI210vxfr2SUAH9PTg+2Pfdy85uIwvlLQ5h1nU0911AqJXwWFN9gLCcYb455lQ1rzZ/9xVCmsN8aOnyfQXxrbLE3WHtEcD9U1cVZbdeUXWdI9nwgUdJxxYty0AAACCQZrASeEOiZTAhf/+jLAAAEgUXZU4Abr1KEXsIAi1iKYHz6KD0eHNcWAbcsiLQHbRZ7IHGyL5dfCnkWKB3c6ZRG255ycasPGTbvCo9HUGeqg1jYIpi+VpzVR4BzCLlY+vT52NcVPuVv0LZNajOEK5Ykk6U27zzK7rcxI+ASFSbjZTgQAAAMxBmuJJ4Q8mUwURPC///oywAABIAv0jACMjvraoFbVqOyqp5ZaStYgzghnlKnYZD5Of1VtNfAdUabSsSazh/+7rUa1WyyQ+uSBlwFaf1FIKs/FgYt5OT6pjT8H9puDFFEKlQhlFlPu6k8gKWSYIj4eVL5clgSiizKGnjidjVAfEPT4fTAVr9aj6SSL+OjFbtD3SLOtPcFdaCYiY2CzQ8kb7x6Xp47DuQW3xPT/oiPoHlBJherEtJsqpoXmO93NuN8Vo3Ch8V+G/+aPOErwAAABXAZ8Bakf/AAAkmatSDbH/Ei11ySgGy9WD7h3CzIQD94X4jTbJibutCsjcY2dT+Uz8emT0P76GIzWZ/pFcGgBbyI9RyUaLABVPkFnR5SjLxBW0urcRcXvdAAAAzEGbBknhDyZTAhP//fEAAAMCsPiiLg1jpky0o31mmF2VihzQAcWa7R/kdUDo+MrN9N3eCkpEBJF//ctTm3ZePlpxHTG4HFZ/cvF9g/3T8Io2d9+YL6/0XK86E+OS2iidCrbHfvPr3DkJgOzfkrdBRZlLHWv/wz1utp4XKD1n9Xz2TfsyHWwEGkfA9jskeyaUm8BCGfk8Dgrwxo2zGyX4ayK1MaEIKhK6F5qmNFlho7QRgQf+CS6s67k3+CnG4yAPtGBjZ4HXQDNBGF9RgAAAAHZBnyRFETwj/wAAF0ucUai9oxMExEdY2HYwYP5lvHi7pLROXz7UIjWhXUe4vqPQb3eWLRcNAWOIzs+loYOzAl6tB1MtFuwJLzirbIIR4AE0QI45MREOXAUHQrq84mWdGzPpBefmQEpZ6UGqRMtX+q2/pQjv3dyRAAAAZQGfQ3RH/wAAJNUhACLjIG5RORwC8urdeoHfhOBsZWEPu581o3+3nvDmV2xJYNtsQPPyujmCky5+Q+vTMw3aUgfAY0vYS0d7uwZMsV6wn5Fd92bhIP1XT9AKoGCoacvlPNdicu2ZAAAAaQGfRWpH/wAAJLPUQAsPWbbXeITi6cVMr+3tp3b0VNYw4YZmYkSOcmfpl9CbF/ssgVP+E7gAoO74hb02MaJGJ89pzIm0J6FVuGzx94EDNGbkvtD3WKNiqF5HB4OfH0Zy5RbUv7edvHrNmQAAAH5Bm0hJqEFomUwU8f/8hAAAEG9akDOBzABHuhT3Eai5Ns0VWW97yClESOJXYz1JjqhidJKcgkJmjvJXZabNfMgIuNIqEfrxv5nLiy6rMgQMPf+nc7kDvWW8c5GauQv/ekXXIaleDHa92OqDi082UapOvvHa7r+nA0TGzADyxcEAAABUAZ9nakf/AAAkvLeAd0Ihe+9t1yguE1lVoG8u3TtRVyx2rwtu8p9IldMVHk4fVLq9wdkVi6wPphIW4HkTh6rU5UmHsFXFTUAH0BPwbUrd/yTe7anwAAAKx21vb3YAAABsbXZoZAAAAAAAAAAAAAAAAAAAA+gAAA00AAEAAAEAAAAAAAAAAAAAAAABAAAAAAAAAAAAAAAAAAAAAQAAAAAAAAAAAAAAAAAAQAAAAAAAAAAAAAAAAAAAAAAAAAAAAAAAAAAAAAAAAAIAAAnxdHJhawAAAFx0a2hkAAAAAwAAAAAAAAAAAAAAAQAAAAAAAA00AAAAAAAAAAAAAAAAAAAAAAABAAAAAAAAAAAAAAAAAAAAAQAAAAAAAAAAAAAAAAAAQAAAAAJYAAABkAAAAAAAJGVkdHMAAAAcZWxzdAAAAAAAAAABAAANNAAAAgAAAQAAAAAJaW1kaWEAAAAgbWRoZAAAAAAAAAAAAAAAAAAAMgAAAKkAVcQAAAAAAC1oZGxyAAAAAAAAAAB2aWRlAAAAAAAAAAAAAAAAVmlkZW9IYW5kbGVyAAAACRRtaW5mAAAAFHZtaGQAAAABAAAAAAAAAAAAAAAkZGluZgAAABxkcmVmAAAAAAAAAAEAAAAMdXJsIAAAAAEAAAjUc3RibAAAAJhzdHNkAAAAAAAAAAEAAACIYXZjMQAAAAAAAAABAAAAAAAAAAAAAAAAAAAAAAJYAZAASAAAAEgAAAAAAAAAAQAAAAAAAAAAAAAAAAAAAAAAAAAAAAAAAAAAAAAAAAAAABj//wAAADJhdmNDAWQAH//hABlnZAAfrNlAmDPl4QAAAwABAAADAGQPGDGWAQAGaOvjyyLAAAAAGHN0dHMAAAAAAAAAAQAAAKkAAAEAAAAAFHN0c3MAAAAAAAAAAQAAAAEAAAUgY3R0cwAAAAAAAACiAAAAAQAAAgAAAAABAAAFAAAAAAEAAAIAAAAAAQAAAAAAAAABAAABAAAAAAEAAAIAAAAAAQAABAAAAAACAAABAAAAAAEAAAUAAAAAAQAAAgAAAAABAAAAAAAAAAEAAAEAAAAAAQAABQAAAAABAAACAAAAAAEAAAAAAAAAAQAAAQAAAAABAAAFAAAAAAEAAAIAAAAAAQAAAAAAAAABAAABAAAAAAEAAAUAAAAAAQAAAgAAAAABAAAAAAAAAAEAAAEAAAAAAQAABQAAAAABAAACAAAAAAEAAAAAAAAAAQAAAQAAAAABAAAFAAAAAAEAAAIAAAAAAQAAAAAAAAABAAABAAAAAAEAAAUAAAAAAQAAAgAAAAABAAAAAAAAAAEAAAEAAAAAAgAAAgAAAAABAAAFAAAAAAEAAAIAAAAAAQAAAAAAAAABAAABAAAAAAEAAAUAAAAAAQAAAgAAAAABAAAAAAAAAAEAAAEAAAAAAQAAAgAAAAABAAAFAAAAAAEAAAIAAAAAAQAAAAAAAAABAAABAAAAAAEAAAUAAAAAAQAAAgAAAAABAAAAAAAAAAEAAAEAAAAAAQAABQAAAAABAAACAAAAAAEAAAAAAAAAAQAAAQAAAAABAAADAAAAAAEAAAEAAAAAAQAABQAAAAABAAACAAAAAAEAAAAAAAAAAQAAAQAAAAABAAAFAAAAAAEAAAIAAAAAAQAAAAAAAAABAAABAAAAAAEAAAUAAAAAAQAAAgAAAAABAAAAAAAAAAEAAAEAAAAAAQAABQAAAAABAAACAAAAAAEAAAAAAAAAAQAAAQAAAAABAAAFAAAAAAEAAAIAAAAAAQAAAAAAAAABAAABAAAAAAEAAAUAAAAAAQAAAgAAAAABAAAAAAAAAAEAAAEAAAAAAQAABQAAAAABAAACAAAAAAEAAAAAAAAAAQAAAQAAAAABAAAFAAAAAAEAAAIAAAAAAQAAAAAAAAABAAABAAAAAAEAAAUAAAAAAQAAAgAAAAABAAAAAAAAAAEAAAEAAAAAAQAABAAAAAACAAABAAAAAAEAAAUAAAAAAQAAAgAAAAABAAAAAAAAAAEAAAEAAAAAAQAAAwAAAAABAAABAAAAAAEAAAIAAAAAAQAABAAAAAACAAABAAAAAAEAAAUAAAAAAQAAAgAAAAABAAAAAAAAAAEAAAEAAAAAAQAABQAAAAABAAACAAAAAAEAAAAAAAAAAQAAAQAAAAABAAAFAAAAAAEAAAIAAAAAAQAAAAAAAAABAAABAAAAAAEAAAUAAAAAAQAAAgAAAAABAAAAAAAAAAEAAAEAAAAAAQAABQAAAAABAAACAAAAAAEAAAAAAAAAAQAAAQAAAAABAAAFAAAAAAEAAAIAAAAAAQAAAAAAAAABAAABAAAAAAEAAAUAAAAAAQAAAgAAAAABAAAAAAAAAAEAAAEAAAAAAQAABQAAAAABAAACAAAAAAEAAAAAAAAAAQAAAQAAAAABAAAFAAAAAAEAAAIAAAAAAQAAAAAAAAABAAABAAAAAAEAAAUAAAAAAQAAAgAAAAABAAAAAAAAAAEAAAEAAAAAAQAABQAAAAABAAACAAAAAAEAAAAAAAAAAQAAAQAAAAABAAAEAAAAAAIAAAEAAAAAAwAAAgAAAAABAAADAAAAAAEAAAEAAAAAAQAABQAAAAABAAACAAAAAAEAAAAAAAAAAQAAAQAAAAABAAADAAAAAAEAAAEAAAAAHHN0c2MAAAAAAAAAAQAAAAEAAACpAAAAAQAAArhzdHN6AAAAAAAAAAAAAACpAAAEjAAAAK4AAABGAAAAOQAAAEMAAABZAAAAbAAAADgAAAA7AAAAbgAAAGMAAAA1AAAAPwAAAGUAAABKAAAAKgAAAEAAAACNAAAAVgAAADwAAABOAAAAagAAADgAAAA8AAAALAAAAJoAAABHAAAANAAAACkAAACdAAAAaAAAAD0AAAA4AAAArgAAAEMAAAA7AAAAPwAAAHUAAABtAAAAdQAAAFQAAAA1AAAALwAAAKMAAABeAAAAQQAAADQAAAB2AAAAaAAAAGAAAAApAAAASwAAAJMAAABGAAAAOwAAAEgAAACSAAAARgAAAEIAAABLAAAAfwAAAFkAAAC5AAAASgAAAFAAAABMAAAAmAAAAEYAAABIAAAARgAAAMQAAABMAAAAMgAAADcAAADEAAAAUwAAAFMAAABfAAAAowAAAEsAAABSAAAASQAAAKsAAABKAAAAOQAAAEsAAACHAAAARgAAADUAAAAtAAAAbAAAAFgAAAAzAAAANQAAAHwAAABSAAAALwAAAD8AAABbAAAARgAAADwAAACNAAAAXwAAADoAAABCAAAAiAAAADwAAABYAAAAaAAAAGcAAAA5AAAAggAAAEYAAABGAAAAQQAAAKsAAABFAAAALAAAAEoAAACdAAAAXQAAADUAAAA6AAAAogAAAFUAAAA/AAAAOgAAAMMAAABLAAAAQwAAAEYAAACkAAAAXwAAAEIAAAA0AAAAlQAAAGEAAAA8AAAAQAAAALoAAABTAAAARAAAADEAAACeAAAAOwAAACMAAAAzAAAAYgAAADcAAABJAAAANwAAALkAAABRAAAAWAAAAFAAAAC2AAAAdwAAAG4AAABsAAAAbwAAAIYAAADQAAAAWwAAANAAAAB6AAAAaQAAAG0AAACCAAAAWAAAABRzdGNvAAAAAAAAAAEAAAAwAAAAYnVkdGEAAABabWV0YQAAAAAAAAAhaGRscgAAAAAAAAAAbWRpcmFwcGwAAAAAAAAAAAAAAAAtaWxzdAAAACWpdG9vAAAAHWRhdGEAAAABAAAAAExhdmY1Ny44My4xMDA=\" type=\"video/mp4\" />\n",
              "                 </video>"
            ],
            "text/plain": [
              "<IPython.core.display.HTML object>"
            ]
          },
          "metadata": {}
        }
      ]
    },
    {
      "cell_type": "code",
      "source": [
        "torch.save(target_net.state_dict(), 'cartv1_target_net.torch')"
      ],
      "metadata": {
        "id": "R6NaplAP9WWo"
      },
      "execution_count": null,
      "outputs": []
    },
    {
      "cell_type": "code",
      "source": [
        "os.getcwd()"
      ],
      "metadata": {
        "colab": {
          "base_uri": "https://localhost:8080/",
          "height": 35
        },
        "id": "4HipBSiCoouG",
        "outputId": "5aaa710b-effc-4578-c356-b322b5753df4"
      },
      "execution_count": null,
      "outputs": [
        {
          "output_type": "execute_result",
          "data": {
            "application/vnd.google.colaboratory.intrinsic+json": {
              "type": "string"
            },
            "text/plain": [
              "'/content'"
            ]
          },
          "metadata": {},
          "execution_count": 54
        }
      ]
    },
    {
      "cell_type": "code",
      "source": [
        "!dir"
      ],
      "metadata": {
        "colab": {
          "base_uri": "https://localhost:8080/"
        },
        "id": "wGN_MIz4qCrG",
        "outputId": "ee2284d8-df89-4581-9653-566d67651391"
      },
      "execution_count": null,
      "outputs": [
        {
          "output_type": "stream",
          "name": "stdout",
          "text": [
            "cartv1_target_net.torch  cinfig.csv  sample_data  video\n"
          ]
        }
      ]
    },
    {
      "cell_type": "code",
      "source": [
        "gammas = df['gamma'].to_numpy()\n",
        "\n",
        "capacities = df['replay_memory_cap'].to_numpy()\n",
        "\n",
        "l_rates = df['l_rate'].to_numpy()\n",
        "\n",
        "t_net_updates = df['target_net_update'].to_numpy()\n",
        "\n",
        "batch_sizes = df['batch_size'].to_numpy()\n",
        "\n",
        "bad_state_penalties = df['bad_state_penalty'].to_numpy()\n",
        "\n",
        "m_samples_train = df['min_samples_for_train'].to_numpy()\n",
        "\n",
        "l_fun = df['loss_function'].to_numpy()\n",
        "\n",
        "betas = df['beta'].to_numpy()\n",
        "\n",
        "deltas = df['delta'].to_numpy()\n",
        "\n",
        "episodes = df['episodes'].to_numpy()\n",
        "\n",
        "scores = df['scores'].to_numpy()\n",
        "\n",
        "grads = df['gradients'].to_numpy()\n"
      ],
      "metadata": {
        "id": "B55OoyeElqLC"
      },
      "execution_count": null,
      "outputs": []
    },
    {
      "cell_type": "code",
      "source": [
        "type(exp_profiles[0])"
      ],
      "metadata": {
        "colab": {
          "base_uri": "https://localhost:8080/"
        },
        "id": "cOil-mYiucCS",
        "outputId": "7bb3a11b-11bf-441c-d414-5a35181ade52"
      },
      "execution_count": null,
      "outputs": [
        {
          "output_type": "execute_result",
          "data": {
            "text/plain": [
              "list"
            ]
          },
          "metadata": {},
          "execution_count": 84
        }
      ]
    },
    {
      "cell_type": "code",
      "source": [
        "exp_profiles"
      ],
      "metadata": {
        "colab": {
          "base_uri": "https://localhost:8080/"
        },
        "id": "I7bAHBiGtTYz",
        "outputId": "a82949d0-4057-4d17-c6bf-ecaaf3e9913a"
      },
      "execution_count": null,
      "outputs": [
        {
          "output_type": "execute_result",
          "data": {
            "text/plain": [
              "0    [5.0, 4.764319787410581, 4.539748607342401, 4....\n",
              "Name: explor_profile, dtype: object"
            ]
          },
          "metadata": {},
          "execution_count": 73
        }
      ]
    },
    {
      "cell_type": "code",
      "source": [
        "tmp = []\n",
        "for e_p in exp_profiles:\n",
        "  e_p = e_p[1:-1]\n",
        "  #e_p = e_p.split(', ')\n",
        "  tmp1 = []\n",
        "  for el in e_p:\n",
        "    tmp1.append((float)(el))\n",
        "    tmp.append(tmp1)\n",
        "  exp_profiles = np.array(tmp)"
      ],
      "metadata": {
        "id": "X3JzIdcQtY5m"
      },
      "execution_count": null,
      "outputs": []
    },
    {
      "cell_type": "code",
      "source": [
        "tmp = []\n",
        "for sc in scores:\n",
        "    sc = sc[1:-1]\n",
        "    #sc = sc.split(', ')\n",
        "    tmp1 = []\n",
        "    for s in sc:\n",
        "        tmp1.append((int)(s))\n",
        "    tmp.append(tmp1)\n",
        "scores = np.array(tmp, dtype=object)"
      ],
      "metadata": {
        "id": "emirs9_Exr-b"
      },
      "execution_count": null,
      "outputs": []
    },
    {
      "cell_type": "code",
      "source": [
        "tmp = []\n",
        "for gr in grads:\n",
        "    gr = gr[1:-1]\n",
        "    #gr = gr.split(', ')\n",
        "    tmp1 = []\n",
        "    for g in gr:\n",
        "        tmp1.append((float)(g))\n",
        "    tmp.append(tmp1)\n",
        "grads = np.array(tmp, dtype=object)"
      ],
      "metadata": {
        "id": "wiSRdRnIqSQN"
      },
      "execution_count": null,
      "outputs": []
    },
    {
      "cell_type": "code",
      "source": [
        "# Build moving average for the scores\n",
        "def moving_average(data_set, periods=3):\n",
        "    weights = np.ones(periods) / periods\n",
        "    return np.convolve(data_set, weights, mode='valid')"
      ],
      "metadata": {
        "id": "K-dj2dZA2W2S"
      },
      "execution_count": null,
      "outputs": []
    },
    {
      "cell_type": "code",
      "source": [
        "font = {'size': 14}\n",
        "plt.rc('font', **font)\n",
        "\n",
        "plt.figure(figsize=(12,13))\n",
        "\n",
        "for g, s, bsp, e, b, grad in zip(gammas, scores, bad_state_penalties, exp_profiles, betas, grads):\n",
        "    s_avg = moving_average(s, 20)\n",
        "    lab = fr'$\\gamma$: {g:.2f}, $\\tau_0$: {(int)(e[0])}, $\\beta$: {b}, bsp: {bsp} $\\rightarrow$ {len(s)} episodes'\n",
        "    plt.plot(s_avg, label=lab)\n",
        "\n",
        "plt.xlabel('Episode')\n",
        "plt.ylabel('Score')\n",
        "plt.legend()\n",
        "plt.grid()\n",
        "plt.show()"
      ],
      "metadata": {
        "colab": {
          "base_uri": "https://localhost:8080/",
          "height": 777
        },
        "id": "MBQoM4-J2qI4",
        "outputId": "07022dfb-dba3-4bbb-ac01-1a4c01d68abe"
      },
      "execution_count": null,
      "outputs": [
        {
          "output_type": "display_data",
          "data": {
            "image/png": "[encoded data removed]",
            "text/plain": [
              "<Figure size 864x936 with 1 Axes>"
            ]
          },
          "metadata": {
            "needs_background": "light"
          }
        }
      ]
    },
    {
      "cell_type": "code",
      "source": [
        "net = DQN(state_space_dim, action_space_dim)\n",
        "net.load_state_dict(torch.load('cartv1_target_net.torch'))"
      ],
      "metadata": {
        "id": "hrj0QWkR3NF8"
      },
      "execution_count": null,
      "outputs": []
    },
    {
      "cell_type": "code",
      "source": [
        "net = DQN2(state_space_dim, action_space_dim)\n",
        "net.load_state_dict(torch.load('cartv1_target_net.torch'))"
      ],
      "metadata": {
        "colab": {
          "base_uri": "https://localhost:8080/"
        },
        "id": "lB-xXj7s3wLX",
        "outputId": "aaf4983d-2b51-403e-a2fd-4f54d81653aa"
      },
      "execution_count": null,
      "outputs": [
        {
          "output_type": "execute_result",
          "data": {
            "text/plain": [
              "<All keys matched successfully>"
            ]
          },
          "metadata": {},
          "execution_count": 43
        }
      ]
    },
    {
      "cell_type": "code",
      "source": [
        "# Initialize the Gym environment\n",
        "env = gym.make('CartPole-v1') \n",
        "env.seed(1) # Set a random seed for the environment (reproducible results)\n",
        "\n",
        "# This is for creating the output video in Colab, not required outside Colab\n",
        "env = wrap_env(env, video_callable=lambda episode_id: True) # Save a video every episode\n",
        "\n",
        "# Let's try for a total of 10 episodes\n",
        "for num_episode in range(10): \n",
        "    # Reset the environment and get the initial state\n",
        "    state = env.reset()\n",
        "    # Reset the score. The final score will be the total amount of steps before the pole falls\n",
        "    score = 0\n",
        "    done = False\n",
        "    # Go on until the pole falls off or the score reach 490\n",
        "    while not done:\n",
        "      # Choose the best action (temperature 0)\n",
        "      action, q_values = choose_action_softmax(net, state, temperature=0)\n",
        "      # Apply the action and get the next state, the reward and a flag \"done\" that is True if the game is ended\n",
        "      next_state, reward, done, info = env.step(action)\n",
        "      # Visually render the environment\n",
        "      env.render()\n",
        "      # Update the final score (+1 for each step)\n",
        "      score += reward \n",
        "      # Set the current state for the next iteration\n",
        "      state = next_state\n",
        "      # Check if the episode ended (the pole fell down)\n",
        "    # Print the final score\n",
        "    print(f\"EPISODE {num_episode + 1} - FINAL SCORE: {score}\") \n",
        "env.close()"
      ],
      "metadata": {
        "id": "KQIzD5RJ3Zrp",
        "colab": {
          "base_uri": "https://localhost:8080/"
        },
        "outputId": "8b6369a0-8310-49a7-b0fb-82287c3a37a6"
      },
      "execution_count": null,
      "outputs": [
        {
          "output_type": "stream",
          "name": "stdout",
          "text": [
            "EPISODE 1 - FINAL SCORE: 500.0\n",
            "EPISODE 2 - FINAL SCORE: 500.0\n",
            "EPISODE 3 - FINAL SCORE: 500.0\n",
            "EPISODE 4 - FINAL SCORE: 500.0\n",
            "EPISODE 5 - FINAL SCORE: 500.0\n",
            "EPISODE 6 - FINAL SCORE: 500.0\n",
            "EPISODE 7 - FINAL SCORE: 500.0\n",
            "EPISODE 8 - FINAL SCORE: 500.0\n",
            "EPISODE 9 - FINAL SCORE: 500.0\n",
            "EPISODE 10 - FINAL SCORE: 500.0\n"
          ]
        }
      ]
    },
    {
      "cell_type": "code",
      "source": [],
      "metadata": {
        "id": "LvPcZXfN7dHd"
      },
      "execution_count": null,
      "outputs": []
    },
    {
      "cell_type": "code",
      "source": [],
      "metadata": {
        "id": "RemCJwZV7dky"
      },
      "execution_count": null,
      "outputs": []
    }
  ],
  "metadata": {
    "colab": {
      "provenance": [],
      "collapsed_sections": []
    },
    "kernelspec": {
      "display_name": "Python 3",
      "name": "python3"
    },
    "language_info": {
      "name": "python"
    },
    "widgets": {
      "application/vnd.jupyter.widget-state+json": {
        "45455de2a73b4a9cb55a4ee8e0644f8b": {
          "model_module": "@jupyter-widgets/controls",
          "model_name": "HBoxModel",
          "model_module_version": "1.5.0",
          "state": {
            "_view_name": "HBoxView",
            "_dom_classes": [],
            "_model_name": "HBoxModel",
            "_view_module": "@jupyter-widgets/controls",
            "_model_module_version": "1.5.0",
            "_view_count": null,
            "_view_module_version": "1.5.0",
            "box_style": "",
            "layout": "IPY_MODEL_7e1f3377609f4cb8bcab9475bd427b94",
            "_model_module": "@jupyter-widgets/controls",
            "children": [
              "IPY_MODEL_f213e0850ef048f0a59ea15a427e7590",
              "IPY_MODEL_26669a9209b64bc3ad8ea1f2bd2a823a",
              "IPY_MODEL_828e5cfc9cf849aa9be452bc2a569c4d"
            ]
          }
        },
        "7e1f3377609f4cb8bcab9475bd427b94": {
          "model_module": "@jupyter-widgets/base",
          "model_name": "LayoutModel",
          "model_module_version": "1.2.0",
          "state": {
            "_view_name": "LayoutView",
            "grid_template_rows": null,
            "right": null,
            "justify_content": null,
            "_view_module": "@jupyter-widgets/base",
            "overflow": null,
            "_model_module_version": "1.2.0",
            "_view_count": null,
            "flex_flow": null,
            "width": null,
            "min_width": null,
            "border": null,
            "align_items": null,
            "bottom": null,
            "_model_module": "@jupyter-widgets/base",
            "top": null,
            "grid_column": null,
            "overflow_y": null,
            "overflow_x": null,
            "grid_auto_flow": null,
            "grid_area": null,
            "grid_template_columns": null,
            "flex": null,
            "_model_name": "LayoutModel",
            "justify_items": null,
            "grid_row": null,
            "max_height": null,
            "align_content": null,
            "visibility": null,
            "align_self": null,
            "height": null,
            "min_height": null,
            "padding": null,
            "grid_auto_rows": null,
            "grid_gap": null,
            "max_width": null,
            "order": null,
            "_view_module_version": "1.2.0",
            "grid_template_areas": null,
            "object_position": null,
            "object_fit": null,
            "grid_auto_columns": null,
            "margin": null,
            "display": null,
            "left": null
          }
        },
        "f213e0850ef048f0a59ea15a427e7590": {
          "model_module": "@jupyter-widgets/controls",
          "model_name": "HTMLModel",
          "model_module_version": "1.5.0",
          "state": {
            "_view_name": "HTMLView",
            "style": "IPY_MODEL_ed9164d3dfdf4c2cb2974118b3b42b53",
            "_dom_classes": [],
            "description": "",
            "_model_name": "HTMLModel",
            "placeholder": "​",
            "_view_module": "@jupyter-widgets/controls",
            "_model_module_version": "1.5.0",
            "value": " 63%",
            "_view_count": null,
            "_view_module_version": "1.5.0",
            "description_tooltip": null,
            "_model_module": "@jupyter-widgets/controls",
            "layout": "IPY_MODEL_ade9f2ab4c1c464aae58b901c35d4fd9"
          }
        },
        "26669a9209b64bc3ad8ea1f2bd2a823a": {
          "model_module": "@jupyter-widgets/controls",
          "model_name": "FloatProgressModel",
          "model_module_version": "1.5.0",
          "state": {
            "_view_name": "ProgressView",
            "style": "IPY_MODEL_b1310763096245efa0d70a1d1c4583de",
            "_dom_classes": [],
            "description": "",
            "_model_name": "FloatProgressModel",
            "bar_style": "danger",
            "max": 1000,
            "_view_module": "@jupyter-widgets/controls",
            "_model_module_version": "1.5.0",
            "value": 633,
            "_view_count": null,
            "_view_module_version": "1.5.0",
            "orientation": "horizontal",
            "min": 0,
            "description_tooltip": null,
            "_model_module": "@jupyter-widgets/controls",
            "layout": "IPY_MODEL_03299d84dae84e3aa9ef340187ba8a1e"
          }
        },
        "828e5cfc9cf849aa9be452bc2a569c4d": {
          "model_module": "@jupyter-widgets/controls",
          "model_name": "HTMLModel",
          "model_module_version": "1.5.0",
          "state": {
            "_view_name": "HTMLView",
            "style": "IPY_MODEL_589b5f7a9597438db27e1788e7304e2e",
            "_dom_classes": [],
            "description": "",
            "_model_name": "HTMLModel",
            "placeholder": "​",
            "_view_module": "@jupyter-widgets/controls",
            "_model_module_version": "1.5.0",
            "value": " 633/1000 [12:34&lt;29:35,  4.84s/it]",
            "_view_count": null,
            "_view_module_version": "1.5.0",
            "description_tooltip": null,
            "_model_module": "@jupyter-widgets/controls",
            "layout": "IPY_MODEL_fb6ee7ff18954de5ad3572f3372e401a"
          }
        },
        "ed9164d3dfdf4c2cb2974118b3b42b53": {
          "model_module": "@jupyter-widgets/controls",
          "model_name": "DescriptionStyleModel",
          "model_module_version": "1.5.0",
          "state": {
            "_view_name": "StyleView",
            "_model_name": "DescriptionStyleModel",
            "description_width": "",
            "_view_module": "@jupyter-widgets/base",
            "_model_module_version": "1.5.0",
            "_view_count": null,
            "_view_module_version": "1.2.0",
            "_model_module": "@jupyter-widgets/controls"
          }
        },
        "ade9f2ab4c1c464aae58b901c35d4fd9": {
          "model_module": "@jupyter-widgets/base",
          "model_name": "LayoutModel",
          "model_module_version": "1.2.0",
          "state": {
            "_view_name": "LayoutView",
            "grid_template_rows": null,
            "right": null,
            "justify_content": null,
            "_view_module": "@jupyter-widgets/base",
            "overflow": null,
            "_model_module_version": "1.2.0",
            "_view_count": null,
            "flex_flow": null,
            "width": null,
            "min_width": null,
            "border": null,
            "align_items": null,
            "bottom": null,
            "_model_module": "@jupyter-widgets/base",
            "top": null,
            "grid_column": null,
            "overflow_y": null,
            "overflow_x": null,
            "grid_auto_flow": null,
            "grid_area": null,
            "grid_template_columns": null,
            "flex": null,
            "_model_name": "LayoutModel",
            "justify_items": null,
            "grid_row": null,
            "max_height": null,
            "align_content": null,
            "visibility": null,
            "align_self": null,
            "height": null,
            "min_height": null,
            "padding": null,
            "grid_auto_rows": null,
            "grid_gap": null,
            "max_width": null,
            "order": null,
            "_view_module_version": "1.2.0",
            "grid_template_areas": null,
            "object_position": null,
            "object_fit": null,
            "grid_auto_columns": null,
            "margin": null,
            "display": null,
            "left": null
          }
        },
        "b1310763096245efa0d70a1d1c4583de": {
          "model_module": "@jupyter-widgets/controls",
          "model_name": "ProgressStyleModel",
          "model_module_version": "1.5.0",
          "state": {
            "_view_name": "StyleView",
            "_model_name": "ProgressStyleModel",
            "description_width": "",
            "_view_module": "@jupyter-widgets/base",
            "_model_module_version": "1.5.0",
            "_view_count": null,
            "_view_module_version": "1.2.0",
            "bar_color": null,
            "_model_module": "@jupyter-widgets/controls"
          }
        },
        "03299d84dae84e3aa9ef340187ba8a1e": {
          "model_module": "@jupyter-widgets/base",
          "model_name": "LayoutModel",
          "model_module_version": "1.2.0",
          "state": {
            "_view_name": "LayoutView",
            "grid_template_rows": null,
            "right": null,
            "justify_content": null,
            "_view_module": "@jupyter-widgets/base",
            "overflow": null,
            "_model_module_version": "1.2.0",
            "_view_count": null,
            "flex_flow": null,
            "width": null,
            "min_width": null,
            "border": null,
            "align_items": null,
            "bottom": null,
            "_model_module": "@jupyter-widgets/base",
            "top": null,
            "grid_column": null,
            "overflow_y": null,
            "overflow_x": null,
            "grid_auto_flow": null,
            "grid_area": null,
            "grid_template_columns": null,
            "flex": null,
            "_model_name": "LayoutModel",
            "justify_items": null,
            "grid_row": null,
            "max_height": null,
            "align_content": null,
            "visibility": null,
            "align_self": null,
            "height": null,
            "min_height": null,
            "padding": null,
            "grid_auto_rows": null,
            "grid_gap": null,
            "max_width": null,
            "order": null,
            "_view_module_version": "1.2.0",
            "grid_template_areas": null,
            "object_position": null,
            "object_fit": null,
            "grid_auto_columns": null,
            "margin": null,
            "display": null,
            "left": null
          }
        },
        "589b5f7a9597438db27e1788e7304e2e": {
          "model_module": "@jupyter-widgets/controls",
          "model_name": "DescriptionStyleModel",
          "model_module_version": "1.5.0",
          "state": {
            "_view_name": "StyleView",
            "_model_name": "DescriptionStyleModel",
            "description_width": "",
            "_view_module": "@jupyter-widgets/base",
            "_model_module_version": "1.5.0",
            "_view_count": null,
            "_view_module_version": "1.2.0",
            "_model_module": "@jupyter-widgets/controls"
          }
        },
        "fb6ee7ff18954de5ad3572f3372e401a": {
          "model_module": "@jupyter-widgets/base",
          "model_name": "LayoutModel",
          "model_module_version": "1.2.0",
          "state": {
            "_view_name": "LayoutView",
            "grid_template_rows": null,
            "right": null,
            "justify_content": null,
            "_view_module": "@jupyter-widgets/base",
            "overflow": null,
            "_model_module_version": "1.2.0",
            "_view_count": null,
            "flex_flow": null,
            "width": null,
            "min_width": null,
            "border": null,
            "align_items": null,
            "bottom": null,
            "_model_module": "@jupyter-widgets/base",
            "top": null,
            "grid_column": null,
            "overflow_y": null,
            "overflow_x": null,
            "grid_auto_flow": null,
            "grid_area": null,
            "grid_template_columns": null,
            "flex": null,
            "_model_name": "LayoutModel",
            "justify_items": null,
            "grid_row": null,
            "max_height": null,
            "align_content": null,
            "visibility": null,
            "align_self": null,
            "height": null,
            "min_height": null,
            "padding": null,
            "grid_auto_rows": null,
            "grid_gap": null,
            "max_width": null,
            "order": null,
            "_view_module_version": "1.2.0",
            "grid_template_areas": null,
            "object_position": null,
            "object_fit": null,
            "grid_auto_columns": null,
            "margin": null,
            "display": null,
            "left": null
          }
        }
      }
    }
  },
  "nbformat": 4,
  "nbformat_minor": 0
}